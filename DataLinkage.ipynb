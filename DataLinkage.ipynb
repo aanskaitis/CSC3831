{
  "nbformat": 4,
  "nbformat_minor": 0,
  "metadata": {
    "colab": {
      "name": "DataLinkage.ipynb",
      "provenance": [],
      "authorship_tag": "ABX9TyNrBjBICAqt8qho3gPR9+54",
      "include_colab_link": true
    },
    "kernelspec": {
      "name": "python3",
      "display_name": "Python 3"
    },
    "language_info": {
      "name": "python"
    }
  },
  "cells": [
    {
      "cell_type": "markdown",
      "metadata": {
        "id": "view-in-github",
        "colab_type": "text"
      },
      "source": [
        "<a href=\"https://colab.research.google.com/github/aanskaitis/CSC3831/blob/main/DataLinkage.ipynb\" target=\"_parent\"><img src=\"https://colab.research.google.com/assets/colab-badge.svg\" alt=\"Open In Colab\"/></a>"
      ]
    },
    {
      "cell_type": "code",
      "metadata": {
        "colab": {
          "base_uri": "https://localhost:8080/"
        },
        "id": "TniH03AZB4pL",
        "outputId": "57790a95-516f-487f-ce2f-8ef76cbf58c6"
      },
      "source": [
        "pip install fuzzymatcher"
      ],
      "execution_count": null,
      "outputs": [
        {
          "output_type": "stream",
          "name": "stdout",
          "text": [
            "Collecting fuzzymatcher\n",
            "  Downloading fuzzymatcher-0.0.5-py3-none-any.whl (15 kB)\n",
            "Requirement already satisfied: pandas in /usr/local/lib/python3.7/dist-packages (from fuzzymatcher) (1.3.5)\n",
            "Requirement already satisfied: python-dateutil in /usr/local/lib/python3.7/dist-packages (from fuzzymatcher) (2.8.2)\n",
            "Collecting fuzzywuzzy\n",
            "  Downloading fuzzywuzzy-0.18.0-py2.py3-none-any.whl (18 kB)\n",
            "Collecting metaphone\n",
            "  Downloading Metaphone-0.6.tar.gz (14 kB)\n",
            "Collecting python-Levenshtein\n",
            "  Downloading python-Levenshtein-0.12.2.tar.gz (50 kB)\n",
            "\u001b[K     |████████████████████████████████| 50 kB 4.2 MB/s \n",
            "\u001b[?25hRequirement already satisfied: pytz>=2017.3 in /usr/local/lib/python3.7/dist-packages (from pandas->fuzzymatcher) (2018.9)\n",
            "Requirement already satisfied: numpy>=1.17.3 in /usr/local/lib/python3.7/dist-packages (from pandas->fuzzymatcher) (1.21.5)\n",
            "Requirement already satisfied: six>=1.5 in /usr/local/lib/python3.7/dist-packages (from python-dateutil->fuzzymatcher) (1.15.0)\n",
            "Requirement already satisfied: setuptools in /usr/local/lib/python3.7/dist-packages (from python-Levenshtein->fuzzymatcher) (57.4.0)\n",
            "Building wheels for collected packages: metaphone, python-Levenshtein\n",
            "  Building wheel for metaphone (setup.py) ... \u001b[?25l\u001b[?25hdone\n",
            "  Created wheel for metaphone: filename=Metaphone-0.6-py3-none-any.whl size=13918 sha256=bf6cebb36c9ab8a54cb3b86f6b0d8943b5ed903617353b31397737cb6e3e55ca\n",
            "  Stored in directory: /root/.cache/pip/wheels/1d/a8/cb/6f8902aa5457bd71344e00665c230e9c45255b3f57f2194a0f\n",
            "  Building wheel for python-Levenshtein (setup.py) ... \u001b[?25l\u001b[?25hdone\n",
            "  Created wheel for python-Levenshtein: filename=python_Levenshtein-0.12.2-cp37-cp37m-linux_x86_64.whl size=149856 sha256=d220b13086b6ee15a65d1fb7193d049cd9cdd69b830691bfb6bdc162d0199aa2\n",
            "  Stored in directory: /root/.cache/pip/wheels/05/5f/ca/7c4367734892581bb5ff896f15027a932c551080b2abd3e00d\n",
            "Successfully built metaphone python-Levenshtein\n",
            "Installing collected packages: python-Levenshtein, metaphone, fuzzywuzzy, fuzzymatcher\n",
            "Successfully installed fuzzymatcher-0.0.5 fuzzywuzzy-0.18.0 metaphone-0.6 python-Levenshtein-0.12.2\n"
          ]
        }
      ]
    },
    {
      "cell_type": "code",
      "metadata": {
        "colab": {
          "base_uri": "https://localhost:8080/"
        },
        "id": "QHujg_uyB8OD",
        "outputId": "14324ea2-2250-4021-c2f3-abd2bb6aa9ac"
      },
      "source": [
        "pip install recordlinkage"
      ],
      "execution_count": null,
      "outputs": [
        {
          "output_type": "stream",
          "name": "stdout",
          "text": [
            "Collecting recordlinkage\n",
            "  Downloading recordlinkage-0.14-py3-none-any.whl (944 kB)\n",
            "\u001b[?25l\r\u001b[K     |▍                               | 10 kB 15.2 MB/s eta 0:00:01\r\u001b[K     |▊                               | 20 kB 20.9 MB/s eta 0:00:01\r\u001b[K     |█                               | 30 kB 13.1 MB/s eta 0:00:01\r\u001b[K     |█▍                              | 40 kB 12.6 MB/s eta 0:00:01\r\u001b[K     |█▊                              | 51 kB 7.3 MB/s eta 0:00:01\r\u001b[K     |██                              | 61 kB 8.5 MB/s eta 0:00:01\r\u001b[K     |██▍                             | 71 kB 9.2 MB/s eta 0:00:01\r\u001b[K     |██▊                             | 81 kB 10.0 MB/s eta 0:00:01\r\u001b[K     |███▏                            | 92 kB 9.0 MB/s eta 0:00:01\r\u001b[K     |███▌                            | 102 kB 9.6 MB/s eta 0:00:01\r\u001b[K     |███▉                            | 112 kB 9.6 MB/s eta 0:00:01\r\u001b[K     |████▏                           | 122 kB 9.6 MB/s eta 0:00:01\r\u001b[K     |████▌                           | 133 kB 9.6 MB/s eta 0:00:01\r\u001b[K     |████▉                           | 143 kB 9.6 MB/s eta 0:00:01\r\u001b[K     |█████▏                          | 153 kB 9.6 MB/s eta 0:00:01\r\u001b[K     |█████▌                          | 163 kB 9.6 MB/s eta 0:00:01\r\u001b[K     |██████                          | 174 kB 9.6 MB/s eta 0:00:01\r\u001b[K     |██████▎                         | 184 kB 9.6 MB/s eta 0:00:01\r\u001b[K     |██████▋                         | 194 kB 9.6 MB/s eta 0:00:01\r\u001b[K     |███████                         | 204 kB 9.6 MB/s eta 0:00:01\r\u001b[K     |███████▎                        | 215 kB 9.6 MB/s eta 0:00:01\r\u001b[K     |███████▋                        | 225 kB 9.6 MB/s eta 0:00:01\r\u001b[K     |████████                        | 235 kB 9.6 MB/s eta 0:00:01\r\u001b[K     |████████▎                       | 245 kB 9.6 MB/s eta 0:00:01\r\u001b[K     |████████▊                       | 256 kB 9.6 MB/s eta 0:00:01\r\u001b[K     |█████████                       | 266 kB 9.6 MB/s eta 0:00:01\r\u001b[K     |█████████▍                      | 276 kB 9.6 MB/s eta 0:00:01\r\u001b[K     |█████████▊                      | 286 kB 9.6 MB/s eta 0:00:01\r\u001b[K     |██████████                      | 296 kB 9.6 MB/s eta 0:00:01\r\u001b[K     |██████████▍                     | 307 kB 9.6 MB/s eta 0:00:01\r\u001b[K     |██████████▊                     | 317 kB 9.6 MB/s eta 0:00:01\r\u001b[K     |███████████                     | 327 kB 9.6 MB/s eta 0:00:01\r\u001b[K     |███████████▌                    | 337 kB 9.6 MB/s eta 0:00:01\r\u001b[K     |███████████▉                    | 348 kB 9.6 MB/s eta 0:00:01\r\u001b[K     |████████████▏                   | 358 kB 9.6 MB/s eta 0:00:01\r\u001b[K     |████████████▌                   | 368 kB 9.6 MB/s eta 0:00:01\r\u001b[K     |████████████▉                   | 378 kB 9.6 MB/s eta 0:00:01\r\u001b[K     |█████████████▏                  | 389 kB 9.6 MB/s eta 0:00:01\r\u001b[K     |█████████████▌                  | 399 kB 9.6 MB/s eta 0:00:01\r\u001b[K     |█████████████▉                  | 409 kB 9.6 MB/s eta 0:00:01\r\u001b[K     |██████████████▎                 | 419 kB 9.6 MB/s eta 0:00:01\r\u001b[K     |██████████████▋                 | 430 kB 9.6 MB/s eta 0:00:01\r\u001b[K     |███████████████                 | 440 kB 9.6 MB/s eta 0:00:01\r\u001b[K     |███████████████▎                | 450 kB 9.6 MB/s eta 0:00:01\r\u001b[K     |███████████████▋                | 460 kB 9.6 MB/s eta 0:00:01\r\u001b[K     |████████████████                | 471 kB 9.6 MB/s eta 0:00:01\r\u001b[K     |████████████████▎               | 481 kB 9.6 MB/s eta 0:00:01\r\u001b[K     |████████████████▋               | 491 kB 9.6 MB/s eta 0:00:01\r\u001b[K     |█████████████████               | 501 kB 9.6 MB/s eta 0:00:01\r\u001b[K     |█████████████████▍              | 512 kB 9.6 MB/s eta 0:00:01\r\u001b[K     |█████████████████▊              | 522 kB 9.6 MB/s eta 0:00:01\r\u001b[K     |██████████████████              | 532 kB 9.6 MB/s eta 0:00:01\r\u001b[K     |██████████████████▍             | 542 kB 9.6 MB/s eta 0:00:01\r\u001b[K     |██████████████████▊             | 552 kB 9.6 MB/s eta 0:00:01\r\u001b[K     |███████████████████             | 563 kB 9.6 MB/s eta 0:00:01\r\u001b[K     |███████████████████▍            | 573 kB 9.6 MB/s eta 0:00:01\r\u001b[K     |███████████████████▊            | 583 kB 9.6 MB/s eta 0:00:01\r\u001b[K     |████████████████████▏           | 593 kB 9.6 MB/s eta 0:00:01\r\u001b[K     |████████████████████▌           | 604 kB 9.6 MB/s eta 0:00:01\r\u001b[K     |████████████████████▉           | 614 kB 9.6 MB/s eta 0:00:01\r\u001b[K     |█████████████████████▏          | 624 kB 9.6 MB/s eta 0:00:01\r\u001b[K     |█████████████████████▌          | 634 kB 9.6 MB/s eta 0:00:01\r\u001b[K     |█████████████████████▉          | 645 kB 9.6 MB/s eta 0:00:01\r\u001b[K     |██████████████████████▏         | 655 kB 9.6 MB/s eta 0:00:01\r\u001b[K     |██████████████████████▌         | 665 kB 9.6 MB/s eta 0:00:01\r\u001b[K     |███████████████████████         | 675 kB 9.6 MB/s eta 0:00:01\r\u001b[K     |███████████████████████▎        | 686 kB 9.6 MB/s eta 0:00:01\r\u001b[K     |███████████████████████▋        | 696 kB 9.6 MB/s eta 0:00:01\r\u001b[K     |████████████████████████        | 706 kB 9.6 MB/s eta 0:00:01\r\u001b[K     |████████████████████████▎       | 716 kB 9.6 MB/s eta 0:00:01\r\u001b[K     |████████████████████████▋       | 727 kB 9.6 MB/s eta 0:00:01\r\u001b[K     |█████████████████████████       | 737 kB 9.6 MB/s eta 0:00:01\r\u001b[K     |█████████████████████████▎      | 747 kB 9.6 MB/s eta 0:00:01\r\u001b[K     |█████████████████████████▊      | 757 kB 9.6 MB/s eta 0:00:01\r\u001b[K     |██████████████████████████      | 768 kB 9.6 MB/s eta 0:00:01\r\u001b[K     |██████████████████████████▍     | 778 kB 9.6 MB/s eta 0:00:01\r\u001b[K     |██████████████████████████▊     | 788 kB 9.6 MB/s eta 0:00:01\r\u001b[K     |███████████████████████████     | 798 kB 9.6 MB/s eta 0:00:01\r\u001b[K     |███████████████████████████▍    | 808 kB 9.6 MB/s eta 0:00:01\r\u001b[K     |███████████████████████████▊    | 819 kB 9.6 MB/s eta 0:00:01\r\u001b[K     |████████████████████████████    | 829 kB 9.6 MB/s eta 0:00:01\r\u001b[K     |████████████████████████████▌   | 839 kB 9.6 MB/s eta 0:00:01\r\u001b[K     |████████████████████████████▉   | 849 kB 9.6 MB/s eta 0:00:01\r\u001b[K     |█████████████████████████████▏  | 860 kB 9.6 MB/s eta 0:00:01\r\u001b[K     |█████████████████████████████▌  | 870 kB 9.6 MB/s eta 0:00:01\r\u001b[K     |█████████████████████████████▉  | 880 kB 9.6 MB/s eta 0:00:01\r\u001b[K     |██████████████████████████████▏ | 890 kB 9.6 MB/s eta 0:00:01\r\u001b[K     |██████████████████████████████▌ | 901 kB 9.6 MB/s eta 0:00:01\r\u001b[K     |██████████████████████████████▉ | 911 kB 9.6 MB/s eta 0:00:01\r\u001b[K     |███████████████████████████████▎| 921 kB 9.6 MB/s eta 0:00:01\r\u001b[K     |███████████████████████████████▋| 931 kB 9.6 MB/s eta 0:00:01\r\u001b[K     |████████████████████████████████| 942 kB 9.6 MB/s eta 0:00:01\r\u001b[K     |████████████████████████████████| 944 kB 9.6 MB/s \n",
            "\u001b[?25hRequirement already satisfied: scikit-learn>=0.19.0 in /usr/local/lib/python3.7/dist-packages (from recordlinkage) (1.0.2)\n",
            "Requirement already satisfied: pandas>=0.23 in /usr/local/lib/python3.7/dist-packages (from recordlinkage) (1.3.5)\n",
            "Collecting jellyfish>=0.5.4\n",
            "  Downloading jellyfish-0.9.0.tar.gz (132 kB)\n",
            "\u001b[K     |████████████████████████████████| 132 kB 55.2 MB/s \n",
            "\u001b[?25hRequirement already satisfied: numpy>=1.13.0 in /usr/local/lib/python3.7/dist-packages (from recordlinkage) (1.21.5)\n",
            "Requirement already satisfied: scipy>=1 in /usr/local/lib/python3.7/dist-packages (from recordlinkage) (1.4.1)\n",
            "Requirement already satisfied: joblib in /usr/local/lib/python3.7/dist-packages (from recordlinkage) (1.1.0)\n",
            "Requirement already satisfied: pytz>=2017.3 in /usr/local/lib/python3.7/dist-packages (from pandas>=0.23->recordlinkage) (2018.9)\n",
            "Requirement already satisfied: python-dateutil>=2.7.3 in /usr/local/lib/python3.7/dist-packages (from pandas>=0.23->recordlinkage) (2.8.2)\n",
            "Requirement already satisfied: six>=1.5 in /usr/local/lib/python3.7/dist-packages (from python-dateutil>=2.7.3->pandas>=0.23->recordlinkage) (1.15.0)\n",
            "Requirement already satisfied: threadpoolctl>=2.0.0 in /usr/local/lib/python3.7/dist-packages (from scikit-learn>=0.19.0->recordlinkage) (3.1.0)\n",
            "Building wheels for collected packages: jellyfish\n",
            "  Building wheel for jellyfish (setup.py) ... \u001b[?25l\u001b[?25hdone\n",
            "  Created wheel for jellyfish: filename=jellyfish-0.9.0-cp37-cp37m-linux_x86_64.whl size=73973 sha256=1e35942ce7cabed8f02f45766793b5a827b86bca2f72ef2dedd4c9404f2f075f\n",
            "  Stored in directory: /root/.cache/pip/wheels/fe/99/4e/646ce766df0d070b0ef04db27aa11543e2767fda3075aec31b\n",
            "Successfully built jellyfish\n",
            "Installing collected packages: jellyfish, recordlinkage\n",
            "Successfully installed jellyfish-0.9.0 recordlinkage-0.14\n"
          ]
        }
      ]
    },
    {
      "cell_type": "code",
      "metadata": {
        "id": "ceNkhqpWAhFR"
      },
      "source": [
        "import pandas as pd\n",
        "import fuzzymatcher\n",
        "import recordlinkage\n",
        "import time"
      ],
      "execution_count": null,
      "outputs": []
    },
    {
      "cell_type": "code",
      "metadata": {
        "id": "migcOvcgA48V"
      },
      "source": [
        "df_ACM = pd.read_csv('https://raw.githubusercontent.com/PaoloMissier/CSC3831-2021-22/main/LINKAGE/DATASETS/ACM.csv', index_col=0)\n",
        "df_DBLP = pd.read_csv('https://raw.githubusercontent.com/PaoloMissier/CSC3831-2021-22/main/LINKAGE/DATASETS/dblp.csv', index_col=0)"
      ],
      "execution_count": null,
      "outputs": []
    },
    {
      "cell_type": "code",
      "source": [
        "df_ACM.head()"
      ],
      "metadata": {
        "colab": {
          "base_uri": "https://localhost:8080/",
          "height": 337
        },
        "id": "IvzLKxr5R4BA",
        "outputId": "46387e50-a99d-4394-bc36-012c480dc6fb"
      },
      "execution_count": null,
      "outputs": [
        {
          "output_type": "execute_result",
          "data": {
            "text/plain": [
              "       id                                              title  \\\n",
              "0  304586  The WASA2 object-oriented workflow management ...   \n",
              "1  304587  A user-centered interface for querying distrib...   \n",
              "2  304589  World Wide Database-integrating the Web, CORBA...   \n",
              "3  304590           XML-based information mediation with MIX   \n",
              "4  304582  The CCUBE constraint object-oriented database ...   \n",
              "\n",
              "                                             authors  \\\n",
              "0                    Gottfried Vossen, Mathias Weske   \n",
              "1                  Isabel F. Cruz, Kimberly M. James   \n",
              "2  Athman Bouguettaya, Boualem Benatallah, Lily H...   \n",
              "3  Chaitan Baru, Amarnath Gupta, Bertram Lud&#228...   \n",
              "4  Alexander Brodsky, Victor E. Segal, Jia Chen, ...   \n",
              "\n",
              "                                            venue  year  \n",
              "0  International Conference on Management of Data  1999  \n",
              "1  International Conference on Management of Data  1999  \n",
              "2  International Conference on Management of Data  1999  \n",
              "3  International Conference on Management of Data  1999  \n",
              "4  International Conference on Management of Data  1999  "
            ],
            "text/html": [
              "\n",
              "  <div id=\"df-9cfb5f17-a557-4e26-ad0d-e533c03d5a2f\">\n",
              "    <div class=\"colab-df-container\">\n",
              "      <div>\n",
              "<style scoped>\n",
              "    .dataframe tbody tr th:only-of-type {\n",
              "        vertical-align: middle;\n",
              "    }\n",
              "\n",
              "    .dataframe tbody tr th {\n",
              "        vertical-align: top;\n",
              "    }\n",
              "\n",
              "    .dataframe thead th {\n",
              "        text-align: right;\n",
              "    }\n",
              "</style>\n",
              "<table border=\"1\" class=\"dataframe\">\n",
              "  <thead>\n",
              "    <tr style=\"text-align: right;\">\n",
              "      <th></th>\n",
              "      <th>id</th>\n",
              "      <th>title</th>\n",
              "      <th>authors</th>\n",
              "      <th>venue</th>\n",
              "      <th>year</th>\n",
              "    </tr>\n",
              "  </thead>\n",
              "  <tbody>\n",
              "    <tr>\n",
              "      <th>0</th>\n",
              "      <td>304586</td>\n",
              "      <td>The WASA2 object-oriented workflow management ...</td>\n",
              "      <td>Gottfried Vossen, Mathias Weske</td>\n",
              "      <td>International Conference on Management of Data</td>\n",
              "      <td>1999</td>\n",
              "    </tr>\n",
              "    <tr>\n",
              "      <th>1</th>\n",
              "      <td>304587</td>\n",
              "      <td>A user-centered interface for querying distrib...</td>\n",
              "      <td>Isabel F. Cruz, Kimberly M. James</td>\n",
              "      <td>International Conference on Management of Data</td>\n",
              "      <td>1999</td>\n",
              "    </tr>\n",
              "    <tr>\n",
              "      <th>2</th>\n",
              "      <td>304589</td>\n",
              "      <td>World Wide Database-integrating the Web, CORBA...</td>\n",
              "      <td>Athman Bouguettaya, Boualem Benatallah, Lily H...</td>\n",
              "      <td>International Conference on Management of Data</td>\n",
              "      <td>1999</td>\n",
              "    </tr>\n",
              "    <tr>\n",
              "      <th>3</th>\n",
              "      <td>304590</td>\n",
              "      <td>XML-based information mediation with MIX</td>\n",
              "      <td>Chaitan Baru, Amarnath Gupta, Bertram Lud&amp;#228...</td>\n",
              "      <td>International Conference on Management of Data</td>\n",
              "      <td>1999</td>\n",
              "    </tr>\n",
              "    <tr>\n",
              "      <th>4</th>\n",
              "      <td>304582</td>\n",
              "      <td>The CCUBE constraint object-oriented database ...</td>\n",
              "      <td>Alexander Brodsky, Victor E. Segal, Jia Chen, ...</td>\n",
              "      <td>International Conference on Management of Data</td>\n",
              "      <td>1999</td>\n",
              "    </tr>\n",
              "  </tbody>\n",
              "</table>\n",
              "</div>\n",
              "      <button class=\"colab-df-convert\" onclick=\"convertToInteractive('df-9cfb5f17-a557-4e26-ad0d-e533c03d5a2f')\"\n",
              "              title=\"Convert this dataframe to an interactive table.\"\n",
              "              style=\"display:none;\">\n",
              "        \n",
              "  <svg xmlns=\"http://www.w3.org/2000/svg\" height=\"24px\"viewBox=\"0 0 24 24\"\n",
              "       width=\"24px\">\n",
              "    <path d=\"M0 0h24v24H0V0z\" fill=\"none\"/>\n",
              "    <path d=\"M18.56 5.44l.94 2.06.94-2.06 2.06-.94-2.06-.94-.94-2.06-.94 2.06-2.06.94zm-11 1L8.5 8.5l.94-2.06 2.06-.94-2.06-.94L8.5 2.5l-.94 2.06-2.06.94zm10 10l.94 2.06.94-2.06 2.06-.94-2.06-.94-.94-2.06-.94 2.06-2.06.94z\"/><path d=\"M17.41 7.96l-1.37-1.37c-.4-.4-.92-.59-1.43-.59-.52 0-1.04.2-1.43.59L10.3 9.45l-7.72 7.72c-.78.78-.78 2.05 0 2.83L4 21.41c.39.39.9.59 1.41.59.51 0 1.02-.2 1.41-.59l7.78-7.78 2.81-2.81c.8-.78.8-2.07 0-2.86zM5.41 20L4 18.59l7.72-7.72 1.47 1.35L5.41 20z\"/>\n",
              "  </svg>\n",
              "      </button>\n",
              "      \n",
              "  <style>\n",
              "    .colab-df-container {\n",
              "      display:flex;\n",
              "      flex-wrap:wrap;\n",
              "      gap: 12px;\n",
              "    }\n",
              "\n",
              "    .colab-df-convert {\n",
              "      background-color: #E8F0FE;\n",
              "      border: none;\n",
              "      border-radius: 50%;\n",
              "      cursor: pointer;\n",
              "      display: none;\n",
              "      fill: #1967D2;\n",
              "      height: 32px;\n",
              "      padding: 0 0 0 0;\n",
              "      width: 32px;\n",
              "    }\n",
              "\n",
              "    .colab-df-convert:hover {\n",
              "      background-color: #E2EBFA;\n",
              "      box-shadow: 0px 1px 2px rgba(60, 64, 67, 0.3), 0px 1px 3px 1px rgba(60, 64, 67, 0.15);\n",
              "      fill: #174EA6;\n",
              "    }\n",
              "\n",
              "    [theme=dark] .colab-df-convert {\n",
              "      background-color: #3B4455;\n",
              "      fill: #D2E3FC;\n",
              "    }\n",
              "\n",
              "    [theme=dark] .colab-df-convert:hover {\n",
              "      background-color: #434B5C;\n",
              "      box-shadow: 0px 1px 3px 1px rgba(0, 0, 0, 0.15);\n",
              "      filter: drop-shadow(0px 1px 2px rgba(0, 0, 0, 0.3));\n",
              "      fill: #FFFFFF;\n",
              "    }\n",
              "  </style>\n",
              "\n",
              "      <script>\n",
              "        const buttonEl =\n",
              "          document.querySelector('#df-9cfb5f17-a557-4e26-ad0d-e533c03d5a2f button.colab-df-convert');\n",
              "        buttonEl.style.display =\n",
              "          google.colab.kernel.accessAllowed ? 'block' : 'none';\n",
              "\n",
              "        async function convertToInteractive(key) {\n",
              "          const element = document.querySelector('#df-9cfb5f17-a557-4e26-ad0d-e533c03d5a2f');\n",
              "          const dataTable =\n",
              "            await google.colab.kernel.invokeFunction('convertToInteractive',\n",
              "                                                     [key], {});\n",
              "          if (!dataTable) return;\n",
              "\n",
              "          const docLinkHtml = 'Like what you see? Visit the ' +\n",
              "            '<a target=\"_blank\" href=https://colab.research.google.com/notebooks/data_table.ipynb>data table notebook</a>'\n",
              "            + ' to learn more about interactive tables.';\n",
              "          element.innerHTML = '';\n",
              "          dataTable['output_type'] = 'display_data';\n",
              "          await google.colab.output.renderOutput(dataTable, element);\n",
              "          const docLink = document.createElement('div');\n",
              "          docLink.innerHTML = docLinkHtml;\n",
              "          element.appendChild(docLink);\n",
              "        }\n",
              "      </script>\n",
              "    </div>\n",
              "  </div>\n",
              "  "
            ]
          },
          "metadata": {},
          "execution_count": 20
        }
      ]
    },
    {
      "cell_type": "code",
      "source": [
        "df_DBLP.head()"
      ],
      "metadata": {
        "colab": {
          "base_uri": "https://localhost:8080/",
          "height": 206
        },
        "id": "12d-711lFECw",
        "outputId": "932a17ac-6fbb-409b-d181-5e0d368125b8"
      },
      "execution_count": null,
      "outputs": [
        {
          "output_type": "execute_result",
          "data": {
            "text/plain": [
              "                         id  \\\n",
              "0  journals/sigmod/Mackay99   \n",
              "1      conf/vldb/PoosalaI96   \n",
              "2   conf/vldb/PalpanasSCP02   \n",
              "3    conf/vldb/GardarinGT96   \n",
              "4         conf/vldb/HoelS95   \n",
              "\n",
              "                                               title  \\\n",
              "0  Semantic Integration of Environmental Models f...   \n",
              "1  Estimation of Query-Result Distribution and it...   \n",
              "2  Incremental Maintenance for Non-Distributive A...   \n",
              "3  Cost-based Selection of Path Expression Proces...   \n",
              "4  Benchmarking Spatial Join Operations with Spat...   \n",
              "\n",
              "                                             authors          venue  year  \n",
              "0                                    D. Scott Mackay  SIGMOD Record  1999  \n",
              "1             Viswanath Poosala, Yannis E. Ioannidis           VLDB  1996  \n",
              "2  Themistoklis Palpanas, Richard Sidle, Hamid Pi...           VLDB  2002  \n",
              "3  Zhao-Hui Tang, Georges Gardarin, Jean-Robert G...           VLDB  1996  \n",
              "4                          Erik G. Hoel, Hanan Samet           VLDB  1995  "
            ],
            "text/html": [
              "\n",
              "  <div id=\"df-966c5250-be80-44f0-a151-a2e0ee72b774\">\n",
              "    <div class=\"colab-df-container\">\n",
              "      <div>\n",
              "<style scoped>\n",
              "    .dataframe tbody tr th:only-of-type {\n",
              "        vertical-align: middle;\n",
              "    }\n",
              "\n",
              "    .dataframe tbody tr th {\n",
              "        vertical-align: top;\n",
              "    }\n",
              "\n",
              "    .dataframe thead th {\n",
              "        text-align: right;\n",
              "    }\n",
              "</style>\n",
              "<table border=\"1\" class=\"dataframe\">\n",
              "  <thead>\n",
              "    <tr style=\"text-align: right;\">\n",
              "      <th></th>\n",
              "      <th>id</th>\n",
              "      <th>title</th>\n",
              "      <th>authors</th>\n",
              "      <th>venue</th>\n",
              "      <th>year</th>\n",
              "    </tr>\n",
              "  </thead>\n",
              "  <tbody>\n",
              "    <tr>\n",
              "      <th>0</th>\n",
              "      <td>journals/sigmod/Mackay99</td>\n",
              "      <td>Semantic Integration of Environmental Models f...</td>\n",
              "      <td>D. Scott Mackay</td>\n",
              "      <td>SIGMOD Record</td>\n",
              "      <td>1999</td>\n",
              "    </tr>\n",
              "    <tr>\n",
              "      <th>1</th>\n",
              "      <td>conf/vldb/PoosalaI96</td>\n",
              "      <td>Estimation of Query-Result Distribution and it...</td>\n",
              "      <td>Viswanath Poosala, Yannis E. Ioannidis</td>\n",
              "      <td>VLDB</td>\n",
              "      <td>1996</td>\n",
              "    </tr>\n",
              "    <tr>\n",
              "      <th>2</th>\n",
              "      <td>conf/vldb/PalpanasSCP02</td>\n",
              "      <td>Incremental Maintenance for Non-Distributive A...</td>\n",
              "      <td>Themistoklis Palpanas, Richard Sidle, Hamid Pi...</td>\n",
              "      <td>VLDB</td>\n",
              "      <td>2002</td>\n",
              "    </tr>\n",
              "    <tr>\n",
              "      <th>3</th>\n",
              "      <td>conf/vldb/GardarinGT96</td>\n",
              "      <td>Cost-based Selection of Path Expression Proces...</td>\n",
              "      <td>Zhao-Hui Tang, Georges Gardarin, Jean-Robert G...</td>\n",
              "      <td>VLDB</td>\n",
              "      <td>1996</td>\n",
              "    </tr>\n",
              "    <tr>\n",
              "      <th>4</th>\n",
              "      <td>conf/vldb/HoelS95</td>\n",
              "      <td>Benchmarking Spatial Join Operations with Spat...</td>\n",
              "      <td>Erik G. Hoel, Hanan Samet</td>\n",
              "      <td>VLDB</td>\n",
              "      <td>1995</td>\n",
              "    </tr>\n",
              "  </tbody>\n",
              "</table>\n",
              "</div>\n",
              "      <button class=\"colab-df-convert\" onclick=\"convertToInteractive('df-966c5250-be80-44f0-a151-a2e0ee72b774')\"\n",
              "              title=\"Convert this dataframe to an interactive table.\"\n",
              "              style=\"display:none;\">\n",
              "        \n",
              "  <svg xmlns=\"http://www.w3.org/2000/svg\" height=\"24px\"viewBox=\"0 0 24 24\"\n",
              "       width=\"24px\">\n",
              "    <path d=\"M0 0h24v24H0V0z\" fill=\"none\"/>\n",
              "    <path d=\"M18.56 5.44l.94 2.06.94-2.06 2.06-.94-2.06-.94-.94-2.06-.94 2.06-2.06.94zm-11 1L8.5 8.5l.94-2.06 2.06-.94-2.06-.94L8.5 2.5l-.94 2.06-2.06.94zm10 10l.94 2.06.94-2.06 2.06-.94-2.06-.94-.94-2.06-.94 2.06-2.06.94z\"/><path d=\"M17.41 7.96l-1.37-1.37c-.4-.4-.92-.59-1.43-.59-.52 0-1.04.2-1.43.59L10.3 9.45l-7.72 7.72c-.78.78-.78 2.05 0 2.83L4 21.41c.39.39.9.59 1.41.59.51 0 1.02-.2 1.41-.59l7.78-7.78 2.81-2.81c.8-.78.8-2.07 0-2.86zM5.41 20L4 18.59l7.72-7.72 1.47 1.35L5.41 20z\"/>\n",
              "  </svg>\n",
              "      </button>\n",
              "      \n",
              "  <style>\n",
              "    .colab-df-container {\n",
              "      display:flex;\n",
              "      flex-wrap:wrap;\n",
              "      gap: 12px;\n",
              "    }\n",
              "\n",
              "    .colab-df-convert {\n",
              "      background-color: #E8F0FE;\n",
              "      border: none;\n",
              "      border-radius: 50%;\n",
              "      cursor: pointer;\n",
              "      display: none;\n",
              "      fill: #1967D2;\n",
              "      height: 32px;\n",
              "      padding: 0 0 0 0;\n",
              "      width: 32px;\n",
              "    }\n",
              "\n",
              "    .colab-df-convert:hover {\n",
              "      background-color: #E2EBFA;\n",
              "      box-shadow: 0px 1px 2px rgba(60, 64, 67, 0.3), 0px 1px 3px 1px rgba(60, 64, 67, 0.15);\n",
              "      fill: #174EA6;\n",
              "    }\n",
              "\n",
              "    [theme=dark] .colab-df-convert {\n",
              "      background-color: #3B4455;\n",
              "      fill: #D2E3FC;\n",
              "    }\n",
              "\n",
              "    [theme=dark] .colab-df-convert:hover {\n",
              "      background-color: #434B5C;\n",
              "      box-shadow: 0px 1px 3px 1px rgba(0, 0, 0, 0.15);\n",
              "      filter: drop-shadow(0px 1px 2px rgba(0, 0, 0, 0.3));\n",
              "      fill: #FFFFFF;\n",
              "    }\n",
              "  </style>\n",
              "\n",
              "      <script>\n",
              "        const buttonEl =\n",
              "          document.querySelector('#df-966c5250-be80-44f0-a151-a2e0ee72b774 button.colab-df-convert');\n",
              "        buttonEl.style.display =\n",
              "          google.colab.kernel.accessAllowed ? 'block' : 'none';\n",
              "\n",
              "        async function convertToInteractive(key) {\n",
              "          const element = document.querySelector('#df-966c5250-be80-44f0-a151-a2e0ee72b774');\n",
              "          const dataTable =\n",
              "            await google.colab.kernel.invokeFunction('convertToInteractive',\n",
              "                                                     [key], {});\n",
              "          if (!dataTable) return;\n",
              "\n",
              "          const docLinkHtml = 'Like what you see? Visit the ' +\n",
              "            '<a target=\"_blank\" href=https://colab.research.google.com/notebooks/data_table.ipynb>data table notebook</a>'\n",
              "            + ' to learn more about interactive tables.';\n",
              "          element.innerHTML = '';\n",
              "          dataTable['output_type'] = 'display_data';\n",
              "          await google.colab.output.renderOutput(dataTable, element);\n",
              "          const docLink = document.createElement('div');\n",
              "          docLink.innerHTML = docLinkHtml;\n",
              "          element.appendChild(docLink);\n",
              "        }\n",
              "      </script>\n",
              "    </div>\n",
              "  </div>\n",
              "  "
            ]
          },
          "metadata": {},
          "execution_count": 19
        }
      ]
    },
    {
      "cell_type": "markdown",
      "metadata": {
        "id": "83Q8halFES9D"
      },
      "source": [
        "Check how many missing values do we have."
      ]
    },
    {
      "cell_type": "code",
      "metadata": {
        "colab": {
          "base_uri": "https://localhost:8080/"
        },
        "id": "aYOKLj5wEXaf",
        "outputId": "8455f70b-eccf-4650-ae06-8a1481849801"
      },
      "source": [
        "df_ACM.isna().sum()"
      ],
      "execution_count": null,
      "outputs": [
        {
          "output_type": "execute_result",
          "data": {
            "text/plain": [
              "id          0\n",
              "title       0\n",
              "authors    14\n",
              "venue       0\n",
              "year        0\n",
              "dtype: int64"
            ]
          },
          "metadata": {},
          "execution_count": 21
        }
      ]
    },
    {
      "cell_type": "code",
      "metadata": {
        "colab": {
          "base_uri": "https://localhost:8080/"
        },
        "id": "mH-rluB0EbxS",
        "outputId": "33c44bae-6cfb-4ac2-fd11-1eec56d025ff"
      },
      "source": [
        "df_DBLP.isna().sum()"
      ],
      "execution_count": null,
      "outputs": [
        {
          "output_type": "execute_result",
          "data": {
            "text/plain": [
              "id         0\n",
              "title      0\n",
              "authors    0\n",
              "venue      0\n",
              "year       0\n",
              "dtype: int64"
            ]
          },
          "metadata": {},
          "execution_count": 7
        }
      ]
    },
    {
      "cell_type": "markdown",
      "metadata": {
        "id": "zu1_4rjuEiiw"
      },
      "source": [
        "We have 14 missing authors in ACM dataset. Check rows with missing values to see if we can draw any conclusions about their missingness."
      ]
    },
    {
      "cell_type": "code",
      "metadata": {
        "colab": {
          "base_uri": "https://localhost:8080/",
          "height": 488
        },
        "id": "0P_a1hwnE0ar",
        "outputId": "7b6dea20-f7ee-4a0e-a2ed-d7bc3aadafc5"
      },
      "source": [
        "df_ACM[df_ACM['authors'].isna()]"
      ],
      "execution_count": null,
      "outputs": [
        {
          "output_type": "execute_result",
          "data": {
            "text/html": [
              "<div>\n",
              "<style scoped>\n",
              "    .dataframe tbody tr th:only-of-type {\n",
              "        vertical-align: middle;\n",
              "    }\n",
              "\n",
              "    .dataframe tbody tr th {\n",
              "        vertical-align: top;\n",
              "    }\n",
              "\n",
              "    .dataframe thead th {\n",
              "        text-align: right;\n",
              "    }\n",
              "</style>\n",
              "<table border=\"1\" class=\"dataframe\">\n",
              "  <thead>\n",
              "    <tr style=\"text-align: right;\">\n",
              "      <th></th>\n",
              "      <th>id</th>\n",
              "      <th>title</th>\n",
              "      <th>authors</th>\n",
              "      <th>venue</th>\n",
              "      <th>year</th>\n",
              "    </tr>\n",
              "  </thead>\n",
              "  <tbody>\n",
              "    <tr>\n",
              "      <th>884</th>\n",
              "      <td>671838</td>\n",
              "      <td>High-Performance and Scalability through Appli...</td>\n",
              "      <td>NaN</td>\n",
              "      <td>Very Large Data Bases</td>\n",
              "      <td>2000</td>\n",
              "    </tr>\n",
              "    <tr>\n",
              "      <th>1146</th>\n",
              "      <td>673478</td>\n",
              "      <td>MineSet(tm): A System for High-End Data Mining...</td>\n",
              "      <td>NaN</td>\n",
              "      <td>Very Large Data Bases</td>\n",
              "      <td>1996</td>\n",
              "    </tr>\n",
              "    <tr>\n",
              "      <th>2128</th>\n",
              "      <td>959075</td>\n",
              "      <td>Database principles</td>\n",
              "      <td>NaN</td>\n",
              "      <td>ACM SIGMOD Record</td>\n",
              "      <td>2003</td>\n",
              "    </tr>\n",
              "    <tr>\n",
              "      <th>2129</th>\n",
              "      <td>959077</td>\n",
              "      <td>Book reviews</td>\n",
              "      <td>NaN</td>\n",
              "      <td>ACM SIGMOD Record</td>\n",
              "      <td>2003</td>\n",
              "    </tr>\n",
              "    <tr>\n",
              "      <th>2130</th>\n",
              "      <td>959082</td>\n",
              "      <td>Reports</td>\n",
              "      <td>NaN</td>\n",
              "      <td>ACM SIGMOD Record</td>\n",
              "      <td>2003</td>\n",
              "    </tr>\n",
              "    <tr>\n",
              "      <th>2131</th>\n",
              "      <td>945726</td>\n",
              "      <td>Special topic section on peer to peer data man...</td>\n",
              "      <td>NaN</td>\n",
              "      <td>ACM SIGMOD Record</td>\n",
              "      <td>2003</td>\n",
              "    </tr>\n",
              "    <tr>\n",
              "      <th>2132</th>\n",
              "      <td>945738</td>\n",
              "      <td>Standards</td>\n",
              "      <td>NaN</td>\n",
              "      <td>ACM SIGMOD Record</td>\n",
              "      <td>2003</td>\n",
              "    </tr>\n",
              "    <tr>\n",
              "      <th>2133</th>\n",
              "      <td>945740</td>\n",
              "      <td>Book reviews</td>\n",
              "      <td>NaN</td>\n",
              "      <td>ACM SIGMOD Record</td>\n",
              "      <td>2003</td>\n",
              "    </tr>\n",
              "    <tr>\n",
              "      <th>2134</th>\n",
              "      <td>959063</td>\n",
              "      <td>Special section on sensor network technology a...</td>\n",
              "      <td>NaN</td>\n",
              "      <td>ACM SIGMOD Record</td>\n",
              "      <td>2003</td>\n",
              "    </tr>\n",
              "    <tr>\n",
              "      <th>2136</th>\n",
              "      <td>758376</td>\n",
              "      <td>Author Index</td>\n",
              "      <td>NaN</td>\n",
              "      <td>Very Large Data Bases</td>\n",
              "      <td>2000</td>\n",
              "    </tr>\n",
              "    <tr>\n",
              "      <th>2139</th>\n",
              "      <td>671674</td>\n",
              "      <td>Ordering Information, Conference Organizers, P...</td>\n",
              "      <td>NaN</td>\n",
              "      <td>Very Large Data Bases</td>\n",
              "      <td>2000</td>\n",
              "    </tr>\n",
              "    <tr>\n",
              "      <th>2145</th>\n",
              "      <td>615225</td>\n",
              "      <td>Special issue on persistent object systems</td>\n",
              "      <td>NaN</td>\n",
              "      <td>The VLDB Journal &amp;mdash; The International Jou...</td>\n",
              "      <td>1995</td>\n",
              "    </tr>\n",
              "    <tr>\n",
              "      <th>2148</th>\n",
              "      <td>604281</td>\n",
              "      <td>Systems and prototypes</td>\n",
              "      <td>NaN</td>\n",
              "      <td>ACM SIGMOD Record</td>\n",
              "      <td>2001</td>\n",
              "    </tr>\n",
              "    <tr>\n",
              "      <th>2150</th>\n",
              "      <td>603868</td>\n",
              "      <td>Special section on advanced XML data processing</td>\n",
              "      <td>NaN</td>\n",
              "      <td>ACM SIGMOD Record</td>\n",
              "      <td>2001</td>\n",
              "    </tr>\n",
              "  </tbody>\n",
              "</table>\n",
              "</div>"
            ],
            "text/plain": [
              "          id  ...  year\n",
              "884   671838  ...  2000\n",
              "1146  673478  ...  1996\n",
              "2128  959075  ...  2003\n",
              "2129  959077  ...  2003\n",
              "2130  959082  ...  2003\n",
              "2131  945726  ...  2003\n",
              "2132  945738  ...  2003\n",
              "2133  945740  ...  2003\n",
              "2134  959063  ...  2003\n",
              "2136  758376  ...  2000\n",
              "2139  671674  ...  2000\n",
              "2145  615225  ...  1995\n",
              "2148  604281  ...  2001\n",
              "2150  603868  ...  2001\n",
              "\n",
              "[14 rows x 5 columns]"
            ]
          },
          "metadata": {},
          "execution_count": 8
        }
      ]
    },
    {
      "cell_type": "markdown",
      "metadata": {
        "id": "C-NJQcujFXFt"
      },
      "source": [
        "Some titles like 'Author Index' or 'Standards' might suggest that these are not actual publications and were accidentally included in the dataset, although we cannot guarantee that. Remove rows with missing authors so that it doesn't interfere with our record linkage process. "
      ]
    },
    {
      "cell_type": "code",
      "metadata": {
        "id": "i1mQ397uGN5a"
      },
      "source": [
        "df_ACM = df_ACM.dropna()"
      ],
      "execution_count": null,
      "outputs": []
    },
    {
      "cell_type": "markdown",
      "metadata": {
        "id": "GUh8pVTIClGf"
      },
      "source": [
        "Check how many records we have left in each dataframe."
      ]
    },
    {
      "cell_type": "code",
      "metadata": {
        "colab": {
          "base_uri": "https://localhost:8080/"
        },
        "id": "HumXXDbiCSf5",
        "outputId": "a06e173b-e178-4be6-e436-5d56f04a6e40"
      },
      "source": [
        "print(f'Number of records in ACM dataset: {len(df_ACM)}')\n",
        "print(f'Number of records in DBLP dataset: {len(df_DBLP)}')"
      ],
      "execution_count": null,
      "outputs": [
        {
          "output_type": "stream",
          "name": "stdout",
          "text": [
            "Number of records in ACM dataset: 2280\n",
            "Number of records in DBLP dataset: 2616\n"
          ]
        }
      ]
    },
    {
      "cell_type": "markdown",
      "metadata": {
        "id": "TAHU_c0iDft6"
      },
      "source": [
        "Print several authors from both dataframes starting with AL to get a general view"
      ]
    },
    {
      "cell_type": "code",
      "metadata": {
        "colab": {
          "base_uri": "https://localhost:8080/",
          "height": 676
        },
        "id": "0H0ceTo1BJvl",
        "outputId": "7e5ac4af-3658-40a8-bce2-c175c8bc9690"
      },
      "source": [
        "mask = df_ACM['authors'].str.startswith('Al')\n",
        "df_ACM[mask].sort_values(by='authors')[['authors', 'title']].head(20)"
      ],
      "execution_count": null,
      "outputs": [
        {
          "output_type": "execute_result",
          "data": {
            "text/html": [
              "<div>\n",
              "<style scoped>\n",
              "    .dataframe tbody tr th:only-of-type {\n",
              "        vertical-align: middle;\n",
              "    }\n",
              "\n",
              "    .dataframe tbody tr th {\n",
              "        vertical-align: top;\n",
              "    }\n",
              "\n",
              "    .dataframe thead th {\n",
              "        text-align: right;\n",
              "    }\n",
              "</style>\n",
              "<table border=\"1\" class=\"dataframe\">\n",
              "  <thead>\n",
              "    <tr style=\"text-align: right;\">\n",
              "      <th></th>\n",
              "      <th>authors</th>\n",
              "      <th>title</th>\n",
              "    </tr>\n",
              "  </thead>\n",
              "  <tbody>\n",
              "    <tr>\n",
              "      <th>1433</th>\n",
              "      <td>Alain Pirotte, Esteban Zim&amp;#225;nyi, David Mas...</td>\n",
              "      <td>Materialization: A Powerful and Ubiquitous Abs...</td>\n",
              "    </tr>\n",
              "    <tr>\n",
              "      <th>2222</th>\n",
              "      <td>Alan Demers, Johannes Gehrke, Rajmohan Rajaram...</td>\n",
              "      <td>The Cougar Project: a work-in-progress report</td>\n",
              "    </tr>\n",
              "    <tr>\n",
              "      <th>1885</th>\n",
              "      <td>Albert D'Andrea, Phil Janus</td>\n",
              "      <td>UniSQL's next-generation object-relational dat...</td>\n",
              "    </tr>\n",
              "    <tr>\n",
              "      <th>654</th>\n",
              "      <td>Albertas Caplinskas, Johann Eder, Olegas Vasil...</td>\n",
              "      <td>Advances in databases and information systems:...</td>\n",
              "    </tr>\n",
              "    <tr>\n",
              "      <th>1478</th>\n",
              "      <td>Alberto Belussi, Christos Faloutsos</td>\n",
              "      <td>Estimating the Selectivity of Spatial Queries ...</td>\n",
              "    </tr>\n",
              "    <tr>\n",
              "      <th>737</th>\n",
              "      <td>Alberto H. F. Laender, Berthier A. Ribeiro-Net...</td>\n",
              "      <td>A brief survey of web data extraction tools</td>\n",
              "    </tr>\n",
              "    <tr>\n",
              "      <th>1384</th>\n",
              "      <td>Alberto O. Mendelzon, Alejandro A. Vaisman</td>\n",
              "      <td>Temporal Queries in OLAP</td>\n",
              "    </tr>\n",
              "    <tr>\n",
              "      <th>2121</th>\n",
              "      <td>Alberto d'Onofrio, Elaheh Pourabbas</td>\n",
              "      <td>Modelling temporal thematic map contents</td>\n",
              "    </tr>\n",
              "    <tr>\n",
              "      <th>568</th>\n",
              "      <td>Albrecht Schmidt, Florian Waas, Martin Kersten...</td>\n",
              "      <td>Why and how to benchmark XML databases</td>\n",
              "    </tr>\n",
              "    <tr>\n",
              "      <th>2237</th>\n",
              "      <td>Alejandro Guti&amp;#233;rrez, Philippe Pucheral, H...</td>\n",
              "      <td>Database Graph Views: A Practical Model to Man...</td>\n",
              "    </tr>\n",
              "    <tr>\n",
              "      <th>238</th>\n",
              "      <td>Alex Borgida, Vinay K. Chaudhri, Martin Staudt</td>\n",
              "      <td>Report on the 5th international workshop on kn...</td>\n",
              "    </tr>\n",
              "    <tr>\n",
              "      <th>331</th>\n",
              "      <td>Alex Dekhtyar, Robert Ross, V. S. Subrahmanian</td>\n",
              "      <td>Probabilistic temporal databases, I: algebra</td>\n",
              "    </tr>\n",
              "    <tr>\n",
              "      <th>11</th>\n",
              "      <td>Alex G. B&amp;#252;chner, Maurice D. Mulvenna</td>\n",
              "      <td>Discovering Internet marketing intelligence th...</td>\n",
              "    </tr>\n",
              "    <tr>\n",
              "      <th>1619</th>\n",
              "      <td>Alex Gorelik, Yongdong Wang, Mark Deppe</td>\n",
              "      <td>Sybase replication server</td>\n",
              "    </tr>\n",
              "    <tr>\n",
              "      <th>2292</th>\n",
              "      <td>Alexander A. Anisimov</td>\n",
              "      <td>Review of The data warehouse toolkit: the comp...</td>\n",
              "    </tr>\n",
              "    <tr>\n",
              "      <th>1651</th>\n",
              "      <td>Alexander Aiken, Joseph M. Hellerstein, Jennif...</td>\n",
              "      <td>Static analysis techniques for predicting the ...</td>\n",
              "    </tr>\n",
              "    <tr>\n",
              "      <th>4</th>\n",
              "      <td>Alexander Brodsky, Victor E. Segal, Jia Chen, ...</td>\n",
              "      <td>The CCUBE constraint object-oriented database ...</td>\n",
              "    </tr>\n",
              "    <tr>\n",
              "      <th>1596</th>\n",
              "      <td>Alexander Brodsky, Yoram Kornatzky</td>\n",
              "      <td>The LyriC language: querying constraint objects</td>\n",
              "    </tr>\n",
              "    <tr>\n",
              "      <th>849</th>\n",
              "      <td>Alexander Hinneburg, Charu C. Aggarwal, Daniel...</td>\n",
              "      <td>What Is the Nearest Neighbor in High Dimension...</td>\n",
              "    </tr>\n",
              "    <tr>\n",
              "      <th>37</th>\n",
              "      <td>Alexander Hinneburg, Daniel A. Keim</td>\n",
              "      <td>Clustering methods for large databases: from t...</td>\n",
              "    </tr>\n",
              "  </tbody>\n",
              "</table>\n",
              "</div>"
            ],
            "text/plain": [
              "                                                authors                                              title\n",
              "1433  Alain Pirotte, Esteban Zim&#225;nyi, David Mas...  Materialization: A Powerful and Ubiquitous Abs...\n",
              "2222  Alan Demers, Johannes Gehrke, Rajmohan Rajaram...      The Cougar Project: a work-in-progress report\n",
              "1885                        Albert D'Andrea, Phil Janus  UniSQL's next-generation object-relational dat...\n",
              "654   Albertas Caplinskas, Johann Eder, Olegas Vasil...  Advances in databases and information systems:...\n",
              "1478                Alberto Belussi, Christos Faloutsos  Estimating the Selectivity of Spatial Queries ...\n",
              "737   Alberto H. F. Laender, Berthier A. Ribeiro-Net...        A brief survey of web data extraction tools\n",
              "1384         Alberto O. Mendelzon, Alejandro A. Vaisman                           Temporal Queries in OLAP\n",
              "2121                Alberto d'Onofrio, Elaheh Pourabbas           Modelling temporal thematic map contents\n",
              "568   Albrecht Schmidt, Florian Waas, Martin Kersten...             Why and how to benchmark XML databases\n",
              "2237  Alejandro Guti&#233;rrez, Philippe Pucheral, H...  Database Graph Views: A Practical Model to Man...\n",
              "238      Alex Borgida, Vinay K. Chaudhri, Martin Staudt  Report on the 5th international workshop on kn...\n",
              "331      Alex Dekhtyar, Robert Ross, V. S. Subrahmanian       Probabilistic temporal databases, I: algebra\n",
              "11            Alex G. B&#252;chner, Maurice D. Mulvenna  Discovering Internet marketing intelligence th...\n",
              "1619            Alex Gorelik, Yongdong Wang, Mark Deppe                          Sybase replication server\n",
              "2292                              Alexander A. Anisimov  Review of The data warehouse toolkit: the comp...\n",
              "1651  Alexander Aiken, Joseph M. Hellerstein, Jennif...  Static analysis techniques for predicting the ...\n",
              "4     Alexander Brodsky, Victor E. Segal, Jia Chen, ...  The CCUBE constraint object-oriented database ...\n",
              "1596                 Alexander Brodsky, Yoram Kornatzky    The LyriC language: querying constraint objects\n",
              "849   Alexander Hinneburg, Charu C. Aggarwal, Daniel...  What Is the Nearest Neighbor in High Dimension...\n",
              "37                  Alexander Hinneburg, Daniel A. Keim  Clustering methods for large databases: from t..."
            ]
          },
          "metadata": {},
          "execution_count": 11
        }
      ]
    },
    {
      "cell_type": "code",
      "metadata": {
        "colab": {
          "base_uri": "https://localhost:8080/",
          "height": 676
        },
        "id": "LCWezhkTGkrA",
        "outputId": "094ce79a-2322-43cb-f04b-807df60ed493"
      },
      "source": [
        "mask = df_DBLP['authors'].str.startswith('Al')\n",
        "df_DBLP[mask].sort_values(by='authors')[['authors', 'title']].head(20)"
      ],
      "execution_count": null,
      "outputs": [
        {
          "output_type": "execute_result",
          "data": {
            "text/html": [
              "<div>\n",
              "<style scoped>\n",
              "    .dataframe tbody tr th:only-of-type {\n",
              "        vertical-align: middle;\n",
              "    }\n",
              "\n",
              "    .dataframe tbody tr th {\n",
              "        vertical-align: top;\n",
              "    }\n",
              "\n",
              "    .dataframe thead th {\n",
              "        text-align: right;\n",
              "    }\n",
              "</style>\n",
              "<table border=\"1\" class=\"dataframe\">\n",
              "  <thead>\n",
              "    <tr style=\"text-align: right;\">\n",
              "      <th></th>\n",
              "      <th>authors</th>\n",
              "      <th>title</th>\n",
              "    </tr>\n",
              "  </thead>\n",
              "  <tbody>\n",
              "    <tr>\n",
              "      <th>53</th>\n",
              "      <td>Alain Pirotte, Esteban Zimányi, Tatiana Yakush...</td>\n",
              "      <td>Materialization: A Powerful and Ubiquitous Abs...</td>\n",
              "    </tr>\n",
              "    <tr>\n",
              "      <th>57</th>\n",
              "      <td>Alan F. Smeaton, Mark Roantree</td>\n",
              "      <td>Research in Information Managment at Dublin Ci...</td>\n",
              "    </tr>\n",
              "    <tr>\n",
              "      <th>2571</th>\n",
              "      <td>Alan Jay Smith, Vigyan Singhal</td>\n",
              "      <td>Analysis of Locking Behavior in Three Real Dat...</td>\n",
              "    </tr>\n",
              "    <tr>\n",
              "      <th>2075</th>\n",
              "      <td>Alan Sussman, Anurag Acharya, Joel H. Saltz, C...</td>\n",
              "      <td>T2: A Customizable Parallel Database for Multi...</td>\n",
              "    </tr>\n",
              "    <tr>\n",
              "      <th>1832</th>\n",
              "      <td>Albertas Caplinskas, Johann Eder, Olegas Vasil...</td>\n",
              "      <td>Advances in Databases and Information Systems ...</td>\n",
              "    </tr>\n",
              "    <tr>\n",
              "      <th>123</th>\n",
              "      <td>Alberto Lerner, Dennis Shasha</td>\n",
              "      <td>AQuery: Query Language for Ordered Data, Optim...</td>\n",
              "    </tr>\n",
              "    <tr>\n",
              "      <th>2111</th>\n",
              "      <td>Alberto O. Mendelzon</td>\n",
              "      <td>Information Director's Message</td>\n",
              "    </tr>\n",
              "    <tr>\n",
              "      <th>285</th>\n",
              "      <td>Alberto O. Mendelzon</td>\n",
              "      <td>Information Director's Message</td>\n",
              "    </tr>\n",
              "    <tr>\n",
              "      <th>2361</th>\n",
              "      <td>Alberto O. Mendelzon, Alejandro A. Vaisman</td>\n",
              "      <td>Temporal Queries in OLAP</td>\n",
              "    </tr>\n",
              "    <tr>\n",
              "      <th>114</th>\n",
              "      <td>Alberto O. Mendelzon, Davood Rafiei</td>\n",
              "      <td>Similarity-Based Queries for Time Series Data</td>\n",
              "    </tr>\n",
              "    <tr>\n",
              "      <th>635</th>\n",
              "      <td>Alberto O. Mendelzon, Dimitra Vista, Masum Z. ...</td>\n",
              "      <td>Applying database Visualization to the World W...</td>\n",
              "    </tr>\n",
              "    <tr>\n",
              "      <th>849</th>\n",
              "      <td>Alberto O. Mendelzon, John Keenleyside, Denils...</td>\n",
              "      <td>ToXgene: a template-based data generator for XML</td>\n",
              "    </tr>\n",
              "    <tr>\n",
              "      <th>1397</th>\n",
              "      <td>Alberto O. Mendelzon, Paolo Atzeni</td>\n",
              "      <td>Guest Editorial: Databases and the Web</td>\n",
              "    </tr>\n",
              "    <tr>\n",
              "      <th>2395</th>\n",
              "      <td>Alberto O. Mendelzon, Paolo Atzeni</td>\n",
              "      <td>WebDB '98: International Workshop on the Web a...</td>\n",
              "    </tr>\n",
              "    <tr>\n",
              "      <th>1303</th>\n",
              "      <td>Alejandro Gutiérrez, Philippe Pucheral, Jean-M...</td>\n",
              "      <td>Database Graph Views: A Practical Model to Man...</td>\n",
              "    </tr>\n",
              "    <tr>\n",
              "      <th>579</th>\n",
              "      <td>Alex Dekhtyar, Robert Ross, V. S. Subrahmanian</td>\n",
              "      <td>Probabilistic temporal databases, I: algebra</td>\n",
              "    </tr>\n",
              "    <tr>\n",
              "      <th>1258</th>\n",
              "      <td>Alex G. Büchner, Maurice D. Mulvenna</td>\n",
              "      <td>Discovering Internet Marketing Intelligence th...</td>\n",
              "    </tr>\n",
              "    <tr>\n",
              "      <th>2051</th>\n",
              "      <td>Alex Pang, Jiawei Han, Raymond T. Ng, Laks V. ...</td>\n",
              "      <td>Exploratory Mining and Pruning Optimizations o...</td>\n",
              "    </tr>\n",
              "    <tr>\n",
              "      <th>654</th>\n",
              "      <td>Alexander A. Anisimov</td>\n",
              "      <td>Review of The data warehouse toolkit: the comp...</td>\n",
              "    </tr>\n",
              "    <tr>\n",
              "      <th>762</th>\n",
              "      <td>Alexander Aiken, Daniel Shawcross Wilkerson, S...</td>\n",
              "      <td>Winnowing: Local Algorithms for Document Finge...</td>\n",
              "    </tr>\n",
              "  </tbody>\n",
              "</table>\n",
              "</div>"
            ],
            "text/plain": [
              "                                                authors                                              title\n",
              "53    Alain Pirotte, Esteban Zimányi, Tatiana Yakush...  Materialization: A Powerful and Ubiquitous Abs...\n",
              "57                       Alan F. Smeaton, Mark Roantree  Research in Information Managment at Dublin Ci...\n",
              "2571                     Alan Jay Smith, Vigyan Singhal  Analysis of Locking Behavior in Three Real Dat...\n",
              "2075  Alan Sussman, Anurag Acharya, Joel H. Saltz, C...  T2: A Customizable Parallel Database for Multi...\n",
              "1832  Albertas Caplinskas, Johann Eder, Olegas Vasil...  Advances in Databases and Information Systems ...\n",
              "123                       Alberto Lerner, Dennis Shasha  AQuery: Query Language for Ordered Data, Optim...\n",
              "2111                               Alberto O. Mendelzon                     Information Director's Message\n",
              "285                                Alberto O. Mendelzon                     Information Director's Message\n",
              "2361         Alberto O. Mendelzon, Alejandro A. Vaisman                           Temporal Queries in OLAP\n",
              "114                 Alberto O. Mendelzon, Davood Rafiei      Similarity-Based Queries for Time Series Data\n",
              "635   Alberto O. Mendelzon, Dimitra Vista, Masum Z. ...  Applying database Visualization to the World W...\n",
              "849   Alberto O. Mendelzon, John Keenleyside, Denils...   ToXgene: a template-based data generator for XML\n",
              "1397                 Alberto O. Mendelzon, Paolo Atzeni             Guest Editorial: Databases and the Web\n",
              "2395                 Alberto O. Mendelzon, Paolo Atzeni  WebDB '98: International Workshop on the Web a...\n",
              "1303  Alejandro Gutiérrez, Philippe Pucheral, Jean-M...  Database Graph Views: A Practical Model to Man...\n",
              "579      Alex Dekhtyar, Robert Ross, V. S. Subrahmanian       Probabilistic temporal databases, I: algebra\n",
              "1258               Alex G. Büchner, Maurice D. Mulvenna  Discovering Internet Marketing Intelligence th...\n",
              "2051  Alex Pang, Jiawei Han, Raymond T. Ng, Laks V. ...  Exploratory Mining and Pruning Optimizations o...\n",
              "654                               Alexander A. Anisimov  Review of The data warehouse toolkit: the comp...\n",
              "762   Alexander Aiken, Daniel Shawcross Wilkerson, S...  Winnowing: Local Algorithms for Document Finge..."
            ]
          },
          "metadata": {},
          "execution_count": 12
        }
      ]
    },
    {
      "cell_type": "markdown",
      "metadata": {
        "id": "wkXuHxrAHB_4"
      },
      "source": [
        "There are some matching authors, although ACM dataset has non standard English language letters replaced with character codes while DBLP dataset authors contain those non standard letters without character codes. Try simple left join and check the results."
      ]
    },
    {
      "cell_type": "code",
      "metadata": {
        "id": "aEdxIBndIxYT"
      },
      "source": [
        "df_merged = df_ACM.merge(df_DBLP, on='authors', how='left', suffixes=('_ACM', '_DBLP'))"
      ],
      "execution_count": null,
      "outputs": []
    },
    {
      "cell_type": "code",
      "source": [
        "len(df_merged)"
      ],
      "metadata": {
        "colab": {
          "base_uri": "https://localhost:8080/"
        },
        "id": "bRWuhI8Fsw8Q",
        "outputId": "219e5d77-5ac4-4163-9be8-14e49236d132"
      },
      "execution_count": null,
      "outputs": [
        {
          "output_type": "execute_result",
          "data": {
            "text/plain": [
              "2987"
            ]
          },
          "metadata": {},
          "execution_count": 23
        }
      ]
    },
    {
      "cell_type": "code",
      "metadata": {
        "colab": {
          "base_uri": "https://localhost:8080/",
          "height": 676
        },
        "id": "5ThW2wMe20Cn",
        "outputId": "31b20033-c8f9-4131-d061-9d1a753968b9"
      },
      "source": [
        "df_merged[['authors', 'title_ACM', 'title_DBLP']].head(20)"
      ],
      "execution_count": null,
      "outputs": [
        {
          "output_type": "execute_result",
          "data": {
            "text/html": [
              "<div>\n",
              "<style scoped>\n",
              "    .dataframe tbody tr th:only-of-type {\n",
              "        vertical-align: middle;\n",
              "    }\n",
              "\n",
              "    .dataframe tbody tr th {\n",
              "        vertical-align: top;\n",
              "    }\n",
              "\n",
              "    .dataframe thead th {\n",
              "        text-align: right;\n",
              "    }\n",
              "</style>\n",
              "<table border=\"1\" class=\"dataframe\">\n",
              "  <thead>\n",
              "    <tr style=\"text-align: right;\">\n",
              "      <th></th>\n",
              "      <th>authors</th>\n",
              "      <th>title_ACM</th>\n",
              "      <th>title_DBLP</th>\n",
              "    </tr>\n",
              "  </thead>\n",
              "  <tbody>\n",
              "    <tr>\n",
              "      <th>0</th>\n",
              "      <td>Gottfried Vossen, Mathias Weske</td>\n",
              "      <td>The WASA2 object-oriented workflow management ...</td>\n",
              "      <td>NaN</td>\n",
              "    </tr>\n",
              "    <tr>\n",
              "      <th>1</th>\n",
              "      <td>Isabel F. Cruz, Kimberly M. James</td>\n",
              "      <td>A user-centered interface for querying distrib...</td>\n",
              "      <td>NaN</td>\n",
              "    </tr>\n",
              "    <tr>\n",
              "      <th>2</th>\n",
              "      <td>Athman Bouguettaya, Boualem Benatallah, Lily H...</td>\n",
              "      <td>World Wide Database-integrating the Web, CORBA...</td>\n",
              "      <td>NaN</td>\n",
              "    </tr>\n",
              "    <tr>\n",
              "      <th>3</th>\n",
              "      <td>Chaitan Baru, Amarnath Gupta, Bertram Lud&amp;#228...</td>\n",
              "      <td>XML-based information mediation with MIX</td>\n",
              "      <td>NaN</td>\n",
              "    </tr>\n",
              "    <tr>\n",
              "      <th>4</th>\n",
              "      <td>Alexander Brodsky, Victor E. Segal, Jia Chen, ...</td>\n",
              "      <td>The CCUBE constraint object-oriented database ...</td>\n",
              "      <td>NaN</td>\n",
              "    </tr>\n",
              "    <tr>\n",
              "      <th>5</th>\n",
              "      <td>Phillippe Bonnet, Kyle Buza, Zhiyuan Chan, Vic...</td>\n",
              "      <td>The Cornell Jaguar project: adding mobility to...</td>\n",
              "      <td>NaN</td>\n",
              "    </tr>\n",
              "    <tr>\n",
              "      <th>6</th>\n",
              "      <td>Nick Roussopoulos, Yannis Kotidis, Yannis Sism...</td>\n",
              "      <td>The active MultiSync controller of the cubetre...</td>\n",
              "      <td>NaN</td>\n",
              "    </tr>\n",
              "    <tr>\n",
              "      <th>7</th>\n",
              "      <td>Michael B&amp;#246;hlen, Linas Bukauskas, Curtis D...</td>\n",
              "      <td>The Jungle database search engine</td>\n",
              "      <td>NaN</td>\n",
              "    </tr>\n",
              "    <tr>\n",
              "      <th>8</th>\n",
              "      <td>N. R. Jennings, T. J. Norman, P. Faratin</td>\n",
              "      <td>ADEPT: an agent-based approach to business pro...</td>\n",
              "      <td>NaN</td>\n",
              "    </tr>\n",
              "    <tr>\n",
              "      <th>9</th>\n",
              "      <td>Benny Reich, Israel Ben-Shaul</td>\n",
              "      <td>A componentized architecture for dynamic elect...</td>\n",
              "      <td>NaN</td>\n",
              "    </tr>\n",
              "    <tr>\n",
              "      <th>10</th>\n",
              "      <td>Susanne Boll, Wolfgang Klas, Bernard Battaglin</td>\n",
              "      <td>Design and implementation of RMP: a virtual el...</td>\n",
              "      <td>NaN</td>\n",
              "    </tr>\n",
              "    <tr>\n",
              "      <th>11</th>\n",
              "      <td>Alex G. B&amp;#252;chner, Maurice D. Mulvenna</td>\n",
              "      <td>Discovering Internet marketing intelligence th...</td>\n",
              "      <td>NaN</td>\n",
              "    </tr>\n",
              "    <tr>\n",
              "      <th>12</th>\n",
              "      <td>Martin Bichler, Arie Segev, J. Leon Zhao</td>\n",
              "      <td>Component-based e-commerce: assessment of curr...</td>\n",
              "      <td>Component-based E-Commerce: Assesment of Curre...</td>\n",
              "    </tr>\n",
              "    <tr>\n",
              "      <th>13</th>\n",
              "      <td>Sherif Danish</td>\n",
              "      <td>Building database-driven electronic catalogs</td>\n",
              "      <td>Building Database-driven Electronic Catalogs</td>\n",
              "    </tr>\n",
              "    <tr>\n",
              "      <th>14</th>\n",
              "      <td>Bart Meltzer, Robert Glushko</td>\n",
              "      <td>XML and electronic commerce: enabling the netw...</td>\n",
              "      <td>NaN</td>\n",
              "    </tr>\n",
              "    <tr>\n",
              "      <th>15</th>\n",
              "      <td>Asuman Dogac, Ilker Durusoy, Sena Arpinar, Nes...</td>\n",
              "      <td>A workflow-based electronic marketplace on the...</td>\n",
              "      <td>NaN</td>\n",
              "    </tr>\n",
              "    <tr>\n",
              "      <th>16</th>\n",
              "      <td>Mehmet Altinel, Demet Aksoy, Thomas Baby, Mich...</td>\n",
              "      <td>DBIS-toolkit: adaptable middleware for large s...</td>\n",
              "      <td>NaN</td>\n",
              "    </tr>\n",
              "    <tr>\n",
              "      <th>17</th>\n",
              "      <td>Ling Liu, Wei Han, David Buttler, Calton Pu, W...</td>\n",
              "      <td>An XJML-based wrapper generator for Web inform...</td>\n",
              "      <td>NaN</td>\n",
              "    </tr>\n",
              "    <tr>\n",
              "      <th>18</th>\n",
              "      <td>Reinhard Braumandl, Alfons Kemper, Donald Koss...</td>\n",
              "      <td>Database patchwork on the Internet</td>\n",
              "      <td>Database Patchwork on the Internet</td>\n",
              "    </tr>\n",
              "    <tr>\n",
              "      <th>19</th>\n",
              "      <td>Ouri Wolfson, Prasad Sistla, Bo Xu, Jutai Zhou...</td>\n",
              "      <td>DOMINO: databases fOr MovINg Objects tracking</td>\n",
              "      <td>NaN</td>\n",
              "    </tr>\n",
              "  </tbody>\n",
              "</table>\n",
              "</div>"
            ],
            "text/plain": [
              "                                              authors  ...                                         title_DBLP\n",
              "0                     Gottfried Vossen, Mathias Weske  ...                                                NaN\n",
              "1                   Isabel F. Cruz, Kimberly M. James  ...                                                NaN\n",
              "2   Athman Bouguettaya, Boualem Benatallah, Lily H...  ...                                                NaN\n",
              "3   Chaitan Baru, Amarnath Gupta, Bertram Lud&#228...  ...                                                NaN\n",
              "4   Alexander Brodsky, Victor E. Segal, Jia Chen, ...  ...                                                NaN\n",
              "5   Phillippe Bonnet, Kyle Buza, Zhiyuan Chan, Vic...  ...                                                NaN\n",
              "6   Nick Roussopoulos, Yannis Kotidis, Yannis Sism...  ...                                                NaN\n",
              "7   Michael B&#246;hlen, Linas Bukauskas, Curtis D...  ...                                                NaN\n",
              "8            N. R. Jennings, T. J. Norman, P. Faratin  ...                                                NaN\n",
              "9                       Benny Reich, Israel Ben-Shaul  ...                                                NaN\n",
              "10     Susanne Boll, Wolfgang Klas, Bernard Battaglin  ...                                                NaN\n",
              "11          Alex G. B&#252;chner, Maurice D. Mulvenna  ...                                                NaN\n",
              "12           Martin Bichler, Arie Segev, J. Leon Zhao  ...  Component-based E-Commerce: Assesment of Curre...\n",
              "13                                      Sherif Danish  ...       Building Database-driven Electronic Catalogs\n",
              "14                       Bart Meltzer, Robert Glushko  ...                                                NaN\n",
              "15  Asuman Dogac, Ilker Durusoy, Sena Arpinar, Nes...  ...                                                NaN\n",
              "16  Mehmet Altinel, Demet Aksoy, Thomas Baby, Mich...  ...                                                NaN\n",
              "17  Ling Liu, Wei Han, David Buttler, Calton Pu, W...  ...                                                NaN\n",
              "18  Reinhard Braumandl, Alfons Kemper, Donald Koss...  ...                 Database Patchwork on the Internet\n",
              "19  Ouri Wolfson, Prasad Sistla, Bo Xu, Jutai Zhou...  ...                                                NaN\n",
              "\n",
              "[20 rows x 3 columns]"
            ]
          },
          "metadata": {},
          "execution_count": 14
        }
      ]
    },
    {
      "cell_type": "code",
      "metadata": {
        "colab": {
          "base_uri": "https://localhost:8080/",
          "height": 1000
        },
        "id": "q9jkrCigJ7lr",
        "outputId": "d1afed28-de8b-46a5-b314-3c3617d5ded6"
      },
      "source": [
        "df_merged[df_merged['id_DBLP'].notnull()].sort_values(by='authors').head(25)"
      ],
      "execution_count": null,
      "outputs": [
        {
          "output_type": "execute_result",
          "data": {
            "text/html": [
              "<div>\n",
              "<style scoped>\n",
              "    .dataframe tbody tr th:only-of-type {\n",
              "        vertical-align: middle;\n",
              "    }\n",
              "\n",
              "    .dataframe tbody tr th {\n",
              "        vertical-align: top;\n",
              "    }\n",
              "\n",
              "    .dataframe thead th {\n",
              "        text-align: right;\n",
              "    }\n",
              "</style>\n",
              "<table border=\"1\" class=\"dataframe\">\n",
              "  <thead>\n",
              "    <tr style=\"text-align: right;\">\n",
              "      <th></th>\n",
              "      <th>id_ACM</th>\n",
              "      <th>title_ACM</th>\n",
              "      <th>authors</th>\n",
              "      <th>venue_ACM</th>\n",
              "      <th>year_ACM</th>\n",
              "      <th>id_DBLP</th>\n",
              "      <th>title_DBLP</th>\n",
              "      <th>venue_DBLP</th>\n",
              "      <th>year_DBLP</th>\n",
              "    </tr>\n",
              "  </thead>\n",
              "  <tbody>\n",
              "    <tr>\n",
              "      <th>2795</th>\n",
              "      <td>756664</td>\n",
              "      <td>Large Databases for Remote Sensing and GIS</td>\n",
              "      <td>A. R. Dasgupta</td>\n",
              "      <td>Very Large Data Bases</td>\n",
              "      <td>1996</td>\n",
              "      <td>conf/vldb/Dasgupta96</td>\n",
              "      <td>Large Databases for Remote Sensing and GIS</td>\n",
              "      <td>VLDB</td>\n",
              "      <td>1996.0</td>\n",
              "    </tr>\n",
              "    <tr>\n",
              "      <th>1860</th>\n",
              "      <td>671869</td>\n",
              "      <td>Rainbow: Distributed Database System for Class...</td>\n",
              "      <td>Abdelsalam Helal, Hua Li</td>\n",
              "      <td>Very Large Data Bases</td>\n",
              "      <td>2000</td>\n",
              "      <td>conf/vldb/HelalL00</td>\n",
              "      <td>Rainbow: Distributed Database System for Class...</td>\n",
              "      <td>VLDB</td>\n",
              "      <td>2000.0</td>\n",
              "    </tr>\n",
              "    <tr>\n",
              "      <th>1641</th>\n",
              "      <td>765532</td>\n",
              "      <td>Integrated document caching and prefetching in...</td>\n",
              "      <td>Achim Kraiss, Gerhard Weikum</td>\n",
              "      <td>The VLDB Journal &amp;mdash; The International Jou...</td>\n",
              "      <td>1998</td>\n",
              "      <td>journals/vldb/KraissW98</td>\n",
              "      <td>Integrated Document Caching and Prefetching in...</td>\n",
              "      <td>VLDB J.</td>\n",
              "      <td>1998.0</td>\n",
              "    </tr>\n",
              "    <tr>\n",
              "      <th>1522</th>\n",
              "      <td>673664</td>\n",
              "      <td>Vertical Data Migration in Large Near-Line Doc...</td>\n",
              "      <td>Achim Kraiss, Gerhard Weikum</td>\n",
              "      <td>Very Large Data Bases</td>\n",
              "      <td>1997</td>\n",
              "      <td>conf/vldb/KraissW97</td>\n",
              "      <td>Vertical Data Migration in Large Near-Line Doc...</td>\n",
              "      <td>VLDB</td>\n",
              "      <td>1997.0</td>\n",
              "    </tr>\n",
              "    <tr>\n",
              "      <th>1642</th>\n",
              "      <td>765532</td>\n",
              "      <td>Integrated document caching and prefetching in...</td>\n",
              "      <td>Achim Kraiss, Gerhard Weikum</td>\n",
              "      <td>The VLDB Journal &amp;mdash; The International Jou...</td>\n",
              "      <td>1998</td>\n",
              "      <td>conf/vldb/KraissW97</td>\n",
              "      <td>Vertical Data Migration in Large Near-Line Doc...</td>\n",
              "      <td>VLDB</td>\n",
              "      <td>1997.0</td>\n",
              "    </tr>\n",
              "    <tr>\n",
              "      <th>1521</th>\n",
              "      <td>673664</td>\n",
              "      <td>Vertical Data Migration in Large Near-Line Doc...</td>\n",
              "      <td>Achim Kraiss, Gerhard Weikum</td>\n",
              "      <td>Very Large Data Bases</td>\n",
              "      <td>1997</td>\n",
              "      <td>journals/vldb/KraissW98</td>\n",
              "      <td>Integrated Document Caching and Prefetching in...</td>\n",
              "      <td>VLDB J.</td>\n",
              "      <td>1998.0</td>\n",
              "    </tr>\n",
              "    <tr>\n",
              "      <th>2784</th>\n",
              "      <td>671348</td>\n",
              "      <td>Microsoft English Query 7.5: Automatic Extract...</td>\n",
              "      <td>Adam Blum</td>\n",
              "      <td>Very Large Data Bases</td>\n",
              "      <td>1999</td>\n",
              "      <td>conf/vldb/Blum99</td>\n",
              "      <td>Microsoft English Query 7.5: Automatic Extract...</td>\n",
              "      <td>VLDB</td>\n",
              "      <td>1999.0</td>\n",
              "    </tr>\n",
              "    <tr>\n",
              "      <th>2089</th>\n",
              "      <td>202668</td>\n",
              "      <td>An annotated bibliography of benchmarks for ob...</td>\n",
              "      <td>Akmal B. Chaudhri</td>\n",
              "      <td>ACM SIGMOD Record</td>\n",
              "      <td>1995</td>\n",
              "      <td>journals/sigmod/Chaudhri95</td>\n",
              "      <td>An Annotated Bibliography of Benchmarks for Ob...</td>\n",
              "      <td>SIGMOD Record</td>\n",
              "      <td>1995.0</td>\n",
              "    </tr>\n",
              "    <tr>\n",
              "      <th>2088</th>\n",
              "      <td>202668</td>\n",
              "      <td>An annotated bibliography of benchmarks for ob...</td>\n",
              "      <td>Akmal B. Chaudhri</td>\n",
              "      <td>ACM SIGMOD Record</td>\n",
              "      <td>1995</td>\n",
              "      <td>journals/sigmod/Chaudhri98</td>\n",
              "      <td>Workshop Report on Experiences Using Object Da...</td>\n",
              "      <td>SIGMOD Record</td>\n",
              "      <td>1998.0</td>\n",
              "    </tr>\n",
              "    <tr>\n",
              "      <th>2354</th>\n",
              "      <td>273247</td>\n",
              "      <td>Workshop report on experiences using object da...</td>\n",
              "      <td>Akmal B. Chaudhri</td>\n",
              "      <td>ACM SIGMOD Record</td>\n",
              "      <td>1998</td>\n",
              "      <td>journals/sigmod/Chaudhri95</td>\n",
              "      <td>An Annotated Bibliography of Benchmarks for Ob...</td>\n",
              "      <td>SIGMOD Record</td>\n",
              "      <td>1995.0</td>\n",
              "    </tr>\n",
              "    <tr>\n",
              "      <th>2353</th>\n",
              "      <td>273247</td>\n",
              "      <td>Workshop report on experiences using object da...</td>\n",
              "      <td>Akmal B. Chaudhri</td>\n",
              "      <td>ACM SIGMOD Record</td>\n",
              "      <td>1998</td>\n",
              "      <td>journals/sigmod/Chaudhri98</td>\n",
              "      <td>Workshop Report on Experiences Using Object Da...</td>\n",
              "      <td>SIGMOD Record</td>\n",
              "      <td>1998.0</td>\n",
              "    </tr>\n",
              "    <tr>\n",
              "      <th>884</th>\n",
              "      <td>507367</td>\n",
              "      <td>Advances in databases and information systems:...</td>\n",
              "      <td>Albertas Caplinskas, Johann Eder, Olegas Vasil...</td>\n",
              "      <td>ACM SIGMOD Record</td>\n",
              "      <td>2002</td>\n",
              "      <td>journals/sigmod/CaplinskasEV02</td>\n",
              "      <td>Advances in Databases and Information Systems ...</td>\n",
              "      <td>SIGMOD Record</td>\n",
              "      <td>2002.0</td>\n",
              "    </tr>\n",
              "    <tr>\n",
              "      <th>1867</th>\n",
              "      <td>672006</td>\n",
              "      <td>Temporal Queries in OLAP</td>\n",
              "      <td>Alberto O. Mendelzon, Alejandro A. Vaisman</td>\n",
              "      <td>Very Large Data Bases</td>\n",
              "      <td>2000</td>\n",
              "      <td>conf/vldb/MendelzonV00</td>\n",
              "      <td>Temporal Queries in OLAP</td>\n",
              "      <td>VLDB</td>\n",
              "      <td>2000.0</td>\n",
              "    </tr>\n",
              "    <tr>\n",
              "      <th>407</th>\n",
              "      <td>383736</td>\n",
              "      <td>Probabilistic temporal databases, I: algebra</td>\n",
              "      <td>Alex Dekhtyar, Robert Ross, V. S. Subrahmanian</td>\n",
              "      <td>ACM Transactions on Database Systems (TODS)</td>\n",
              "      <td>2001</td>\n",
              "      <td>journals/tods/DekhtyarRS01</td>\n",
              "      <td>Probabilistic temporal databases, I: algebra</td>\n",
              "      <td>ACM Trans. Database Syst.</td>\n",
              "      <td>2001.0</td>\n",
              "    </tr>\n",
              "    <tr>\n",
              "      <th>2971</th>\n",
              "      <td>945741</td>\n",
              "      <td>Review of The data warehouse toolkit: the comp...</td>\n",
              "      <td>Alexander A. Anisimov</td>\n",
              "      <td>ACM SIGMOD Record</td>\n",
              "      <td>2003</td>\n",
              "      <td>journals/sigmod/Anisimov03</td>\n",
              "      <td>Review of The data warehouse toolkit: the comp...</td>\n",
              "      <td>SIGMOD Record</td>\n",
              "      <td>2003.0</td>\n",
              "    </tr>\n",
              "    <tr>\n",
              "      <th>2107</th>\n",
              "      <td>223788</td>\n",
              "      <td>The LyriC language: querying constraint objects</td>\n",
              "      <td>Alexander Brodsky, Yoram Kornatzky</td>\n",
              "      <td>International Conference on Management of Data</td>\n",
              "      <td>1995</td>\n",
              "      <td>conf/sigmod/BrodskyK95</td>\n",
              "      <td>The LyriC Language: Querying Constraint Objects</td>\n",
              "      <td>SIGMOD Conference</td>\n",
              "      <td>1995.0</td>\n",
              "    </tr>\n",
              "    <tr>\n",
              "      <th>1161</th>\n",
              "      <td>671505</td>\n",
              "      <td>Optimal Grid-Clustering: Towards Breaking the ...</td>\n",
              "      <td>Alexander Hinneburg, Daniel A. Keim</td>\n",
              "      <td>Very Large Data Bases</td>\n",
              "      <td>1999</td>\n",
              "      <td>conf/sigmod/HinneburgK99</td>\n",
              "      <td>Clustering Methods for Large Databases: From t...</td>\n",
              "      <td>SIGMOD Conference</td>\n",
              "      <td>1999.0</td>\n",
              "    </tr>\n",
              "    <tr>\n",
              "      <th>44</th>\n",
              "      <td>304232</td>\n",
              "      <td>Clustering methods for large databases: from t...</td>\n",
              "      <td>Alexander Hinneburg, Daniel A. Keim</td>\n",
              "      <td>International Conference on Management of Data</td>\n",
              "      <td>1999</td>\n",
              "      <td>conf/sigmod/HinneburgK99</td>\n",
              "      <td>Clustering Methods for Large Databases: From t...</td>\n",
              "      <td>SIGMOD Conference</td>\n",
              "      <td>1999.0</td>\n",
              "    </tr>\n",
              "    <tr>\n",
              "      <th>2921</th>\n",
              "      <td>672965</td>\n",
              "      <td>Investigation of Algebraic Query Optimisation ...</td>\n",
              "      <td>Alexandra Poulovassilis, Carol Small</td>\n",
              "      <td>Very Large Data Bases</td>\n",
              "      <td>1994</td>\n",
              "      <td>conf/vldb/PoulovassilisS94</td>\n",
              "      <td>Investigation of Algebraic Query Optimisation ...</td>\n",
              "      <td>VLDB</td>\n",
              "      <td>1994.0</td>\n",
              "    </tr>\n",
              "    <tr>\n",
              "      <th>1672</th>\n",
              "      <td>765691</td>\n",
              "      <td>Algebraic query optimisation for database prog...</td>\n",
              "      <td>Alexandra Poulovassilis, Carol Small</td>\n",
              "      <td>The VLDB Journal &amp;mdash; The International Jou...</td>\n",
              "      <td>1996</td>\n",
              "      <td>conf/vldb/PoulovassilisS94</td>\n",
              "      <td>Investigation of Algebraic Query Optimisation ...</td>\n",
              "      <td>VLDB</td>\n",
              "      <td>1994.0</td>\n",
              "    </tr>\n",
              "    <tr>\n",
              "      <th>2218</th>\n",
              "      <td>191983</td>\n",
              "      <td>EOS: an extensible object store</td>\n",
              "      <td>Alexandros Biliris, Euthimios Panagos</td>\n",
              "      <td>International Conference on Management of Data</td>\n",
              "      <td>1994</td>\n",
              "      <td>journals/vldb/PanagosB97</td>\n",
              "      <td>Synchronization and Recovery in a Client-Serve...</td>\n",
              "      <td>VLDB J.</td>\n",
              "      <td>1997.0</td>\n",
              "    </tr>\n",
              "    <tr>\n",
              "      <th>2463</th>\n",
              "      <td>234898</td>\n",
              "      <td>BeSS object storage manager: architecture over...</td>\n",
              "      <td>Alexandros Biliris, Euthimios Panagos</td>\n",
              "      <td>ACM SIGMOD Record</td>\n",
              "      <td>1996</td>\n",
              "      <td>journals/vldb/PanagosB97</td>\n",
              "      <td>Synchronization and Recovery in a Client-Serve...</td>\n",
              "      <td>VLDB J.</td>\n",
              "      <td>1997.0</td>\n",
              "    </tr>\n",
              "    <tr>\n",
              "      <th>2217</th>\n",
              "      <td>191983</td>\n",
              "      <td>EOS: an extensible object store</td>\n",
              "      <td>Alexandros Biliris, Euthimios Panagos</td>\n",
              "      <td>International Conference on Management of Data</td>\n",
              "      <td>1994</td>\n",
              "      <td>journals/sigmod/BilirisP96</td>\n",
              "      <td>The BeSS Object Storage Manager: Architecture ...</td>\n",
              "      <td>SIGMOD Record</td>\n",
              "      <td>1996.0</td>\n",
              "    </tr>\n",
              "    <tr>\n",
              "      <th>2462</th>\n",
              "      <td>234898</td>\n",
              "      <td>BeSS object storage manager: architecture over...</td>\n",
              "      <td>Alexandros Biliris, Euthimios Panagos</td>\n",
              "      <td>ACM SIGMOD Record</td>\n",
              "      <td>1996</td>\n",
              "      <td>journals/sigmod/BilirisP96</td>\n",
              "      <td>The BeSS Object Storage Manager: Architecture ...</td>\n",
              "      <td>SIGMOD Record</td>\n",
              "      <td>1996.0</td>\n",
              "    </tr>\n",
              "    <tr>\n",
              "      <th>2694</th>\n",
              "      <td>777003</td>\n",
              "      <td>Career forum</td>\n",
              "      <td>Alexandros Labrinidis</td>\n",
              "      <td>ACM SIGMOD Record</td>\n",
              "      <td>2003</td>\n",
              "      <td>journals/sigmod/Labrinidis01</td>\n",
              "      <td>Introduction to the Career Forum Column</td>\n",
              "      <td>SIGMOD Record</td>\n",
              "      <td>2001.0</td>\n",
              "    </tr>\n",
              "  </tbody>\n",
              "</table>\n",
              "</div>"
            ],
            "text/plain": [
              "      id_ACM  ... year_DBLP\n",
              "2795  756664  ...    1996.0\n",
              "1860  671869  ...    2000.0\n",
              "1641  765532  ...    1998.0\n",
              "1522  673664  ...    1997.0\n",
              "1642  765532  ...    1997.0\n",
              "1521  673664  ...    1998.0\n",
              "2784  671348  ...    1999.0\n",
              "2089  202668  ...    1995.0\n",
              "2088  202668  ...    1998.0\n",
              "2354  273247  ...    1995.0\n",
              "2353  273247  ...    1998.0\n",
              "884   507367  ...    2002.0\n",
              "1867  672006  ...    2000.0\n",
              "407   383736  ...    2001.0\n",
              "2971  945741  ...    2003.0\n",
              "2107  223788  ...    1995.0\n",
              "1161  671505  ...    1999.0\n",
              "44    304232  ...    1999.0\n",
              "2921  672965  ...    1994.0\n",
              "1672  765691  ...    1994.0\n",
              "2218  191983  ...    1997.0\n",
              "2463  234898  ...    1997.0\n",
              "2217  191983  ...    1996.0\n",
              "2462  234898  ...    1996.0\n",
              "2694  777003  ...    2001.0\n",
              "\n",
              "[25 rows x 9 columns]"
            ]
          },
          "metadata": {},
          "execution_count": 15
        }
      ]
    },
    {
      "cell_type": "markdown",
      "metadata": {
        "id": "pLrb45bUOkRc"
      },
      "source": [
        "Some were matched, because the authors were the same, although the publications were different. Like this one:"
      ]
    },
    {
      "cell_type": "code",
      "metadata": {
        "colab": {
          "base_uri": "https://localhost:8080/",
          "height": 112
        },
        "id": "tYAKZ9jYPPFP",
        "outputId": "aa0a4b01-1877-4276-f072-3c41186c31d9"
      },
      "source": [
        "df_merged.iloc[[1672, 2921]][['authors', 'title_ACM', 'year_ACM', 'title_DBLP', 'year_DBLP']]"
      ],
      "execution_count": null,
      "outputs": [
        {
          "output_type": "execute_result",
          "data": {
            "text/html": [
              "<div>\n",
              "<style scoped>\n",
              "    .dataframe tbody tr th:only-of-type {\n",
              "        vertical-align: middle;\n",
              "    }\n",
              "\n",
              "    .dataframe tbody tr th {\n",
              "        vertical-align: top;\n",
              "    }\n",
              "\n",
              "    .dataframe thead th {\n",
              "        text-align: right;\n",
              "    }\n",
              "</style>\n",
              "<table border=\"1\" class=\"dataframe\">\n",
              "  <thead>\n",
              "    <tr style=\"text-align: right;\">\n",
              "      <th></th>\n",
              "      <th>authors</th>\n",
              "      <th>title_ACM</th>\n",
              "      <th>year_ACM</th>\n",
              "      <th>title_DBLP</th>\n",
              "      <th>year_DBLP</th>\n",
              "    </tr>\n",
              "  </thead>\n",
              "  <tbody>\n",
              "    <tr>\n",
              "      <th>1672</th>\n",
              "      <td>Alexandra Poulovassilis, Carol Small</td>\n",
              "      <td>Algebraic query optimisation for database prog...</td>\n",
              "      <td>1996</td>\n",
              "      <td>Investigation of Algebraic Query Optimisation ...</td>\n",
              "      <td>1994.0</td>\n",
              "    </tr>\n",
              "    <tr>\n",
              "      <th>2921</th>\n",
              "      <td>Alexandra Poulovassilis, Carol Small</td>\n",
              "      <td>Investigation of Algebraic Query Optimisation ...</td>\n",
              "      <td>1994</td>\n",
              "      <td>Investigation of Algebraic Query Optimisation ...</td>\n",
              "      <td>1994.0</td>\n",
              "    </tr>\n",
              "  </tbody>\n",
              "</table>\n",
              "</div>"
            ],
            "text/plain": [
              "                                   authors  ... year_DBLP\n",
              "1672  Alexandra Poulovassilis, Carol Small  ...    1994.0\n",
              "2921  Alexandra Poulovassilis, Carol Small  ...    1994.0\n",
              "\n",
              "[2 rows x 5 columns]"
            ]
          },
          "metadata": {},
          "execution_count": 16
        }
      ]
    },
    {
      "cell_type": "markdown",
      "metadata": {
        "id": "YDewCYr2PyQ5"
      },
      "source": [
        "Two different publications from the same authors from the ACM dataset matched with the same one publication from the DBLP dataset."
      ]
    },
    {
      "cell_type": "markdown",
      "metadata": {
        "id": "vlegni15N-jN"
      },
      "source": [
        "Check how many have we matched."
      ]
    },
    {
      "cell_type": "code",
      "metadata": {
        "colab": {
          "base_uri": "https://localhost:8080/"
        },
        "id": "Llk4nW8c2QUd",
        "outputId": "cab6ebd1-16c6-45aa-9a07-1d51b83e9a8a"
      },
      "source": [
        "len(df_merged[df_merged['id_DBLP'].notnull()])"
      ],
      "execution_count": null,
      "outputs": [
        {
          "output_type": "execute_result",
          "data": {
            "text/plain": [
              "1419"
            ]
          },
          "metadata": {},
          "execution_count": 17
        }
      ]
    },
    {
      "cell_type": "markdown",
      "metadata": {
        "id": "4gQKix_nj3u_"
      },
      "source": [
        "We still have some work to do:\n",
        "*   There might be spelling mistakes preventing us from matching authors.\n",
        "*   Publications made by multiple authors could have order of authors switched compared to the other dataset.\n",
        "*   Some already matched ones are wrong, because of the reason mentioned above.\n",
        "\n",
        "Try fuzzymatcher and see if we get better results."
      ]
    },
    {
      "cell_type": "markdown",
      "metadata": {
        "id": "bDdi21STLNQs"
      },
      "source": [
        "## Fuzzy Matcher"
      ]
    },
    {
      "cell_type": "code",
      "metadata": {
        "id": "UHWSul9gj784"
      },
      "source": [
        "# Both datasets have the same column names, \n",
        "# but for clarity purposes we'll write them out for both\n",
        "\n",
        "# Columns to match from left dataset\n",
        "left_on = ['title', 'authors', 'venue', 'year']\n",
        "\n",
        "# Columns to match from right dataset\n",
        "right_on = ['title', 'authors', 'venue', 'year']"
      ],
      "execution_count": null,
      "outputs": []
    },
    {
      "cell_type": "code",
      "metadata": {
        "id": "ARTefwl_n8Nq"
      },
      "source": [
        "# link table\n",
        "df_linked = fuzzymatcher.link_table(df_ACM, df_DBLP, left_on, right_on, \n",
        "                                    left_id_col='id', right_id_col='id')"
      ],
      "execution_count": null,
      "outputs": []
    },
    {
      "cell_type": "code",
      "metadata": {
        "colab": {
          "base_uri": "https://localhost:8080/",
          "height": 590
        },
        "id": "wUTAltejollS",
        "outputId": "aea34ff6-426b-487c-b88e-01704759f4c4"
      },
      "source": [
        "df_linked.head()"
      ],
      "execution_count": null,
      "outputs": [
        {
          "output_type": "execute_result",
          "data": {
            "text/html": [
              "<div>\n",
              "<style scoped>\n",
              "    .dataframe tbody tr th:only-of-type {\n",
              "        vertical-align: middle;\n",
              "    }\n",
              "\n",
              "    .dataframe tbody tr th {\n",
              "        vertical-align: top;\n",
              "    }\n",
              "\n",
              "    .dataframe thead th {\n",
              "        text-align: right;\n",
              "    }\n",
              "</style>\n",
              "<table border=\"1\" class=\"dataframe\">\n",
              "  <thead>\n",
              "    <tr style=\"text-align: right;\">\n",
              "      <th></th>\n",
              "      <th>__id_left</th>\n",
              "      <th>__id_right</th>\n",
              "      <th>match_score</th>\n",
              "      <th>match_rank</th>\n",
              "      <th>title_left</th>\n",
              "      <th>title_right</th>\n",
              "      <th>authors_left</th>\n",
              "      <th>authors_right</th>\n",
              "      <th>venue_left</th>\n",
              "      <th>venue_right</th>\n",
              "      <th>year_left</th>\n",
              "      <th>year_right</th>\n",
              "    </tr>\n",
              "  </thead>\n",
              "  <tbody>\n",
              "    <tr>\n",
              "      <th>0</th>\n",
              "      <td>304586</td>\n",
              "      <td>conf/sigmod/VossenW99</td>\n",
              "      <td>2.559548</td>\n",
              "      <td>1</td>\n",
              "      <td>The WASA2 object-oriented workflow management ...</td>\n",
              "      <td>The WASA2 Object-Oriented Workflow Management ...</td>\n",
              "      <td>Gottfried Vossen, Mathias Weske</td>\n",
              "      <td>Mathias Weske, Gottfried Vossen</td>\n",
              "      <td>International Conference on Management of Data</td>\n",
              "      <td>SIGMOD Conference</td>\n",
              "      <td>1999</td>\n",
              "      <td>1999</td>\n",
              "    </tr>\n",
              "    <tr>\n",
              "      <th>1</th>\n",
              "      <td>304587</td>\n",
              "      <td>conf/sigmod/CruzJ99</td>\n",
              "      <td>2.721471</td>\n",
              "      <td>1</td>\n",
              "      <td>A user-centered interface for querying distrib...</td>\n",
              "      <td>A User-Centered Interface for Querying Distrib...</td>\n",
              "      <td>Isabel F. Cruz, Kimberly M. James</td>\n",
              "      <td>Kimberly M. James, Isabel F. Cruz</td>\n",
              "      <td>International Conference on Management of Data</td>\n",
              "      <td>SIGMOD Conference</td>\n",
              "      <td>1999</td>\n",
              "      <td>1999</td>\n",
              "    </tr>\n",
              "    <tr>\n",
              "      <th>2</th>\n",
              "      <td>304589</td>\n",
              "      <td>conf/sigmod/BouguettayaBH99</td>\n",
              "      <td>4.568259</td>\n",
              "      <td>1</td>\n",
              "      <td>World Wide Database-integrating the Web, CORBA...</td>\n",
              "      <td>World Wide Database - Integrating the Web, COR...</td>\n",
              "      <td>Athman Bouguettaya, Boualem Benatallah, Lily H...</td>\n",
              "      <td>Kevin Smith, Athman Bouguettaya, Mourad Ouzzan...</td>\n",
              "      <td>International Conference on Management of Data</td>\n",
              "      <td>SIGMOD Conference</td>\n",
              "      <td>1999</td>\n",
              "      <td>1999</td>\n",
              "    </tr>\n",
              "    <tr>\n",
              "      <th>3</th>\n",
              "      <td>304590</td>\n",
              "      <td>conf/sigmod/BaruGLMPVC99</td>\n",
              "      <td>3.630595</td>\n",
              "      <td>1</td>\n",
              "      <td>XML-based information mediation with MIX</td>\n",
              "      <td>XML-Based Information Mediation with MIX</td>\n",
              "      <td>Chaitan Baru, Amarnath Gupta, Bertram Lud&amp;#228...</td>\n",
              "      <td>Yannis Papakonstantinou, Richard Marciano, Cha...</td>\n",
              "      <td>International Conference on Management of Data</td>\n",
              "      <td>SIGMOD Conference</td>\n",
              "      <td>1999</td>\n",
              "      <td>1999</td>\n",
              "    </tr>\n",
              "    <tr>\n",
              "      <th>4</th>\n",
              "      <td>304582</td>\n",
              "      <td>conf/sigmod/BrodskySCE99</td>\n",
              "      <td>2.969856</td>\n",
              "      <td>1</td>\n",
              "      <td>The CCUBE constraint object-oriented database ...</td>\n",
              "      <td>The CCUBE Constraint Object-Oriented Database ...</td>\n",
              "      <td>Alexander Brodsky, Victor E. Segal, Jia Chen, ...</td>\n",
              "      <td>Alexander Brodsky, Pavel A. Exarkhopoulo, Vict...</td>\n",
              "      <td>International Conference on Management of Data</td>\n",
              "      <td>SIGMOD Conference</td>\n",
              "      <td>1999</td>\n",
              "      <td>1999</td>\n",
              "    </tr>\n",
              "  </tbody>\n",
              "</table>\n",
              "</div>"
            ],
            "text/plain": [
              "   __id_left                   __id_right  ...  year_left  year_right\n",
              "0     304586        conf/sigmod/VossenW99  ...       1999        1999\n",
              "1     304587          conf/sigmod/CruzJ99  ...       1999        1999\n",
              "2     304589  conf/sigmod/BouguettayaBH99  ...       1999        1999\n",
              "3     304590     conf/sigmod/BaruGLMPVC99  ...       1999        1999\n",
              "4     304582     conf/sigmod/BrodskySCE99  ...       1999        1999\n",
              "\n",
              "[5 rows x 12 columns]"
            ]
          },
          "metadata": {},
          "execution_count": 20
        }
      ]
    },
    {
      "cell_type": "markdown",
      "metadata": {
        "id": "mY-S73MlpRF-"
      },
      "source": [
        "Looks good, we already see some matches here."
      ]
    },
    {
      "cell_type": "code",
      "metadata": {
        "colab": {
          "base_uri": "https://localhost:8080/",
          "height": 642
        },
        "id": "zUmXf5XzqCBV",
        "outputId": "8c83de6f-1107-404f-f22f-914e5a13ac49"
      },
      "source": [
        "mask = df_linked['authors_left'].str.contains('Alexander S.')\n",
        "df_linked[mask].sort_values(by='match_score', ascending=False)"
      ],
      "execution_count": null,
      "outputs": [
        {
          "output_type": "execute_result",
          "data": {
            "text/html": [
              "<div>\n",
              "<style scoped>\n",
              "    .dataframe tbody tr th:only-of-type {\n",
              "        vertical-align: middle;\n",
              "    }\n",
              "\n",
              "    .dataframe tbody tr th {\n",
              "        vertical-align: top;\n",
              "    }\n",
              "\n",
              "    .dataframe thead th {\n",
              "        text-align: right;\n",
              "    }\n",
              "</style>\n",
              "<table border=\"1\" class=\"dataframe\">\n",
              "  <thead>\n",
              "    <tr style=\"text-align: right;\">\n",
              "      <th></th>\n",
              "      <th>__id_left</th>\n",
              "      <th>__id_right</th>\n",
              "      <th>match_score</th>\n",
              "      <th>match_rank</th>\n",
              "      <th>title_left</th>\n",
              "      <th>title_right</th>\n",
              "      <th>authors_left</th>\n",
              "      <th>authors_right</th>\n",
              "      <th>venue_left</th>\n",
              "      <th>venue_right</th>\n",
              "      <th>year_left</th>\n",
              "      <th>year_right</th>\n",
              "    </tr>\n",
              "  </thead>\n",
              "  <tbody>\n",
              "    <tr>\n",
              "      <th>18328</th>\n",
              "      <td>564758</td>\n",
              "      <td>conf/sigmod/SzalayGTKMRSv02</td>\n",
              "      <td>6.679060</td>\n",
              "      <td>1</td>\n",
              "      <td>The SDSS skyserver: public access to the sloan...</td>\n",
              "      <td>The SDSS skyserver: public access to the sloan...</td>\n",
              "      <td>Alexander S. Szalay, Jim Gray, Ani R. Thakar, ...</td>\n",
              "      <td>Tanu Malik, Jordan Raddick, Alexander S. Szala...</td>\n",
              "      <td>International Conference on Management of Data</td>\n",
              "      <td>SIGMOD Conference</td>\n",
              "      <td>2002</td>\n",
              "      <td>2002</td>\n",
              "    </tr>\n",
              "    <tr>\n",
              "      <th>5879</th>\n",
              "      <td>335439</td>\n",
              "      <td>conf/sigmod/SzalayGKT00</td>\n",
              "      <td>5.072419</td>\n",
              "      <td>1</td>\n",
              "      <td>Designing and mining multi-terabyte astronomy ...</td>\n",
              "      <td>Designing and Mining Multi-Terabyte Astronomy ...</td>\n",
              "      <td>Alexander S. Szalay, Peter Z. Kunszt, Ani Thak...</td>\n",
              "      <td>Alexander S. Szalay, Donald R. Slutz, Ani Thak...</td>\n",
              "      <td>International Conference on Management of Data</td>\n",
              "      <td>SIGMOD Conference</td>\n",
              "      <td>2000</td>\n",
              "      <td>2000</td>\n",
              "    </tr>\n",
              "    <tr>\n",
              "      <th>5880</th>\n",
              "      <td>335439</td>\n",
              "      <td>conf/sigmod/Carey00</td>\n",
              "      <td>-3.018442</td>\n",
              "      <td>2</td>\n",
              "      <td>Designing and mining multi-terabyte astronomy ...</td>\n",
              "      <td>On XML and Databases: Where's the Beef? (Panel...</td>\n",
              "      <td>Alexander S. Szalay, Peter Z. Kunszt, Ani Thak...</td>\n",
              "      <td>Michael J. Carey</td>\n",
              "      <td>International Conference on Management of Data</td>\n",
              "      <td>SIGMOD Conference</td>\n",
              "      <td>2000</td>\n",
              "      <td>2000</td>\n",
              "    </tr>\n",
              "    <tr>\n",
              "      <th>5881</th>\n",
              "      <td>335439</td>\n",
              "      <td>conf/sigmod/Gal00</td>\n",
              "      <td>-3.599059</td>\n",
              "      <td>3</td>\n",
              "      <td>Designing and mining multi-terabyte astronomy ...</td>\n",
              "      <td>Data Management in eCommerce: The Good, the Ba...</td>\n",
              "      <td>Alexander S. Szalay, Peter Z. Kunszt, Ani Thak...</td>\n",
              "      <td>Avigdor Gal</td>\n",
              "      <td>International Conference on Management of Data</td>\n",
              "      <td>SIGMOD Conference</td>\n",
              "      <td>2000</td>\n",
              "      <td>2000</td>\n",
              "    </tr>\n",
              "    <tr>\n",
              "      <th>5882</th>\n",
              "      <td>335439</td>\n",
              "      <td>conf/sigmod/GoldmanW00</td>\n",
              "      <td>-3.634546</td>\n",
              "      <td>4</td>\n",
              "      <td>Designing and mining multi-terabyte astronomy ...</td>\n",
              "      <td>WSQ/DSQ: A Practical Approach for Combined Que...</td>\n",
              "      <td>Alexander S. Szalay, Peter Z. Kunszt, Ani Thak...</td>\n",
              "      <td>Roy Goldman, Jennifer Widom</td>\n",
              "      <td>International Conference on Management of Data</td>\n",
              "      <td>SIGMOD Conference</td>\n",
              "      <td>2000</td>\n",
              "      <td>2000</td>\n",
              "    </tr>\n",
              "  </tbody>\n",
              "</table>\n",
              "</div>"
            ],
            "text/plain": [
              "       __id_left                   __id_right  ...  year_left  year_right\n",
              "18328     564758  conf/sigmod/SzalayGTKMRSv02  ...       2002        2002\n",
              "5879      335439      conf/sigmod/SzalayGKT00  ...       2000        2000\n",
              "5880      335439          conf/sigmod/Carey00  ...       2000        2000\n",
              "5881      335439            conf/sigmod/Gal00  ...       2000        2000\n",
              "5882      335439       conf/sigmod/GoldmanW00  ...       2000        2000\n",
              "\n",
              "[5 rows x 12 columns]"
            ]
          },
          "metadata": {},
          "execution_count": 21
        }
      ]
    },
    {
      "cell_type": "markdown",
      "metadata": {
        "id": "jPh8-YHxroRW"
      },
      "source": [
        "Let's perform the matching:"
      ]
    },
    {
      "cell_type": "code",
      "metadata": {
        "id": "iJlfwNnCqvji",
        "colab": {
          "base_uri": "https://localhost:8080/"
        },
        "outputId": "d651b387-6c67-42b0-9693-5658c2cb890e"
      },
      "source": [
        "df_matched = fuzzymatcher.fuzzy_left_join(df_ACM, df_DBLP, left_on, right_on,\n",
        "                                          left_id_col='id', right_id_col='id')"
      ],
      "execution_count": null,
      "outputs": [
        {
          "output_type": "execute_result",
          "data": {
            "text/plain": [
              "36.597973346710205"
            ]
          },
          "metadata": {},
          "execution_count": 7
        }
      ]
    },
    {
      "cell_type": "markdown",
      "metadata": {
        "id": "j8DfBaxaucWD"
      },
      "source": [
        "Reorder columns for clarity:"
      ]
    },
    {
      "cell_type": "code",
      "metadata": {
        "colab": {
          "base_uri": "https://localhost:8080/"
        },
        "id": "S9YjrjwYuVY4",
        "outputId": "7123cb42-5311-4fb9-b216-2eabd7d38864"
      },
      "source": [
        "df_matched.columns"
      ],
      "execution_count": null,
      "outputs": [
        {
          "output_type": "execute_result",
          "data": {
            "text/plain": [
              "Index(['best_match_score', '__id_left', '__id_right', 'id_left', 'title_left',\n",
              "       'authors_left', 'venue_left', 'year_left', 'id_right', 'title_right',\n",
              "       'authors_right', 'venue_right', 'year_right'],\n",
              "      dtype='object')"
            ]
          },
          "metadata": {},
          "execution_count": 23
        }
      ]
    },
    {
      "cell_type": "code",
      "metadata": {
        "id": "lQMtWQdBsabi"
      },
      "source": [
        "cols = ['best_match_score', 'authors_left', 'authors_right',\n",
        "        'title_left', 'title_right', 'year_left',\n",
        "        'year_right', 'venue_left', 'venue_right']"
      ],
      "execution_count": null,
      "outputs": []
    },
    {
      "cell_type": "markdown",
      "metadata": {
        "id": "KtCNpnSSuh3J"
      },
      "source": [
        "Let's look at the highest score matches:"
      ]
    },
    {
      "cell_type": "code",
      "metadata": {
        "colab": {
          "base_uri": "https://localhost:8080/",
          "height": 432
        },
        "id": "RnJsi4Y3uTWA",
        "outputId": "f71f10a8-dd08-450f-ec48-e6f7029471fd"
      },
      "source": [
        "df_matched[cols].sort_values(by='best_match_score', ascending=False).head()"
      ],
      "execution_count": null,
      "outputs": [
        {
          "output_type": "execute_result",
          "data": {
            "text/html": [
              "<div>\n",
              "<style scoped>\n",
              "    .dataframe tbody tr th:only-of-type {\n",
              "        vertical-align: middle;\n",
              "    }\n",
              "\n",
              "    .dataframe tbody tr th {\n",
              "        vertical-align: top;\n",
              "    }\n",
              "\n",
              "    .dataframe thead th {\n",
              "        text-align: right;\n",
              "    }\n",
              "</style>\n",
              "<table border=\"1\" class=\"dataframe\">\n",
              "  <thead>\n",
              "    <tr style=\"text-align: right;\">\n",
              "      <th></th>\n",
              "      <th>best_match_score</th>\n",
              "      <th>authors_left</th>\n",
              "      <th>authors_right</th>\n",
              "      <th>title_left</th>\n",
              "      <th>title_right</th>\n",
              "      <th>year_left</th>\n",
              "      <th>year_right</th>\n",
              "      <th>venue_left</th>\n",
              "      <th>venue_right</th>\n",
              "    </tr>\n",
              "  </thead>\n",
              "  <tbody>\n",
              "    <tr>\n",
              "      <th>25237</th>\n",
              "      <td>9.284321</td>\n",
              "      <td>Michael J. Carey, Steve Kirsch, Mary Roth, Ber...</td>\n",
              "      <td>Runping Qi, Kuan Yee, Brian Sterling, Nicolas ...</td>\n",
              "      <td>The Propel Distributed Services Platform</td>\n",
              "      <td>The Propel Distributed Services Platform</td>\n",
              "      <td>2001</td>\n",
              "      <td>2001</td>\n",
              "      <td>Very Large Data Bases</td>\n",
              "      <td>VLDB</td>\n",
              "    </tr>\n",
              "    <tr>\n",
              "      <th>34559</th>\n",
              "      <td>9.233475</td>\n",
              "      <td>Eugene Inseok Chong, Jagannathan Srinivasan, S...</td>\n",
              "      <td>Mahesh Jagannath, Eugene Inseok Chong, Aravind...</td>\n",
              "      <td>A mapping mechanism to support bitmap index an...</td>\n",
              "      <td>A mapping mechanism to support bitmap index an...</td>\n",
              "      <td>2003</td>\n",
              "      <td>2003</td>\n",
              "      <td>ACM SIGMOD Record</td>\n",
              "      <td>SIGMOD Record</td>\n",
              "    </tr>\n",
              "    <tr>\n",
              "      <th>29283</th>\n",
              "      <td>9.165640</td>\n",
              "      <td>Richard Thomas Snodgrass, Ilsoo Ahn, Gadi Aria...</td>\n",
              "      <td>Wolfgang Käfer, Curtis E. Dyreson, Arie Segev,...</td>\n",
              "      <td>TSQL2 language specification</td>\n",
              "      <td>TSQL2 Language Specification</td>\n",
              "      <td>1994</td>\n",
              "      <td>1994</td>\n",
              "      <td>ACM SIGMOD Record</td>\n",
              "      <td>SIGMOD Record</td>\n",
              "    </tr>\n",
              "    <tr>\n",
              "      <th>28619</th>\n",
              "      <td>9.091846</td>\n",
              "      <td>Richard Thomas Snodgrass, Ilsoo Ahn, Gad Ariav...</td>\n",
              "      <td>James Clifford, Ramez Elmasri, Michael D. Soo,...</td>\n",
              "      <td>A TSQL2 tutorial</td>\n",
              "      <td>A TSQL2 Tutorial</td>\n",
              "      <td>1994</td>\n",
              "      <td>1994</td>\n",
              "      <td>ACM SIGMOD Record</td>\n",
              "      <td>SIGMOD Record</td>\n",
              "    </tr>\n",
              "    <tr>\n",
              "      <th>427</th>\n",
              "      <td>8.605697</td>\n",
              "      <td>Wen-Syan Li, Quoc Vu, Edward Chang, Divyakant ...</td>\n",
              "      <td>Kazuyuki Shimazu, Sougata Mukherjea, Yi-Leh Wu...</td>\n",
              "      <td>PowerBookmarks: a system for personalizable We...</td>\n",
              "      <td>PowerBookmarks: A System for Personalizable We...</td>\n",
              "      <td>1999</td>\n",
              "      <td>1999</td>\n",
              "      <td>International Conference on Management of Data</td>\n",
              "      <td>SIGMOD Conference</td>\n",
              "    </tr>\n",
              "  </tbody>\n",
              "</table>\n",
              "</div>"
            ],
            "text/plain": [
              "       best_match_score  ...        venue_right\n",
              "25237          9.284321  ...               VLDB\n",
              "34559          9.233475  ...      SIGMOD Record\n",
              "29283          9.165640  ...      SIGMOD Record\n",
              "28619          9.091846  ...      SIGMOD Record\n",
              "427            8.605697  ...  SIGMOD Conference\n",
              "\n",
              "[5 rows x 9 columns]"
            ]
          },
          "metadata": {},
          "execution_count": 25
        }
      ]
    },
    {
      "cell_type": "markdown",
      "metadata": {
        "id": "1UxQha0euyvZ"
      },
      "source": [
        "Now, at the worst ones:"
      ]
    },
    {
      "cell_type": "code",
      "metadata": {
        "colab": {
          "base_uri": "https://localhost:8080/",
          "height": 466
        },
        "id": "m1sAmCO6u0ns",
        "outputId": "0e92b195-849b-4305-ea61-6f04f17ffc4c"
      },
      "source": [
        "df_matched[cols].sort_values(by='best_match_score').head()"
      ],
      "execution_count": null,
      "outputs": [
        {
          "output_type": "execute_result",
          "data": {
            "text/html": [
              "<div>\n",
              "<style scoped>\n",
              "    .dataframe tbody tr th:only-of-type {\n",
              "        vertical-align: middle;\n",
              "    }\n",
              "\n",
              "    .dataframe tbody tr th {\n",
              "        vertical-align: top;\n",
              "    }\n",
              "\n",
              "    .dataframe thead th {\n",
              "        text-align: right;\n",
              "    }\n",
              "</style>\n",
              "<table border=\"1\" class=\"dataframe\">\n",
              "  <thead>\n",
              "    <tr style=\"text-align: right;\">\n",
              "      <th></th>\n",
              "      <th>best_match_score</th>\n",
              "      <th>authors_left</th>\n",
              "      <th>authors_right</th>\n",
              "      <th>title_left</th>\n",
              "      <th>title_right</th>\n",
              "      <th>year_left</th>\n",
              "      <th>year_right</th>\n",
              "      <th>venue_left</th>\n",
              "      <th>venue_right</th>\n",
              "    </tr>\n",
              "  </thead>\n",
              "  <tbody>\n",
              "    <tr>\n",
              "      <th>19602</th>\n",
              "      <td>-1.972738</td>\n",
              "      <td>Marianne Winslett</td>\n",
              "      <td>Marianne Winslett</td>\n",
              "      <td>David DeWitt speaks out: on rethinking the CS ...</td>\n",
              "      <td>Gio Wiederhold Speaks Out on Moving into Acade...</td>\n",
              "      <td>2002</td>\n",
              "      <td>2001</td>\n",
              "      <td>ACM SIGMOD Record</td>\n",
              "      <td>SIGMOD Record</td>\n",
              "    </tr>\n",
              "    <tr>\n",
              "      <th>29397</th>\n",
              "      <td>-1.682680</td>\n",
              "      <td>Curtis Dyreson, Fabio Grandi, Wolfgang K&amp;#228;...</td>\n",
              "      <td>James Clifford, Ramez Elmasri, Michael D. Soo,...</td>\n",
              "      <td>A consensus glossary of temporal database conc...</td>\n",
              "      <td>A TSQL2 Tutorial</td>\n",
              "      <td>1994</td>\n",
              "      <td>1994</td>\n",
              "      <td>ACM SIGMOD Record</td>\n",
              "      <td>SIGMOD Record</td>\n",
              "    </tr>\n",
              "    <tr>\n",
              "      <th>5656</th>\n",
              "      <td>-1.278196</td>\n",
              "      <td>Val Huber</td>\n",
              "      <td>Ronald G. Ross</td>\n",
              "      <td>Challenges in automating declarative business ...</td>\n",
              "      <td>Expressing Business Rules</td>\n",
              "      <td>2000</td>\n",
              "      <td>2000</td>\n",
              "      <td>International Conference on Management of Data</td>\n",
              "      <td>SIGMOD Conference</td>\n",
              "    </tr>\n",
              "    <tr>\n",
              "      <th>34030</th>\n",
              "      <td>-1.271728</td>\n",
              "      <td>Zachary Ives</td>\n",
              "      <td>Objectivity</td>\n",
              "      <td>Abstracts of invited industrial track presenta...</td>\n",
              "      <td>Objectivity Industrial Exhibit</td>\n",
              "      <td>2003</td>\n",
              "      <td>1998</td>\n",
              "      <td>International Conference on Management of Data</td>\n",
              "      <td>VLDB</td>\n",
              "    </tr>\n",
              "    <tr>\n",
              "      <th>5447</th>\n",
              "      <td>-1.263943</td>\n",
              "      <td>Eric Kintzer</td>\n",
              "      <td>Eric A. Brewer</td>\n",
              "      <td>Going beyond personalization: rule engines at ...</td>\n",
              "      <td>Delivering High Availability for Inktomi Searc...</td>\n",
              "      <td>2000</td>\n",
              "      <td>1998</td>\n",
              "      <td>International Conference on Management of Data</td>\n",
              "      <td>SIGMOD Conference</td>\n",
              "    </tr>\n",
              "  </tbody>\n",
              "</table>\n",
              "</div>"
            ],
            "text/plain": [
              "       best_match_score  ...        venue_right\n",
              "19602         -1.972738  ...      SIGMOD Record\n",
              "29397         -1.682680  ...      SIGMOD Record\n",
              "5656          -1.278196  ...  SIGMOD Conference\n",
              "34030         -1.271728  ...               VLDB\n",
              "5447          -1.263943  ...  SIGMOD Conference\n",
              "\n",
              "[5 rows x 9 columns]"
            ]
          },
          "metadata": {},
          "execution_count": 26
        }
      ]
    },
    {
      "cell_type": "markdown",
      "metadata": {
        "id": "Gq2qrPxcvG35"
      },
      "source": [
        "Now, at ones somewhere in the middle:"
      ]
    },
    {
      "cell_type": "code",
      "metadata": {
        "colab": {
          "base_uri": "https://localhost:8080/",
          "height": 1000
        },
        "id": "YDojeubKvKxq",
        "outputId": "ddc6bf93-d85f-471f-e0f1-ae320c1adbb0"
      },
      "source": [
        "mask = (df_matched['best_match_score'] > 0.7) & (df_matched['best_match_score'] < 0.9)\n",
        "df_matched[cols][mask]"
      ],
      "execution_count": null,
      "outputs": [
        {
          "output_type": "execute_result",
          "data": {
            "text/html": [
              "<div>\n",
              "<style scoped>\n",
              "    .dataframe tbody tr th:only-of-type {\n",
              "        vertical-align: middle;\n",
              "    }\n",
              "\n",
              "    .dataframe tbody tr th {\n",
              "        vertical-align: top;\n",
              "    }\n",
              "\n",
              "    .dataframe thead th {\n",
              "        text-align: right;\n",
              "    }\n",
              "</style>\n",
              "<table border=\"1\" class=\"dataframe\">\n",
              "  <thead>\n",
              "    <tr style=\"text-align: right;\">\n",
              "      <th></th>\n",
              "      <th>best_match_score</th>\n",
              "      <th>authors_left</th>\n",
              "      <th>authors_right</th>\n",
              "      <th>title_left</th>\n",
              "      <th>title_right</th>\n",
              "      <th>year_left</th>\n",
              "      <th>year_right</th>\n",
              "      <th>venue_left</th>\n",
              "      <th>venue_right</th>\n",
              "    </tr>\n",
              "  </thead>\n",
              "  <tbody>\n",
              "    <tr>\n",
              "      <th>537</th>\n",
              "      <td>0.880783</td>\n",
              "      <td>Dan Suciu</td>\n",
              "      <td>Dan Suciu</td>\n",
              "      <td>Managing Web data</td>\n",
              "      <td>Managing Web Data</td>\n",
              "      <td>1999</td>\n",
              "      <td>1999</td>\n",
              "      <td>International Conference on Management of Data</td>\n",
              "      <td>SIGMOD Conference</td>\n",
              "    </tr>\n",
              "    <tr>\n",
              "      <th>670</th>\n",
              "      <td>0.774901</td>\n",
              "      <td>Anand Rajaraman</td>\n",
              "      <td>Anand Rajaraman</td>\n",
              "      <td>E-commerce database issues and experience: (ta...</td>\n",
              "      <td>E-Commerce Database Issues and Experience</td>\n",
              "      <td>1999</td>\n",
              "      <td>1999</td>\n",
              "      <td>International Conference on Management of Data</td>\n",
              "      <td>SIGMOD Conference</td>\n",
              "    </tr>\n",
              "    <tr>\n",
              "      <th>683</th>\n",
              "      <td>0.776535</td>\n",
              "      <td>CORPORATE TimesTen Team</td>\n",
              "      <td>Times-Ten Team</td>\n",
              "      <td>In-memory data management for consumer transac...</td>\n",
              "      <td>In-Memory Data Management for Consumer Transac...</td>\n",
              "      <td>1999</td>\n",
              "      <td>1999</td>\n",
              "      <td>International Conference on Management of Data</td>\n",
              "      <td>SIGMOD Conference</td>\n",
              "    </tr>\n",
              "    <tr>\n",
              "      <th>2298</th>\n",
              "      <td>0.824726</td>\n",
              "      <td>Larry J. Ellison</td>\n",
              "      <td>Larry Ellison</td>\n",
              "      <td>Keynote address</td>\n",
              "      <td>Keynote Address</td>\n",
              "      <td>1995</td>\n",
              "      <td>1995</td>\n",
              "      <td>International Conference on Management of Data</td>\n",
              "      <td>SIGMOD Conference</td>\n",
              "    </tr>\n",
              "    <tr>\n",
              "      <th>3107</th>\n",
              "      <td>0.899367</td>\n",
              "      <td>Pillip A. Bernstein</td>\n",
              "      <td>Philip A. Bernstein</td>\n",
              "      <td>Repository system engineering</td>\n",
              "      <td>Repository System Engineering</td>\n",
              "      <td>1996</td>\n",
              "      <td>1996</td>\n",
              "      <td>International Conference on Management of Data</td>\n",
              "      <td>SIGMOD Conference</td>\n",
              "    </tr>\n",
              "    <tr>\n",
              "      <th>3108</th>\n",
              "      <td>0.823825</td>\n",
              "      <td>Daniel A. Keim</td>\n",
              "      <td>Daniel A. Keim</td>\n",
              "      <td>databases and visualization</td>\n",
              "      <td>Databases and Visualization</td>\n",
              "      <td>1996</td>\n",
              "      <td>1996</td>\n",
              "      <td>International Conference on Management of Data</td>\n",
              "      <td>SIGMOD Conference</td>\n",
              "    </tr>\n",
              "    <tr>\n",
              "      <th>3114</th>\n",
              "      <td>0.713977</td>\n",
              "      <td>Jiawei Han</td>\n",
              "      <td>Jiawei Han</td>\n",
              "      <td>Data mining techniques</td>\n",
              "      <td>Data Mining Techniques</td>\n",
              "      <td>1996</td>\n",
              "      <td>1996</td>\n",
              "      <td>International Conference on Management of Data</td>\n",
              "      <td>SIGMOD Conference</td>\n",
              "    </tr>\n",
              "    <tr>\n",
              "      <th>3784</th>\n",
              "      <td>0.776535</td>\n",
              "      <td>Asuman Dogac</td>\n",
              "      <td>Asuman Dogac</td>\n",
              "      <td>Data management issues in electronic commerce:...</td>\n",
              "      <td>Guest Editor's Introduction</td>\n",
              "      <td>2002</td>\n",
              "      <td>2002</td>\n",
              "      <td>ACM SIGMOD Record</td>\n",
              "      <td>SIGMOD Record</td>\n",
              "    </tr>\n",
              "    <tr>\n",
              "      <th>4395</th>\n",
              "      <td>0.849605</td>\n",
              "      <td>C. Mohan, Larry Cable, Matthieu Devin, Scott D...</td>\n",
              "      <td>C. Mohan</td>\n",
              "      <td>Application servers (panel session): born-agai...</td>\n",
              "      <td>Application Servers: Born-Again TP Monitors fo...</td>\n",
              "      <td>2001</td>\n",
              "      <td>2001</td>\n",
              "      <td>International Conference on Management of Data</td>\n",
              "      <td>SIGMOD Conference</td>\n",
              "    </tr>\n",
              "    <tr>\n",
              "      <th>5902</th>\n",
              "      <td>0.818986</td>\n",
              "      <td>B. P&amp;#244;ssas, M. Carvalho, R. Resende, W. Me...</td>\n",
              "      <td>Márcio de Carvalho, Rodolfo F. Resende, Bruno ...</td>\n",
              "      <td>Using quantitative information for efficient a...</td>\n",
              "      <td>Using Quantitative Information for Efficient A...</td>\n",
              "      <td>2000</td>\n",
              "      <td>2000</td>\n",
              "      <td>ACM SIGMOD Record</td>\n",
              "      <td>SIGMOD Record</td>\n",
              "    </tr>\n",
              "    <tr>\n",
              "      <th>10128</th>\n",
              "      <td>0.899564</td>\n",
              "      <td>Won Kim</td>\n",
              "      <td>Won Kim</td>\n",
              "      <td>Editorial: Charter and scope</td>\n",
              "      <td>Charter and Scope</td>\n",
              "      <td>1995</td>\n",
              "      <td>1994</td>\n",
              "      <td>ACM Transactions on Database Systems (TODS)</td>\n",
              "      <td>ACM Trans. Database Syst.</td>\n",
              "    </tr>\n",
              "    <tr>\n",
              "      <th>13995</th>\n",
              "      <td>0.745694</td>\n",
              "      <td>Karl Aberer</td>\n",
              "      <td>Karl Aberer</td>\n",
              "      <td>Book reviews</td>\n",
              "      <td>Call for Book Reviews</td>\n",
              "      <td>2001</td>\n",
              "      <td>2003</td>\n",
              "      <td>ACM SIGMOD Record</td>\n",
              "      <td>SIGMOD Record</td>\n",
              "    </tr>\n",
              "    <tr>\n",
              "      <th>15894</th>\n",
              "      <td>0.848369</td>\n",
              "      <td>Kenneth A. Ross</td>\n",
              "      <td>Kenneth A. Ross, Kyuseok Shim, Mary F. Fernandez</td>\n",
              "      <td>Reminiscences on influential papers</td>\n",
              "      <td>Reminiscences on Influential Papers</td>\n",
              "      <td>2002</td>\n",
              "      <td>2002</td>\n",
              "      <td>ACM SIGMOD Record</td>\n",
              "      <td>SIGMOD Record</td>\n",
              "    </tr>\n",
              "    <tr>\n",
              "      <th>20503</th>\n",
              "      <td>0.755683</td>\n",
              "      <td>Paul Cotton</td>\n",
              "      <td>Paul Cotton</td>\n",
              "      <td>Implementing XQuery</td>\n",
              "      <td>Implementing XQuery</td>\n",
              "      <td>2002</td>\n",
              "      <td>2002</td>\n",
              "      <td>International Conference on Management of Data</td>\n",
              "      <td>SIGMOD Conference</td>\n",
              "    </tr>\n",
              "    <tr>\n",
              "      <th>24246</th>\n",
              "      <td>0.835242</td>\n",
              "      <td>&amp;#216;ystein Gr&amp;#248;vlen, Svein-Olaf Hvasshov...</td>\n",
              "      <td>Øystein Torbjørnsen, Øystein Grøvlen, Svein-Ol...</td>\n",
              "      <td>Low-Cost Compensation-Based Query Processing</td>\n",
              "      <td>Low-Cost Compensation-Based Query Processing</td>\n",
              "      <td>1998</td>\n",
              "      <td>1998</td>\n",
              "      <td>Very Large Data Bases</td>\n",
              "      <td>VLDB</td>\n",
              "    </tr>\n",
              "    <tr>\n",
              "      <th>24253</th>\n",
              "      <td>0.810846</td>\n",
              "      <td>Fr&amp;#233;d&amp;#233;ric Cuppens</td>\n",
              "      <td>Frédéric Cuppens</td>\n",
              "      <td>Querying a Multilevel Database: A Logical Anal...</td>\n",
              "      <td>Querying a Multilevel Database: A Logical Anal...</td>\n",
              "      <td>1996</td>\n",
              "      <td>1996</td>\n",
              "      <td>Very Large Data Bases</td>\n",
              "      <td>VLDB</td>\n",
              "    </tr>\n",
              "    <tr>\n",
              "      <th>24784</th>\n",
              "      <td>0.778095</td>\n",
              "      <td>Paolo Atzeni, Alberto O. Mendelzon</td>\n",
              "      <td>Alberto O. Mendelzon, Paolo Atzeni</td>\n",
              "      <td>Guest editorial</td>\n",
              "      <td>Guest Editorial: Databases and the Web</td>\n",
              "      <td>2000</td>\n",
              "      <td>2000</td>\n",
              "      <td>The VLDB Journal &amp;mdash; The International Jou...</td>\n",
              "      <td>VLDB J.</td>\n",
              "    </tr>\n",
              "    <tr>\n",
              "      <th>27898</th>\n",
              "      <td>0.838196</td>\n",
              "      <td>C&amp;#233;sar A. Galindo-Legaria</td>\n",
              "      <td>César A. Galindo-Legaria</td>\n",
              "      <td>Outerjoins as disjunctions</td>\n",
              "      <td>Outerjoins as Disjunctions</td>\n",
              "      <td>1994</td>\n",
              "      <td>1994</td>\n",
              "      <td>International Conference on Management of Data</td>\n",
              "      <td>SIGMOD Conference</td>\n",
              "    </tr>\n",
              "    <tr>\n",
              "      <th>28061</th>\n",
              "      <td>0.822120</td>\n",
              "      <td>H. V. Jagadish</td>\n",
              "      <td>H. V. Jagadish</td>\n",
              "      <td>Databases for networks</td>\n",
              "      <td>Databases for Networks</td>\n",
              "      <td>1994</td>\n",
              "      <td>1994</td>\n",
              "      <td>International Conference on Management of Data</td>\n",
              "      <td>SIGMOD Conference</td>\n",
              "    </tr>\n",
              "    <tr>\n",
              "      <th>31509</th>\n",
              "      <td>0.865877</td>\n",
              "      <td>Re&amp;#233;e J. Miller</td>\n",
              "      <td>Renée J. Miller</td>\n",
              "      <td>Using schematically heterogeneous structures</td>\n",
              "      <td>Using Schematically Heterogeneous Structures</td>\n",
              "      <td>1998</td>\n",
              "      <td>1998</td>\n",
              "      <td>International Conference on Management of Data</td>\n",
              "      <td>SIGMOD Conference</td>\n",
              "    </tr>\n",
              "    <tr>\n",
              "      <th>31653</th>\n",
              "      <td>0.894694</td>\n",
              "      <td>Narayanan Shivakumar, H&amp;#233;ctor Garc&amp;#237;a-...</td>\n",
              "      <td>Hector Garcia-Molina, Narayanan Shivakumar</td>\n",
              "      <td>Wave-indices: indexing evolving databases</td>\n",
              "      <td>Wave-Indices: Indexing Evolving Databases</td>\n",
              "      <td>1997</td>\n",
              "      <td>1997</td>\n",
              "      <td>International Conference on Management of Data</td>\n",
              "      <td>SIGMOD Conference</td>\n",
              "    </tr>\n",
              "    <tr>\n",
              "      <th>34346</th>\n",
              "      <td>0.801884</td>\n",
              "      <td>Don Chamberlin</td>\n",
              "      <td>Donald D. Chamberlin</td>\n",
              "      <td>XQuery: a query language for XML</td>\n",
              "      <td>XQuery: A Query Language for XML</td>\n",
              "      <td>2003</td>\n",
              "      <td>2003</td>\n",
              "      <td>International Conference on Management of Data</td>\n",
              "      <td>SIGMOD Conference</td>\n",
              "    </tr>\n",
              "    <tr>\n",
              "      <th>35565</th>\n",
              "      <td>0.774980</td>\n",
              "      <td>Karl Aberer</td>\n",
              "      <td>Karl Aberer</td>\n",
              "      <td>Book reviews</td>\n",
              "      <td>Call for Book Reviews</td>\n",
              "      <td>2003</td>\n",
              "      <td>2003</td>\n",
              "      <td>ACM SIGMOD Record</td>\n",
              "      <td>SIGMOD Record</td>\n",
              "    </tr>\n",
              "    <tr>\n",
              "      <th>36801</th>\n",
              "      <td>0.878182</td>\n",
              "      <td>Pedro Jos&amp;#233; Marr&amp;#243;n, Georg Lausen</td>\n",
              "      <td>Pedro José Marrón, Georg Lausen</td>\n",
              "      <td>On Processing XML in LDAP</td>\n",
              "      <td>On Processing XML in LDAP</td>\n",
              "      <td>2001</td>\n",
              "      <td>2001</td>\n",
              "      <td>Very Large Data Bases</td>\n",
              "      <td>VLDB</td>\n",
              "    </tr>\n",
              "  </tbody>\n",
              "</table>\n",
              "</div>"
            ],
            "text/plain": [
              "       best_match_score  ...                venue_right\n",
              "537            0.880783  ...          SIGMOD Conference\n",
              "670            0.774901  ...          SIGMOD Conference\n",
              "683            0.776535  ...          SIGMOD Conference\n",
              "2298           0.824726  ...          SIGMOD Conference\n",
              "3107           0.899367  ...          SIGMOD Conference\n",
              "3108           0.823825  ...          SIGMOD Conference\n",
              "3114           0.713977  ...          SIGMOD Conference\n",
              "3784           0.776535  ...              SIGMOD Record\n",
              "4395           0.849605  ...          SIGMOD Conference\n",
              "5902           0.818986  ...              SIGMOD Record\n",
              "10128          0.899564  ...  ACM Trans. Database Syst.\n",
              "13995          0.745694  ...              SIGMOD Record\n",
              "15894          0.848369  ...              SIGMOD Record\n",
              "20503          0.755683  ...          SIGMOD Conference\n",
              "24246          0.835242  ...                       VLDB\n",
              "24253          0.810846  ...                       VLDB\n",
              "24784          0.778095  ...                    VLDB J.\n",
              "27898          0.838196  ...          SIGMOD Conference\n",
              "28061          0.822120  ...          SIGMOD Conference\n",
              "31509          0.865877  ...          SIGMOD Conference\n",
              "31653          0.894694  ...          SIGMOD Conference\n",
              "34346          0.801884  ...          SIGMOD Conference\n",
              "35565          0.774980  ...              SIGMOD Record\n",
              "36801          0.878182  ...                       VLDB\n",
              "\n",
              "[24 rows x 9 columns]"
            ]
          },
          "metadata": {},
          "execution_count": 27
        }
      ]
    },
    {
      "cell_type": "code",
      "metadata": {
        "colab": {
          "base_uri": "https://localhost:8080/",
          "height": 929
        },
        "id": "e26X7DAyzs8k",
        "outputId": "738daf39-9ca2-4b43-c886-54c4815e0cdf"
      },
      "source": [
        "mask = (df_matched['best_match_score'] > 0.2) & (df_matched['best_match_score'] < 0.4)\n",
        "df_matched[cols][mask]"
      ],
      "execution_count": null,
      "outputs": [
        {
          "output_type": "execute_result",
          "data": {
            "text/html": [
              "<div>\n",
              "<style scoped>\n",
              "    .dataframe tbody tr th:only-of-type {\n",
              "        vertical-align: middle;\n",
              "    }\n",
              "\n",
              "    .dataframe tbody tr th {\n",
              "        vertical-align: top;\n",
              "    }\n",
              "\n",
              "    .dataframe thead th {\n",
              "        text-align: right;\n",
              "    }\n",
              "</style>\n",
              "<table border=\"1\" class=\"dataframe\">\n",
              "  <thead>\n",
              "    <tr style=\"text-align: right;\">\n",
              "      <th></th>\n",
              "      <th>best_match_score</th>\n",
              "      <th>authors_left</th>\n",
              "      <th>authors_right</th>\n",
              "      <th>title_left</th>\n",
              "      <th>title_right</th>\n",
              "      <th>year_left</th>\n",
              "      <th>year_right</th>\n",
              "      <th>venue_left</th>\n",
              "      <th>venue_right</th>\n",
              "    </tr>\n",
              "  </thead>\n",
              "  <tbody>\n",
              "    <tr>\n",
              "      <th>556</th>\n",
              "      <td>0.359636</td>\n",
              "      <td>Dirk D&amp;#252;llmann</td>\n",
              "      <td>Dirk Düllmann</td>\n",
              "      <td>Petabyte databases</td>\n",
              "      <td>Petabyte Databases</td>\n",
              "      <td>1999</td>\n",
              "      <td>1999</td>\n",
              "      <td>International Conference on Management of Data</td>\n",
              "      <td>SIGMOD Conference</td>\n",
              "    </tr>\n",
              "    <tr>\n",
              "      <th>569</th>\n",
              "      <td>0.309773</td>\n",
              "      <td>Bassel Ojjeh</td>\n",
              "      <td>Bassel Ojjeh</td>\n",
              "      <td>Microsoft site server (commerce ed.): Talk-sli...</td>\n",
              "      <td>Microsoft Site Server (Commerce Edition)</td>\n",
              "      <td>1999</td>\n",
              "      <td>1999</td>\n",
              "      <td>International Conference on Management of Data</td>\n",
              "      <td>SIGMOD Conference</td>\n",
              "    </tr>\n",
              "    <tr>\n",
              "      <th>3885</th>\n",
              "      <td>0.373410</td>\n",
              "      <td>Asuman Dogac</td>\n",
              "      <td>M. Tamer Özsu</td>\n",
              "      <td>Data management issues in electronic commerce</td>\n",
              "      <td>Data Management Issues in Electronic Commerce ...</td>\n",
              "      <td>2002</td>\n",
              "      <td>1999</td>\n",
              "      <td>ACM SIGMOD Record</td>\n",
              "      <td>SIGMOD Conference</td>\n",
              "    </tr>\n",
              "    <tr>\n",
              "      <th>9152</th>\n",
              "      <td>0.387697</td>\n",
              "      <td>Jim Melton</td>\n",
              "      <td>Jim Melton, Andrew Eisenberg</td>\n",
              "      <td>Standards</td>\n",
              "      <td>Standards in Practice</td>\n",
              "      <td>2002</td>\n",
              "      <td>1998</td>\n",
              "      <td>ACM SIGMOD Record</td>\n",
              "      <td>SIGMOD Record</td>\n",
              "    </tr>\n",
              "    <tr>\n",
              "      <th>14520</th>\n",
              "      <td>0.207694</td>\n",
              "      <td>Robert Meersman, Amit Sheth</td>\n",
              "      <td>Robert Meersman, Amit P. Sheth</td>\n",
              "      <td>Special section on semantic web and data manag...</td>\n",
              "      <td>Amicalola Report: Database and Information Sys...</td>\n",
              "      <td>2002</td>\n",
              "      <td>2002</td>\n",
              "      <td>ACM SIGMOD Record</td>\n",
              "      <td>SIGMOD Record</td>\n",
              "    </tr>\n",
              "    <tr>\n",
              "      <th>16975</th>\n",
              "      <td>0.302997</td>\n",
              "      <td>Philip M. Lewis, Arthur Bernstein, Michael Kifer</td>\n",
              "      <td>Alfons Kemper</td>\n",
              "      <td>Databases and transaction processing: an appli...</td>\n",
              "      <td>Databases and Transaction Processing: An Appli...</td>\n",
              "      <td>2002</td>\n",
              "      <td>2002</td>\n",
              "      <td>ACM SIGMOD Record</td>\n",
              "      <td>SIGMOD Record</td>\n",
              "    </tr>\n",
              "    <tr>\n",
              "      <th>17025</th>\n",
              "      <td>0.320648</td>\n",
              "      <td>Ian H. Witten, Eibe Frank</td>\n",
              "      <td>James Geller</td>\n",
              "      <td>Data mining: practical machine learning tools ...</td>\n",
              "      <td>Data Mining: Practical Machine Learning Tools ...</td>\n",
              "      <td>2002</td>\n",
              "      <td>2002</td>\n",
              "      <td>ACM SIGMOD Record</td>\n",
              "      <td>SIGMOD Record</td>\n",
              "    </tr>\n",
              "    <tr>\n",
              "      <th>17194</th>\n",
              "      <td>0.237184</td>\n",
              "      <td>Len Seligman</td>\n",
              "      <td>Leonard J. Seligman</td>\n",
              "      <td>Industry perspective</td>\n",
              "      <td>Industry Perspectives</td>\n",
              "      <td>2002</td>\n",
              "      <td>1997</td>\n",
              "      <td>ACM SIGMOD Record</td>\n",
              "      <td>SIGMOD Record</td>\n",
              "    </tr>\n",
              "    <tr>\n",
              "      <th>19182</th>\n",
              "      <td>0.376142</td>\n",
              "      <td>Aris Ouksel</td>\n",
              "      <td>Aris M. Ouksel</td>\n",
              "      <td>Mining the world wide web: an information sear...</td>\n",
              "      <td>Mining the World Wide Web: An Information Sear...</td>\n",
              "      <td>2002</td>\n",
              "      <td>2002</td>\n",
              "      <td>ACM SIGMOD Record</td>\n",
              "      <td>SIGMOD Record</td>\n",
              "    </tr>\n",
              "    <tr>\n",
              "      <th>20990</th>\n",
              "      <td>0.387697</td>\n",
              "      <td>Jim Melton</td>\n",
              "      <td>Jim Melton, Andrew Eisenberg</td>\n",
              "      <td>Standards</td>\n",
              "      <td>Standards in Practice</td>\n",
              "      <td>2002</td>\n",
              "      <td>1998</td>\n",
              "      <td>ACM SIGMOD Record</td>\n",
              "      <td>SIGMOD Record</td>\n",
              "    </tr>\n",
              "    <tr>\n",
              "      <th>24540</th>\n",
              "      <td>0.361141</td>\n",
              "      <td>M. P. Papazoglou, B. J. Kr&amp;#228;mer</td>\n",
              "      <td>Mike P. Papazoglou, Bernd J. Krämer</td>\n",
              "      <td>A database model for object dynamics</td>\n",
              "      <td>A Database Model for Object Dynamics</td>\n",
              "      <td>1997</td>\n",
              "      <td>1997</td>\n",
              "      <td>The VLDB Journal &amp;mdash; The International Jou...</td>\n",
              "      <td>VLDB J.</td>\n",
              "    </tr>\n",
              "    <tr>\n",
              "      <th>39357</th>\n",
              "      <td>0.236657</td>\n",
              "      <td>Aris M. Ouksel</td>\n",
              "      <td>Aris M. Ouksel</td>\n",
              "      <td>In-context peer-to-peer information filtering ...</td>\n",
              "      <td>Mining the World Wide Web: An Information Sear...</td>\n",
              "      <td>2003</td>\n",
              "      <td>2002</td>\n",
              "      <td>ACM SIGMOD Record</td>\n",
              "      <td>SIGMOD Record</td>\n",
              "    </tr>\n",
              "  </tbody>\n",
              "</table>\n",
              "</div>"
            ],
            "text/plain": [
              "       best_match_score  ...        venue_right\n",
              "556            0.359636  ...  SIGMOD Conference\n",
              "569            0.309773  ...  SIGMOD Conference\n",
              "3885           0.373410  ...  SIGMOD Conference\n",
              "9152           0.387697  ...      SIGMOD Record\n",
              "14520          0.207694  ...      SIGMOD Record\n",
              "16975          0.302997  ...      SIGMOD Record\n",
              "17025          0.320648  ...      SIGMOD Record\n",
              "17194          0.237184  ...      SIGMOD Record\n",
              "19182          0.376142  ...      SIGMOD Record\n",
              "20990          0.387697  ...      SIGMOD Record\n",
              "24540          0.361141  ...            VLDB J.\n",
              "39357          0.236657  ...      SIGMOD Record\n",
              "\n",
              "[12 rows x 9 columns]"
            ]
          },
          "metadata": {},
          "execution_count": 28
        }
      ]
    },
    {
      "cell_type": "markdown",
      "metadata": {
        "id": "lEKWc6qCvvmy"
      },
      "source": [
        "We see that even matches with lower best match scores were matched quite well. Seems that probabilistic record linkage approach works very effectively for these datasets. We'll drop matches below 0.3 best match score and check how many records we matched correctly:"
      ]
    },
    {
      "cell_type": "code",
      "metadata": {
        "id": "SK6Hf4wIw4iN"
      },
      "source": [
        "threshold = df_matched['best_match_score'] > 0.3\n",
        "df_matched = df_matched[threshold]"
      ],
      "execution_count": null,
      "outputs": []
    },
    {
      "cell_type": "code",
      "metadata": {
        "id": "0budUIWkyqdB"
      },
      "source": [
        "# Save matching results\n",
        "df_matched[['__id_right', '__id_left']].to_csv('fuzzymatches.csv', index=False, header=['idDBLP', 'idACM'])"
      ],
      "execution_count": null,
      "outputs": []
    },
    {
      "cell_type": "code",
      "metadata": {
        "id": "81QVgsdL2e9I"
      },
      "source": [
        "# Read matches\n",
        "df_fuzzymatches = pd.read_csv('fuzzymatches.csv')"
      ],
      "execution_count": null,
      "outputs": []
    },
    {
      "cell_type": "markdown",
      "metadata": {
        "id": "xsYwtMoeK2xT"
      },
      "source": [
        "## Record Linkage"
      ]
    },
    {
      "cell_type": "markdown",
      "metadata": {
        "id": "4VtEWp-TK7fP"
      },
      "source": [
        "### Full indexing"
      ]
    },
    {
      "cell_type": "code",
      "metadata": {
        "id": "9A7lTWco4Prm"
      },
      "source": [
        "# Re-read datasets using id columns as indices\n",
        "df_ACM = pd.read_csv('https://raw.githubusercontent.com/PaoloMissier/CSC3831-2021-22/main/LINKAGE/DATASETS/ACM.csv', \n",
        "                     usecols=['id', 'title', 'authors', 'venue', 'year'], index_col='id')\n",
        "df_DBLP = pd.read_csv('https://raw.githubusercontent.com/PaoloMissier/CSC3831-2021-22/main/LINKAGE/DATASETS/dblp.csv', \n",
        "                     usecols=['id', 'title', 'authors', 'venue', 'year'], index_col='id')"
      ],
      "execution_count": null,
      "outputs": []
    },
    {
      "cell_type": "code",
      "metadata": {
        "colab": {
          "base_uri": "https://localhost:8080/"
        },
        "id": "n5xuSf4TVJlQ",
        "outputId": "792b9873-e0e3-41db-f230-1df4fcbec3ae"
      },
      "source": [
        "# Build the indexer\n",
        "indexer = recordlinkage.Index()\n",
        "\n",
        "# Try using full index\n",
        "indexer.full()\n",
        "candidates = indexer.index(df_ACM, df_DBLP)"
      ],
      "execution_count": null,
      "outputs": [
        {
          "output_type": "stream",
          "name": "stdout",
          "text": [
            "WARNING:recordlinkage:indexing - performance warning - A full index can result in large number of record pairs.\n"
          ]
        }
      ]
    },
    {
      "cell_type": "code",
      "metadata": {
        "colab": {
          "base_uri": "https://localhost:8080/"
        },
        "id": "jmWvtCUZ7THA",
        "outputId": "59c43234-4a1b-4a26-f5e5-d9c6f909a84e"
      },
      "source": [
        "# Check the number of candidates\n",
        "len(candidates)"
      ],
      "execution_count": null,
      "outputs": [
        {
          "output_type": "execute_result",
          "data": {
            "text/plain": [
              "6001104"
            ]
          },
          "metadata": {},
          "execution_count": 36
        }
      ]
    },
    {
      "cell_type": "code",
      "metadata": {
        "id": "anjrznrK7Z3K"
      },
      "source": [
        "compare = recordlinkage.Compare()\n",
        "\n",
        "compare.exact('year', 'year', label='year')\n",
        "compare.string('authors', 'authors', label='authors',\n",
        "               threshold=0.8, method='jarowinkler')\n",
        "compare.string('title', 'title', label='title',\n",
        "               threshold=0.8, method='jarowinkler')\n",
        "compare.string('venue', 'venue', label='venue',\n",
        "               threshold=0.8, method='jarowinkler')\n",
        "\n",
        "compare_vectors = compare.compute(candidates, df_ACM, df_DBLP)\n",
        "\n",
        "end = time.time()\n",
        "\n",
        "time_elapsed_full = end - start"
      ],
      "execution_count": null,
      "outputs": []
    },
    {
      "cell_type": "code",
      "metadata": {
        "colab": {
          "base_uri": "https://localhost:8080/"
        },
        "id": "xB3OIvILFqde",
        "outputId": "10cd37bf-0eb6-49a0-c920-d2190405df20"
      },
      "source": [
        "# Seconds it took to run\n",
        "time_elapsed_full"
      ],
      "execution_count": null,
      "outputs": [
        {
          "output_type": "execute_result",
          "data": {
            "text/plain": [
              "130.22705006599426"
            ]
          },
          "metadata": {},
          "execution_count": 38
        }
      ]
    },
    {
      "cell_type": "code",
      "metadata": {
        "colab": {
          "base_uri": "https://localhost:8080/",
          "height": 238
        },
        "id": "q4tHKY9cSsjV",
        "outputId": "7a384cd5-fd0a-47d6-f70c-ddc328287a7b"
      },
      "source": [
        "compare_vectors.head()"
      ],
      "execution_count": null,
      "outputs": [
        {
          "output_type": "execute_result",
          "data": {
            "text/html": [
              "<div>\n",
              "<style scoped>\n",
              "    .dataframe tbody tr th:only-of-type {\n",
              "        vertical-align: middle;\n",
              "    }\n",
              "\n",
              "    .dataframe tbody tr th {\n",
              "        vertical-align: top;\n",
              "    }\n",
              "\n",
              "    .dataframe thead th {\n",
              "        text-align: right;\n",
              "    }\n",
              "</style>\n",
              "<table border=\"1\" class=\"dataframe\">\n",
              "  <thead>\n",
              "    <tr style=\"text-align: right;\">\n",
              "      <th></th>\n",
              "      <th></th>\n",
              "      <th>year</th>\n",
              "      <th>authors</th>\n",
              "      <th>title</th>\n",
              "      <th>venue</th>\n",
              "    </tr>\n",
              "    <tr>\n",
              "      <th>id_1</th>\n",
              "      <th>id_2</th>\n",
              "      <th></th>\n",
              "      <th></th>\n",
              "      <th></th>\n",
              "      <th></th>\n",
              "    </tr>\n",
              "  </thead>\n",
              "  <tbody>\n",
              "    <tr>\n",
              "      <th rowspan=\"5\" valign=\"top\">304586</th>\n",
              "      <th>journals/sigmod/Mackay99</th>\n",
              "      <td>1</td>\n",
              "      <td>0.0</td>\n",
              "      <td>0.0</td>\n",
              "      <td>0.0</td>\n",
              "    </tr>\n",
              "    <tr>\n",
              "      <th>conf/vldb/PoosalaI96</th>\n",
              "      <td>0</td>\n",
              "      <td>0.0</td>\n",
              "      <td>0.0</td>\n",
              "      <td>0.0</td>\n",
              "    </tr>\n",
              "    <tr>\n",
              "      <th>conf/vldb/PalpanasSCP02</th>\n",
              "      <td>0</td>\n",
              "      <td>0.0</td>\n",
              "      <td>0.0</td>\n",
              "      <td>0.0</td>\n",
              "    </tr>\n",
              "    <tr>\n",
              "      <th>conf/vldb/GardarinGT96</th>\n",
              "      <td>0</td>\n",
              "      <td>0.0</td>\n",
              "      <td>0.0</td>\n",
              "      <td>0.0</td>\n",
              "    </tr>\n",
              "    <tr>\n",
              "      <th>conf/vldb/HoelS95</th>\n",
              "      <td>0</td>\n",
              "      <td>0.0</td>\n",
              "      <td>0.0</td>\n",
              "      <td>0.0</td>\n",
              "    </tr>\n",
              "  </tbody>\n",
              "</table>\n",
              "</div>"
            ],
            "text/plain": [
              "                                 year  authors  title  venue\n",
              "id_1   id_2                                                 \n",
              "304586 journals/sigmod/Mackay99     1      0.0    0.0    0.0\n",
              "       conf/vldb/PoosalaI96         0      0.0    0.0    0.0\n",
              "       conf/vldb/PalpanasSCP02      0      0.0    0.0    0.0\n",
              "       conf/vldb/GardarinGT96       0      0.0    0.0    0.0\n",
              "       conf/vldb/HoelS95            0      0.0    0.0    0.0"
            ]
          },
          "metadata": {},
          "execution_count": 39
        }
      ]
    },
    {
      "cell_type": "code",
      "metadata": {
        "colab": {
          "base_uri": "https://localhost:8080/"
        },
        "id": "KFRlrYTn-S9v",
        "outputId": "3c3bfee8-bb6b-4462-a113-4db69a1f8519"
      },
      "source": [
        "# Score totals\n",
        "compare_vectors.sum(axis=1).value_counts().sort_index()"
      ],
      "execution_count": null,
      "outputs": [
        {
          "output_type": "execute_result",
          "data": {
            "text/plain": [
              "0.0    5103659\n",
              "1.0     857686\n",
              "2.0      37881\n",
              "3.0       1476\n",
              "4.0        402\n",
              "dtype: int64"
            ]
          },
          "metadata": {},
          "execution_count": 40
        }
      ]
    },
    {
      "cell_type": "code",
      "metadata": {
        "id": "rhJLRuFO_kD6"
      },
      "source": [
        "# Potential matches\n",
        "potential_matches = compare_vectors[compare_vectors.sum(axis=1) > 1].reset_index()"
      ],
      "execution_count": null,
      "outputs": []
    },
    {
      "cell_type": "code",
      "metadata": {
        "colab": {
          "base_uri": "https://localhost:8080/",
          "height": 206
        },
        "id": "urit92_BAT1_",
        "outputId": "4314c8c6-1eaf-4b50-ed1e-62640f37fbf4"
      },
      "source": [
        "potential_matches['Score'] = potential_matches.loc[:, 'year':'venue'].sum(axis=1)\n",
        "potential_matches.head()"
      ],
      "execution_count": null,
      "outputs": [
        {
          "output_type": "execute_result",
          "data": {
            "text/html": [
              "<div>\n",
              "<style scoped>\n",
              "    .dataframe tbody tr th:only-of-type {\n",
              "        vertical-align: middle;\n",
              "    }\n",
              "\n",
              "    .dataframe tbody tr th {\n",
              "        vertical-align: top;\n",
              "    }\n",
              "\n",
              "    .dataframe thead th {\n",
              "        text-align: right;\n",
              "    }\n",
              "</style>\n",
              "<table border=\"1\" class=\"dataframe\">\n",
              "  <thead>\n",
              "    <tr style=\"text-align: right;\">\n",
              "      <th></th>\n",
              "      <th>id_1</th>\n",
              "      <th>id_2</th>\n",
              "      <th>year</th>\n",
              "      <th>authors</th>\n",
              "      <th>title</th>\n",
              "      <th>venue</th>\n",
              "      <th>Score</th>\n",
              "    </tr>\n",
              "  </thead>\n",
              "  <tbody>\n",
              "    <tr>\n",
              "      <th>0</th>\n",
              "      <td>304586</td>\n",
              "      <td>conf/sigmod/VossenW99</td>\n",
              "      <td>1</td>\n",
              "      <td>0.0</td>\n",
              "      <td>1.0</td>\n",
              "      <td>0.0</td>\n",
              "      <td>2.0</td>\n",
              "    </tr>\n",
              "    <tr>\n",
              "      <th>1</th>\n",
              "      <td>304587</td>\n",
              "      <td>conf/sigmod/CruzJ99</td>\n",
              "      <td>1</td>\n",
              "      <td>0.0</td>\n",
              "      <td>1.0</td>\n",
              "      <td>0.0</td>\n",
              "      <td>2.0</td>\n",
              "    </tr>\n",
              "    <tr>\n",
              "      <th>2</th>\n",
              "      <td>304589</td>\n",
              "      <td>conf/sigmod/BouguettayaBH99</td>\n",
              "      <td>1</td>\n",
              "      <td>0.0</td>\n",
              "      <td>1.0</td>\n",
              "      <td>0.0</td>\n",
              "      <td>2.0</td>\n",
              "    </tr>\n",
              "    <tr>\n",
              "      <th>3</th>\n",
              "      <td>304590</td>\n",
              "      <td>conf/sigmod/BaruGLMPVC99</td>\n",
              "      <td>1</td>\n",
              "      <td>0.0</td>\n",
              "      <td>1.0</td>\n",
              "      <td>0.0</td>\n",
              "      <td>2.0</td>\n",
              "    </tr>\n",
              "    <tr>\n",
              "      <th>4</th>\n",
              "      <td>304582</td>\n",
              "      <td>conf/sigmod/BrodskySCE99</td>\n",
              "      <td>1</td>\n",
              "      <td>1.0</td>\n",
              "      <td>1.0</td>\n",
              "      <td>0.0</td>\n",
              "      <td>3.0</td>\n",
              "    </tr>\n",
              "  </tbody>\n",
              "</table>\n",
              "</div>"
            ],
            "text/plain": [
              "     id_1                         id_2  year  authors  title  venue  Score\n",
              "0  304586        conf/sigmod/VossenW99     1      0.0    1.0    0.0    2.0\n",
              "1  304587          conf/sigmod/CruzJ99     1      0.0    1.0    0.0    2.0\n",
              "2  304589  conf/sigmod/BouguettayaBH99     1      0.0    1.0    0.0    2.0\n",
              "3  304590     conf/sigmod/BaruGLMPVC99     1      0.0    1.0    0.0    2.0\n",
              "4  304582     conf/sigmod/BrodskySCE99     1      1.0    1.0    0.0    3.0"
            ]
          },
          "metadata": {},
          "execution_count": 42
        }
      ]
    },
    {
      "cell_type": "code",
      "metadata": {
        "colab": {
          "base_uri": "https://localhost:8080/"
        },
        "id": "sb4gtZLF4iOv",
        "outputId": "76ef8078-b3f7-4968-af12-995b7011698e"
      },
      "source": [
        "df_ACM.loc[304586]"
      ],
      "execution_count": null,
      "outputs": [
        {
          "output_type": "execute_result",
          "data": {
            "text/plain": [
              "title      The WASA2 object-oriented workflow management ...\n",
              "authors                      Gottfried Vossen, Mathias Weske\n",
              "venue         International Conference on Management of Data\n",
              "year                                                    1999\n",
              "Name: 304586, dtype: object"
            ]
          },
          "metadata": {},
          "execution_count": 45
        }
      ]
    },
    {
      "cell_type": "code",
      "metadata": {
        "colab": {
          "base_uri": "https://localhost:8080/"
        },
        "id": "Pl65HV5n4zy5",
        "outputId": "bdd20a0e-4530-43bf-d04e-7fe745a52e7a"
      },
      "source": [
        "df_DBLP.loc['conf/sigmod/VossenW99']"
      ],
      "execution_count": null,
      "outputs": [
        {
          "output_type": "execute_result",
          "data": {
            "text/plain": [
              "title      The WASA2 Object-Oriented Workflow Management ...\n",
              "authors                      Mathias Weske, Gottfried Vossen\n",
              "venue                                      SIGMOD Conference\n",
              "year                                                    1999\n",
              "Name: conf/sigmod/VossenW99, dtype: object"
            ]
          },
          "metadata": {},
          "execution_count": 46
        }
      ]
    },
    {
      "cell_type": "code",
      "metadata": {
        "id": "ypyS_Wk-6V1l"
      },
      "source": [
        "# Add look up columns for easier comparison\n",
        "df_ACM['ACM_lookup'] = df_ACM[['title',\n",
        "                               'authors',\n",
        "                               'venue',\n",
        "                               'year']].apply(lambda x: '_'.join(x.astype(str)), axis=1)\n",
        "\n",
        "df_DBLP['DBLP_lookup'] = df_DBLP[['title',\n",
        "                                  'authors',\n",
        "                                  'venue',\n",
        "                                  'year']].apply(lambda x: '_'.join(x.astype(str)), axis=1)"
      ],
      "execution_count": null,
      "outputs": []
    },
    {
      "cell_type": "code",
      "metadata": {
        "id": "9u8lv63p9CQG"
      },
      "source": [
        "ACM_lookup = df_ACM['ACM_lookup'].reset_index()\n",
        "ACM_lookup = ACM_lookup.rename({'id':'id_1'}, axis=1)\n",
        "\n",
        "DBLP_lookup = df_DBLP['DBLP_lookup'].reset_index()\n",
        "DBLP_lookup = DBLP_lookup.rename({'id':'id_2'}, axis=1)"
      ],
      "execution_count": null,
      "outputs": []
    },
    {
      "cell_type": "code",
      "metadata": {
        "colab": {
          "base_uri": "https://localhost:8080/",
          "height": 206
        },
        "id": "508SWvkH_aco",
        "outputId": "76dc8895-2ed3-4dc5-87be-584e38d367c7"
      },
      "source": [
        "ACM_lookup.head()"
      ],
      "execution_count": null,
      "outputs": [
        {
          "output_type": "execute_result",
          "data": {
            "text/html": [
              "<div>\n",
              "<style scoped>\n",
              "    .dataframe tbody tr th:only-of-type {\n",
              "        vertical-align: middle;\n",
              "    }\n",
              "\n",
              "    .dataframe tbody tr th {\n",
              "        vertical-align: top;\n",
              "    }\n",
              "\n",
              "    .dataframe thead th {\n",
              "        text-align: right;\n",
              "    }\n",
              "</style>\n",
              "<table border=\"1\" class=\"dataframe\">\n",
              "  <thead>\n",
              "    <tr style=\"text-align: right;\">\n",
              "      <th></th>\n",
              "      <th>id_1</th>\n",
              "      <th>ACM_lookup</th>\n",
              "    </tr>\n",
              "  </thead>\n",
              "  <tbody>\n",
              "    <tr>\n",
              "      <th>0</th>\n",
              "      <td>304586</td>\n",
              "      <td>The WASA2 object-oriented workflow management ...</td>\n",
              "    </tr>\n",
              "    <tr>\n",
              "      <th>1</th>\n",
              "      <td>304587</td>\n",
              "      <td>A user-centered interface for querying distrib...</td>\n",
              "    </tr>\n",
              "    <tr>\n",
              "      <th>2</th>\n",
              "      <td>304589</td>\n",
              "      <td>World Wide Database-integrating the Web, CORBA...</td>\n",
              "    </tr>\n",
              "    <tr>\n",
              "      <th>3</th>\n",
              "      <td>304590</td>\n",
              "      <td>XML-based information mediation with MIX_Chait...</td>\n",
              "    </tr>\n",
              "    <tr>\n",
              "      <th>4</th>\n",
              "      <td>304582</td>\n",
              "      <td>The CCUBE constraint object-oriented database ...</td>\n",
              "    </tr>\n",
              "  </tbody>\n",
              "</table>\n",
              "</div>"
            ],
            "text/plain": [
              "     id_1                                         ACM_lookup\n",
              "0  304586  The WASA2 object-oriented workflow management ...\n",
              "1  304587  A user-centered interface for querying distrib...\n",
              "2  304589  World Wide Database-integrating the Web, CORBA...\n",
              "3  304590  XML-based information mediation with MIX_Chait...\n",
              "4  304582  The CCUBE constraint object-oriented database ..."
            ]
          },
          "metadata": {},
          "execution_count": 76
        }
      ]
    },
    {
      "cell_type": "code",
      "metadata": {
        "colab": {
          "base_uri": "https://localhost:8080/",
          "height": 206
        },
        "id": "kgdn66m0_e37",
        "outputId": "a0dd584a-041f-47cd-c22e-9f790f3c970a"
      },
      "source": [
        "DBLP_lookup.head()"
      ],
      "execution_count": null,
      "outputs": [
        {
          "output_type": "execute_result",
          "data": {
            "text/html": [
              "<div>\n",
              "<style scoped>\n",
              "    .dataframe tbody tr th:only-of-type {\n",
              "        vertical-align: middle;\n",
              "    }\n",
              "\n",
              "    .dataframe tbody tr th {\n",
              "        vertical-align: top;\n",
              "    }\n",
              "\n",
              "    .dataframe thead th {\n",
              "        text-align: right;\n",
              "    }\n",
              "</style>\n",
              "<table border=\"1\" class=\"dataframe\">\n",
              "  <thead>\n",
              "    <tr style=\"text-align: right;\">\n",
              "      <th></th>\n",
              "      <th>id_2</th>\n",
              "      <th>DBLP_lookup</th>\n",
              "    </tr>\n",
              "  </thead>\n",
              "  <tbody>\n",
              "    <tr>\n",
              "      <th>0</th>\n",
              "      <td>journals/sigmod/Mackay99</td>\n",
              "      <td>Semantic Integration of Environmental Models f...</td>\n",
              "    </tr>\n",
              "    <tr>\n",
              "      <th>1</th>\n",
              "      <td>conf/vldb/PoosalaI96</td>\n",
              "      <td>Estimation of Query-Result Distribution and it...</td>\n",
              "    </tr>\n",
              "    <tr>\n",
              "      <th>2</th>\n",
              "      <td>conf/vldb/PalpanasSCP02</td>\n",
              "      <td>Incremental Maintenance for Non-Distributive A...</td>\n",
              "    </tr>\n",
              "    <tr>\n",
              "      <th>3</th>\n",
              "      <td>conf/vldb/GardarinGT96</td>\n",
              "      <td>Cost-based Selection of Path Expression Proces...</td>\n",
              "    </tr>\n",
              "    <tr>\n",
              "      <th>4</th>\n",
              "      <td>conf/vldb/HoelS95</td>\n",
              "      <td>Benchmarking Spatial Join Operations with Spat...</td>\n",
              "    </tr>\n",
              "  </tbody>\n",
              "</table>\n",
              "</div>"
            ],
            "text/plain": [
              "                       id_2                                        DBLP_lookup\n",
              "0  journals/sigmod/Mackay99  Semantic Integration of Environmental Models f...\n",
              "1      conf/vldb/PoosalaI96  Estimation of Query-Result Distribution and it...\n",
              "2   conf/vldb/PalpanasSCP02  Incremental Maintenance for Non-Distributive A...\n",
              "3    conf/vldb/GardarinGT96  Cost-based Selection of Path Expression Proces...\n",
              "4         conf/vldb/HoelS95  Benchmarking Spatial Join Operations with Spat..."
            ]
          },
          "metadata": {},
          "execution_count": 77
        }
      ]
    },
    {
      "cell_type": "code",
      "metadata": {
        "id": "8yzo7kPX_q9c"
      },
      "source": [
        "ACM_merge = potential_matches.merge(ACM_lookup, how='left')"
      ],
      "execution_count": null,
      "outputs": []
    },
    {
      "cell_type": "code",
      "metadata": {
        "colab": {
          "base_uri": "https://localhost:8080/",
          "height": 206
        },
        "id": "5T09GOOiAia8",
        "outputId": "ec87fa4e-5df3-4c3c-af90-22257d0e070e"
      },
      "source": [
        "ACM_merge.head()"
      ],
      "execution_count": null,
      "outputs": [
        {
          "output_type": "execute_result",
          "data": {
            "text/html": [
              "<div>\n",
              "<style scoped>\n",
              "    .dataframe tbody tr th:only-of-type {\n",
              "        vertical-align: middle;\n",
              "    }\n",
              "\n",
              "    .dataframe tbody tr th {\n",
              "        vertical-align: top;\n",
              "    }\n",
              "\n",
              "    .dataframe thead th {\n",
              "        text-align: right;\n",
              "    }\n",
              "</style>\n",
              "<table border=\"1\" class=\"dataframe\">\n",
              "  <thead>\n",
              "    <tr style=\"text-align: right;\">\n",
              "      <th></th>\n",
              "      <th>id_1</th>\n",
              "      <th>id_2</th>\n",
              "      <th>year</th>\n",
              "      <th>authors</th>\n",
              "      <th>title</th>\n",
              "      <th>venue</th>\n",
              "      <th>Score</th>\n",
              "      <th>ACM_lookup</th>\n",
              "    </tr>\n",
              "  </thead>\n",
              "  <tbody>\n",
              "    <tr>\n",
              "      <th>0</th>\n",
              "      <td>304586</td>\n",
              "      <td>conf/sigmod/VossenW99</td>\n",
              "      <td>1</td>\n",
              "      <td>0.0</td>\n",
              "      <td>1.0</td>\n",
              "      <td>0.0</td>\n",
              "      <td>2.0</td>\n",
              "      <td>The WASA2 object-oriented workflow management ...</td>\n",
              "    </tr>\n",
              "    <tr>\n",
              "      <th>1</th>\n",
              "      <td>304587</td>\n",
              "      <td>conf/sigmod/CruzJ99</td>\n",
              "      <td>1</td>\n",
              "      <td>0.0</td>\n",
              "      <td>1.0</td>\n",
              "      <td>0.0</td>\n",
              "      <td>2.0</td>\n",
              "      <td>A user-centered interface for querying distrib...</td>\n",
              "    </tr>\n",
              "    <tr>\n",
              "      <th>2</th>\n",
              "      <td>304589</td>\n",
              "      <td>conf/sigmod/BouguettayaBH99</td>\n",
              "      <td>1</td>\n",
              "      <td>0.0</td>\n",
              "      <td>1.0</td>\n",
              "      <td>0.0</td>\n",
              "      <td>2.0</td>\n",
              "      <td>World Wide Database-integrating the Web, CORBA...</td>\n",
              "    </tr>\n",
              "    <tr>\n",
              "      <th>3</th>\n",
              "      <td>304590</td>\n",
              "      <td>conf/sigmod/BaruGLMPVC99</td>\n",
              "      <td>1</td>\n",
              "      <td>0.0</td>\n",
              "      <td>1.0</td>\n",
              "      <td>0.0</td>\n",
              "      <td>2.0</td>\n",
              "      <td>XML-based information mediation with MIX_Chait...</td>\n",
              "    </tr>\n",
              "    <tr>\n",
              "      <th>4</th>\n",
              "      <td>304582</td>\n",
              "      <td>conf/sigmod/BrodskySCE99</td>\n",
              "      <td>1</td>\n",
              "      <td>1.0</td>\n",
              "      <td>1.0</td>\n",
              "      <td>0.0</td>\n",
              "      <td>3.0</td>\n",
              "      <td>The CCUBE constraint object-oriented database ...</td>\n",
              "    </tr>\n",
              "  </tbody>\n",
              "</table>\n",
              "</div>"
            ],
            "text/plain": [
              "     id_1  ...                                         ACM_lookup\n",
              "0  304586  ...  The WASA2 object-oriented workflow management ...\n",
              "1  304587  ...  A user-centered interface for querying distrib...\n",
              "2  304589  ...  World Wide Database-integrating the Web, CORBA...\n",
              "3  304590  ...  XML-based information mediation with MIX_Chait...\n",
              "4  304582  ...  The CCUBE constraint object-oriented database ...\n",
              "\n",
              "[5 rows x 8 columns]"
            ]
          },
          "metadata": {},
          "execution_count": 79
        }
      ]
    },
    {
      "cell_type": "code",
      "metadata": {
        "id": "XEjxcUrKAriH"
      },
      "source": [
        "final_merge = ACM_merge.merge(DBLP_lookup, how='left')"
      ],
      "execution_count": null,
      "outputs": []
    },
    {
      "cell_type": "code",
      "metadata": {
        "colab": {
          "base_uri": "https://localhost:8080/",
          "height": 423
        },
        "id": "XH_AnNNfAzWF",
        "outputId": "e476e720-d6f5-4ac7-9045-08c81baf98a2"
      },
      "source": [
        "cols = ['id_1', 'id_2', 'Score', 'ACM_lookup', 'DBLP_lookup']\n",
        "final_merge[cols].sort_values(by=['id_1', 'Score'], ascending=False)"
      ],
      "execution_count": null,
      "outputs": [
        {
          "output_type": "execute_result",
          "data": {
            "text/html": [
              "<div>\n",
              "<style scoped>\n",
              "    .dataframe tbody tr th:only-of-type {\n",
              "        vertical-align: middle;\n",
              "    }\n",
              "\n",
              "    .dataframe tbody tr th {\n",
              "        vertical-align: top;\n",
              "    }\n",
              "\n",
              "    .dataframe thead th {\n",
              "        text-align: right;\n",
              "    }\n",
              "</style>\n",
              "<table border=\"1\" class=\"dataframe\">\n",
              "  <thead>\n",
              "    <tr style=\"text-align: right;\">\n",
              "      <th></th>\n",
              "      <th>id_1</th>\n",
              "      <th>id_2</th>\n",
              "      <th>Score</th>\n",
              "      <th>ACM_lookup</th>\n",
              "      <th>DBLP_lookup</th>\n",
              "    </tr>\n",
              "  </thead>\n",
              "  <tbody>\n",
              "    <tr>\n",
              "      <th>35944</th>\n",
              "      <td>959087</td>\n",
              "      <td>journals/sigmod/Hainaut03</td>\n",
              "      <td>4.0</td>\n",
              "      <td>Research in database engineering at the Univer...</td>\n",
              "      <td>Research in database engineering at the Univer...</td>\n",
              "    </tr>\n",
              "    <tr>\n",
              "      <th>36001</th>\n",
              "      <td>959087</td>\n",
              "      <td>journals/sigmod/FifeG03</td>\n",
              "      <td>3.0</td>\n",
              "      <td>Research in database engineering at the Univer...</td>\n",
              "      <td>Research issues for data communication in mobi...</td>\n",
              "    </tr>\n",
              "    <tr>\n",
              "      <th>35923</th>\n",
              "      <td>959087</td>\n",
              "      <td>journals/sigmod/PitouraAPSV03</td>\n",
              "      <td>2.0</td>\n",
              "      <td>Research in database engineering at the Univer...</td>\n",
              "      <td>DBGlobe: a service-oriented P2P system for glo...</td>\n",
              "    </tr>\n",
              "    <tr>\n",
              "      <th>35924</th>\n",
              "      <td>959087</td>\n",
              "      <td>journals/sigmod/ChakravarthyAEFO03</td>\n",
              "      <td>2.0</td>\n",
              "      <td>Research in database engineering at the Univer...</td>\n",
              "      <td>Database Research at UT Arlington_Sharma Chakr...</td>\n",
              "    </tr>\n",
              "    <tr>\n",
              "      <th>35925</th>\n",
              "      <td>959087</td>\n",
              "      <td>journals/sigmod/GerlaX03</td>\n",
              "      <td>2.0</td>\n",
              "      <td>Research in database engineering at the Univer...</td>\n",
              "      <td>Multimedia streaming in large-scale sensor net...</td>\n",
              "    </tr>\n",
              "    <tr>\n",
              "      <th>...</th>\n",
              "      <td>...</td>\n",
              "      <td>...</td>\n",
              "      <td>...</td>\n",
              "      <td>...</td>\n",
              "      <td>...</td>\n",
              "    </tr>\n",
              "    <tr>\n",
              "      <th>23032</th>\n",
              "      <td>174639</td>\n",
              "      <td>journals/tods/WinslettSQ94</td>\n",
              "      <td>2.0</td>\n",
              "      <td>Altruistic locking_Kenneth Salem, H&amp;#233;ctor ...</td>\n",
              "      <td>Formal Query Languages for Secure Relational D...</td>\n",
              "    </tr>\n",
              "    <tr>\n",
              "      <th>23033</th>\n",
              "      <td>174639</td>\n",
              "      <td>journals/tods/YanG94</td>\n",
              "      <td>2.0</td>\n",
              "      <td>Altruistic locking_Kenneth Salem, H&amp;#233;ctor ...</td>\n",
              "      <td>Index Structures for Selective Dissemination o...</td>\n",
              "    </tr>\n",
              "    <tr>\n",
              "      <th>23034</th>\n",
              "      <td>174639</td>\n",
              "      <td>journals/tods/KorthS94</td>\n",
              "      <td>2.0</td>\n",
              "      <td>Altruistic locking_Kenneth Salem, H&amp;#233;ctor ...</td>\n",
              "      <td>Formal Aspects of Concurrency Control in Long-...</td>\n",
              "    </tr>\n",
              "    <tr>\n",
              "      <th>23035</th>\n",
              "      <td>174639</td>\n",
              "      <td>journals/tods/RosenthalR94</td>\n",
              "      <td>2.0</td>\n",
              "      <td>Altruistic locking_Kenneth Salem, H&amp;#233;ctor ...</td>\n",
              "      <td>Tools and Transformations - Rigorous and Other...</td>\n",
              "    </tr>\n",
              "    <tr>\n",
              "      <th>23036</th>\n",
              "      <td>174639</td>\n",
              "      <td>journals/tods/Subrahmanian94</td>\n",
              "      <td>2.0</td>\n",
              "      <td>Altruistic locking_Kenneth Salem, H&amp;#233;ctor ...</td>\n",
              "      <td>Amalgamating Knowledge Bases_V. S. Subrahmania...</td>\n",
              "    </tr>\n",
              "  </tbody>\n",
              "</table>\n",
              "<p>39759 rows × 5 columns</p>\n",
              "</div>"
            ],
            "text/plain": [
              "         id_1  ...                                        DBLP_lookup\n",
              "35944  959087  ...  Research in database engineering at the Univer...\n",
              "36001  959087  ...  Research issues for data communication in mobi...\n",
              "35923  959087  ...  DBGlobe: a service-oriented P2P system for glo...\n",
              "35924  959087  ...  Database Research at UT Arlington_Sharma Chakr...\n",
              "35925  959087  ...  Multimedia streaming in large-scale sensor net...\n",
              "...       ...  ...                                                ...\n",
              "23032  174639  ...  Formal Query Languages for Secure Relational D...\n",
              "23033  174639  ...  Index Structures for Selective Dissemination o...\n",
              "23034  174639  ...  Formal Aspects of Concurrency Control in Long-...\n",
              "23035  174639  ...  Tools and Transformations - Rigorous and Other...\n",
              "23036  174639  ...  Amalgamating Knowledge Bases_V. S. Subrahmania...\n",
              "\n",
              "[39759 rows x 5 columns]"
            ]
          },
          "metadata": {},
          "execution_count": 82
        }
      ]
    },
    {
      "cell_type": "markdown",
      "metadata": {
        "id": "HxsIGXOZBgSR"
      },
      "source": [
        "We see some matches, but the problem is that we have 39759 matched records, which is way more than we have records in both datasets, so for each id we'll leave only one match with the highest score."
      ]
    },
    {
      "cell_type": "code",
      "metadata": {
        "id": "xeHg7Jj6B3Ae"
      },
      "source": [
        "final_merge = final_merge[cols]"
      ],
      "execution_count": null,
      "outputs": []
    },
    {
      "cell_type": "code",
      "metadata": {
        "id": "_0ICdn1pCcCN"
      },
      "source": [
        "indices = final_merge.groupby('id_1')['Score'].transform(max) == final_merge['Score']"
      ],
      "execution_count": null,
      "outputs": []
    },
    {
      "cell_type": "code",
      "metadata": {
        "colab": {
          "base_uri": "https://localhost:8080/",
          "height": 423
        },
        "id": "3GazVCXWDtHF",
        "outputId": "31c4b259-c902-496a-88dd-f63a2e121317"
      },
      "source": [
        "final_merge[indices]"
      ],
      "execution_count": null,
      "outputs": [
        {
          "output_type": "execute_result",
          "data": {
            "text/html": [
              "<div>\n",
              "<style scoped>\n",
              "    .dataframe tbody tr th:only-of-type {\n",
              "        vertical-align: middle;\n",
              "    }\n",
              "\n",
              "    .dataframe tbody tr th {\n",
              "        vertical-align: top;\n",
              "    }\n",
              "\n",
              "    .dataframe thead th {\n",
              "        text-align: right;\n",
              "    }\n",
              "</style>\n",
              "<table border=\"1\" class=\"dataframe\">\n",
              "  <thead>\n",
              "    <tr style=\"text-align: right;\">\n",
              "      <th></th>\n",
              "      <th>id_1</th>\n",
              "      <th>id_2</th>\n",
              "      <th>Score</th>\n",
              "      <th>ACM_lookup</th>\n",
              "      <th>DBLP_lookup</th>\n",
              "    </tr>\n",
              "  </thead>\n",
              "  <tbody>\n",
              "    <tr>\n",
              "      <th>0</th>\n",
              "      <td>304586</td>\n",
              "      <td>conf/sigmod/VossenW99</td>\n",
              "      <td>2.0</td>\n",
              "      <td>The WASA2 object-oriented workflow management ...</td>\n",
              "      <td>The WASA2 Object-Oriented Workflow Management ...</td>\n",
              "    </tr>\n",
              "    <tr>\n",
              "      <th>1</th>\n",
              "      <td>304587</td>\n",
              "      <td>conf/sigmod/CruzJ99</td>\n",
              "      <td>2.0</td>\n",
              "      <td>A user-centered interface for querying distrib...</td>\n",
              "      <td>A User-Centered Interface for Querying Distrib...</td>\n",
              "    </tr>\n",
              "    <tr>\n",
              "      <th>2</th>\n",
              "      <td>304589</td>\n",
              "      <td>conf/sigmod/BouguettayaBH99</td>\n",
              "      <td>2.0</td>\n",
              "      <td>World Wide Database-integrating the Web, CORBA...</td>\n",
              "      <td>World Wide Database - Integrating the Web, COR...</td>\n",
              "    </tr>\n",
              "    <tr>\n",
              "      <th>3</th>\n",
              "      <td>304590</td>\n",
              "      <td>conf/sigmod/BaruGLMPVC99</td>\n",
              "      <td>2.0</td>\n",
              "      <td>XML-based information mediation with MIX_Chait...</td>\n",
              "      <td>XML-Based Information Mediation with MIX_Yanni...</td>\n",
              "    </tr>\n",
              "    <tr>\n",
              "      <th>4</th>\n",
              "      <td>304582</td>\n",
              "      <td>conf/sigmod/BrodskySCE99</td>\n",
              "      <td>3.0</td>\n",
              "      <td>The CCUBE constraint object-oriented database ...</td>\n",
              "      <td>The CCUBE Constraint Object-Oriented Database ...</td>\n",
              "    </tr>\n",
              "    <tr>\n",
              "      <th>...</th>\n",
              "      <td>...</td>\n",
              "      <td>...</td>\n",
              "      <td>...</td>\n",
              "      <td>...</td>\n",
              "      <td>...</td>\n",
              "    </tr>\n",
              "    <tr>\n",
              "      <th>39664</th>\n",
              "      <td>950482</td>\n",
              "      <td>conf/vldb/PottingerB03</td>\n",
              "      <td>2.0</td>\n",
              "      <td>Guest editorial_Philip A. Bernstein, Yannis Io...</td>\n",
              "      <td>Merging Models Based on Given Correspondences_...</td>\n",
              "    </tr>\n",
              "    <tr>\n",
              "      <th>39665</th>\n",
              "      <td>950482</td>\n",
              "      <td>journals/sigmod/Aberer03c</td>\n",
              "      <td>2.0</td>\n",
              "      <td>Guest editorial_Philip A. Bernstein, Yannis Io...</td>\n",
              "      <td>Guest editor's introduction_Karl Aberer_SIGMOD...</td>\n",
              "    </tr>\n",
              "    <tr>\n",
              "      <th>39666</th>\n",
              "      <td>672980</td>\n",
              "      <td>conf/vldb/Guting94</td>\n",
              "      <td>3.0</td>\n",
              "      <td>GraphDB: Modeling and Querying Graphs in Datab...</td>\n",
              "      <td>GraphDB: Modeling and Querying Graphs in Datab...</td>\n",
              "    </tr>\n",
              "    <tr>\n",
              "      <th>39688</th>\n",
              "      <td>945741</td>\n",
              "      <td>journals/sigmod/Anisimov03</td>\n",
              "      <td>4.0</td>\n",
              "      <td>Review of The data warehouse toolkit: the comp...</td>\n",
              "      <td>Review of The data warehouse toolkit: the comp...</td>\n",
              "    </tr>\n",
              "    <tr>\n",
              "      <th>39758</th>\n",
              "      <td>672979</td>\n",
              "      <td>conf/vldb/WienerN94</td>\n",
              "      <td>3.0</td>\n",
              "      <td>Bulk Loading into an OODB: A Performance Study...</td>\n",
              "      <td>Bulk Loading into an OODB: A Performance Study...</td>\n",
              "    </tr>\n",
              "  </tbody>\n",
              "</table>\n",
              "<p>4402 rows × 5 columns</p>\n",
              "</div>"
            ],
            "text/plain": [
              "         id_1  ...                                        DBLP_lookup\n",
              "0      304586  ...  The WASA2 Object-Oriented Workflow Management ...\n",
              "1      304587  ...  A User-Centered Interface for Querying Distrib...\n",
              "2      304589  ...  World Wide Database - Integrating the Web, COR...\n",
              "3      304590  ...  XML-Based Information Mediation with MIX_Yanni...\n",
              "4      304582  ...  The CCUBE Constraint Object-Oriented Database ...\n",
              "...       ...  ...                                                ...\n",
              "39664  950482  ...  Merging Models Based on Given Correspondences_...\n",
              "39665  950482  ...  Guest editor's introduction_Karl Aberer_SIGMOD...\n",
              "39666  672980  ...  GraphDB: Modeling and Querying Graphs in Datab...\n",
              "39688  945741  ...  Review of The data warehouse toolkit: the comp...\n",
              "39758  672979  ...  Bulk Loading into an OODB: A Performance Study...\n",
              "\n",
              "[4402 rows x 5 columns]"
            ]
          },
          "metadata": {},
          "execution_count": 90
        }
      ]
    },
    {
      "cell_type": "code",
      "metadata": {
        "id": "ek9q6eXIEHxp"
      },
      "source": [
        "final_merge[indices][['id_1', 'id_2']].to_csv('recordlinkageFULLmatches.csv', \n",
        "                                              index=False, header=['idACM', 'idDBLP'])"
      ],
      "execution_count": null,
      "outputs": []
    },
    {
      "cell_type": "markdown",
      "metadata": {
        "id": "gZkXuADCKxDC"
      },
      "source": [
        "### Block indexing"
      ]
    },
    {
      "cell_type": "markdown",
      "metadata": {
        "id": "QPJWLcczEyMl"
      },
      "source": [
        "Now, let's try using different indexing for record linkage - blocking:"
      ]
    },
    {
      "cell_type": "code",
      "metadata": {
        "id": "zw4_t0YpFVOy"
      },
      "source": [
        "# Re-read datasets using id columns as indices\n",
        "df_ACM = pd.read_csv('https://raw.githubusercontent.com/PaoloMissier/CSC3831-2021-22/main/LINKAGE/DATASETS/ACM.csv', \n",
        "                     usecols=['id', 'title', 'authors', 'venue', 'year'], index_col='id')\n",
        "df_DBLP = pd.read_csv('https://raw.githubusercontent.com/PaoloMissier/CSC3831-2021-22/main/LINKAGE/DATASETS/dblp.csv', \n",
        "                     usecols=['id', 'title', 'authors', 'venue', 'year'], index_col='id')"
      ],
      "execution_count": null,
      "outputs": []
    },
    {
      "cell_type": "code",
      "metadata": {
        "id": "R-KdIgnSFb17"
      },
      "source": [
        "# Build the indexer\n",
        "indexer = recordlinkage.Index()\n",
        "\n",
        "# Try using block indexing\n",
        "indexer.block(left_on='year', right_on='year')\n",
        "\n",
        "candidates = indexer.index(df_ACM, df_DBLP)"
      ],
      "execution_count": null,
      "outputs": []
    },
    {
      "cell_type": "code",
      "metadata": {
        "colab": {
          "base_uri": "https://localhost:8080/"
        },
        "id": "ZPgwwF57Ffej",
        "outputId": "2d7c2162-8d20-4056-ab36-b98de6602333"
      },
      "source": [
        "# Check the number of candidates\n",
        "len(candidates)"
      ],
      "execution_count": null,
      "outputs": [
        {
          "output_type": "execute_result",
          "data": {
            "text/plain": [
              "601284"
            ]
          },
          "metadata": {},
          "execution_count": 10
        }
      ]
    },
    {
      "cell_type": "code",
      "source": [
        "# original\n",
        "compare = recordlinkage.Compare()\n",
        "\n",
        "compare.exact('year', 'year', label='year')\n",
        "compare.string('authors', 'authors', label='authors',\n",
        "               threshold=0.8, method='jarowinkler')\n",
        "compare.string('title', 'title', label='title',\n",
        "               threshold=0.8, method='jarowinkler')\n",
        "compare.string('venue', 'venue', label='venue',\n",
        "               threshold=0.8, method='jarowinkler')\n",
        "\n",
        "start = time.time()\n",
        "compare_vectors = compare.compute(candidates, df_ACM, df_DBLP)\n",
        "end = time.time()\n",
        "\n",
        "time_elapsed_full = end - start"
      ],
      "metadata": {
        "id": "OuF-feLHgpEU"
      },
      "execution_count": null,
      "outputs": []
    },
    {
      "cell_type": "code",
      "metadata": {
        "id": "NPBGR2xfFiu9"
      },
      "source": [
        "# parameter change\n",
        "compare = recordlinkage.Compare()\n",
        "\n",
        "compare.exact('year', 'year', label='year')\n",
        "compare.string('authors', 'authors', label='authors',\n",
        "               method='qgram')\n",
        "compare.string('title', 'title', label='title',\n",
        "               threshold=0.8, method='jarowinkler')\n",
        "compare.string('venue', 'venue', label='venue',\n",
        "               method='qgram')\n",
        "\n",
        "start = time.time()\n",
        "compare_vectors = compare.compute(candidates, df_ACM, df_DBLP)\n",
        "end = time.time()\n",
        "\n",
        "time_elapsed_full = end - start"
      ],
      "execution_count": null,
      "outputs": []
    },
    {
      "cell_type": "code",
      "metadata": {
        "colab": {
          "base_uri": "https://localhost:8080/"
        },
        "id": "HrYJo-1bGFaM",
        "outputId": "7d8eaba4-0536-4cec-c053-126b7cdde421"
      },
      "source": [
        "# Time spent\n",
        "time_elapsed_full"
      ],
      "execution_count": null,
      "outputs": [
        {
          "output_type": "execute_result",
          "data": {
            "text/plain": [
              "82.66433072090149"
            ]
          },
          "metadata": {},
          "execution_count": 13
        }
      ]
    },
    {
      "cell_type": "code",
      "metadata": {
        "colab": {
          "base_uri": "https://localhost:8080/"
        },
        "id": "q0AaxLUXGIe5",
        "outputId": "c296ff19-edce-4e4c-9b0d-76a128ba4945"
      },
      "source": [
        "# Score totals\n",
        "compare_vectors.sum(axis=1).value_counts().sort_index()"
      ],
      "execution_count": null,
      "outputs": [
        {
          "output_type": "execute_result",
          "data": {
            "text/plain": [
              "1.0    562778\n",
              "2.0     36357\n",
              "3.0      1685\n",
              "4.0       464\n",
              "dtype: int64"
            ]
          },
          "metadata": {},
          "execution_count": 31
        }
      ]
    },
    {
      "cell_type": "code",
      "metadata": {
        "colab": {
          "base_uri": "https://localhost:8080/",
          "height": 206
        },
        "id": "RZ7FPToIGVLq",
        "outputId": "84989959-6895-45c6-999e-3cf24f3c47e6"
      },
      "source": [
        "# Potential matches\n",
        "potential_matches = compare_vectors[compare_vectors.sum(axis=1) > 1].reset_index()\n",
        "\n",
        "potential_matches['Score'] = potential_matches.loc[:, 'year':'venue'].sum(axis=1)\n",
        "potential_matches.head()"
      ],
      "execution_count": null,
      "outputs": [
        {
          "output_type": "execute_result",
          "data": {
            "text/plain": [
              "     id_1                       id_2  year   authors  title     venue  \\\n",
              "0  304586   journals/sigmod/Mackay99     1  0.125000    0.0  0.042553   \n",
              "1  304586         conf/sigmod/Keim99     1  0.062500    0.0  0.234043   \n",
              "2  304586    conf/vldb/ChenCFGJMTW99     1  0.131148    0.0  0.000000   \n",
              "3  304586  conf/sigmod/BraumandlKK99     1  0.137255    0.0  0.234043   \n",
              "4  304586         conf/vldb/NinkHR99     1  0.105263    0.0  0.000000   \n",
              "\n",
              "      Score  \n",
              "0  1.167553  \n",
              "1  1.296543  \n",
              "2  1.131148  \n",
              "3  1.371297  \n",
              "4  1.105263  "
            ],
            "text/html": [
              "\n",
              "  <div id=\"df-342ffb95-9a29-4231-94ef-f89287340998\">\n",
              "    <div class=\"colab-df-container\">\n",
              "      <div>\n",
              "<style scoped>\n",
              "    .dataframe tbody tr th:only-of-type {\n",
              "        vertical-align: middle;\n",
              "    }\n",
              "\n",
              "    .dataframe tbody tr th {\n",
              "        vertical-align: top;\n",
              "    }\n",
              "\n",
              "    .dataframe thead th {\n",
              "        text-align: right;\n",
              "    }\n",
              "</style>\n",
              "<table border=\"1\" class=\"dataframe\">\n",
              "  <thead>\n",
              "    <tr style=\"text-align: right;\">\n",
              "      <th></th>\n",
              "      <th>id_1</th>\n",
              "      <th>id_2</th>\n",
              "      <th>year</th>\n",
              "      <th>authors</th>\n",
              "      <th>title</th>\n",
              "      <th>venue</th>\n",
              "      <th>Score</th>\n",
              "    </tr>\n",
              "  </thead>\n",
              "  <tbody>\n",
              "    <tr>\n",
              "      <th>0</th>\n",
              "      <td>304586</td>\n",
              "      <td>journals/sigmod/Mackay99</td>\n",
              "      <td>1</td>\n",
              "      <td>0.125000</td>\n",
              "      <td>0.0</td>\n",
              "      <td>0.042553</td>\n",
              "      <td>1.167553</td>\n",
              "    </tr>\n",
              "    <tr>\n",
              "      <th>1</th>\n",
              "      <td>304586</td>\n",
              "      <td>conf/sigmod/Keim99</td>\n",
              "      <td>1</td>\n",
              "      <td>0.062500</td>\n",
              "      <td>0.0</td>\n",
              "      <td>0.234043</td>\n",
              "      <td>1.296543</td>\n",
              "    </tr>\n",
              "    <tr>\n",
              "      <th>2</th>\n",
              "      <td>304586</td>\n",
              "      <td>conf/vldb/ChenCFGJMTW99</td>\n",
              "      <td>1</td>\n",
              "      <td>0.131148</td>\n",
              "      <td>0.0</td>\n",
              "      <td>0.000000</td>\n",
              "      <td>1.131148</td>\n",
              "    </tr>\n",
              "    <tr>\n",
              "      <th>3</th>\n",
              "      <td>304586</td>\n",
              "      <td>conf/sigmod/BraumandlKK99</td>\n",
              "      <td>1</td>\n",
              "      <td>0.137255</td>\n",
              "      <td>0.0</td>\n",
              "      <td>0.234043</td>\n",
              "      <td>1.371297</td>\n",
              "    </tr>\n",
              "    <tr>\n",
              "      <th>4</th>\n",
              "      <td>304586</td>\n",
              "      <td>conf/vldb/NinkHR99</td>\n",
              "      <td>1</td>\n",
              "      <td>0.105263</td>\n",
              "      <td>0.0</td>\n",
              "      <td>0.000000</td>\n",
              "      <td>1.105263</td>\n",
              "    </tr>\n",
              "  </tbody>\n",
              "</table>\n",
              "</div>\n",
              "      <button class=\"colab-df-convert\" onclick=\"convertToInteractive('df-342ffb95-9a29-4231-94ef-f89287340998')\"\n",
              "              title=\"Convert this dataframe to an interactive table.\"\n",
              "              style=\"display:none;\">\n",
              "        \n",
              "  <svg xmlns=\"http://www.w3.org/2000/svg\" height=\"24px\"viewBox=\"0 0 24 24\"\n",
              "       width=\"24px\">\n",
              "    <path d=\"M0 0h24v24H0V0z\" fill=\"none\"/>\n",
              "    <path d=\"M18.56 5.44l.94 2.06.94-2.06 2.06-.94-2.06-.94-.94-2.06-.94 2.06-2.06.94zm-11 1L8.5 8.5l.94-2.06 2.06-.94-2.06-.94L8.5 2.5l-.94 2.06-2.06.94zm10 10l.94 2.06.94-2.06 2.06-.94-2.06-.94-.94-2.06-.94 2.06-2.06.94z\"/><path d=\"M17.41 7.96l-1.37-1.37c-.4-.4-.92-.59-1.43-.59-.52 0-1.04.2-1.43.59L10.3 9.45l-7.72 7.72c-.78.78-.78 2.05 0 2.83L4 21.41c.39.39.9.59 1.41.59.51 0 1.02-.2 1.41-.59l7.78-7.78 2.81-2.81c.8-.78.8-2.07 0-2.86zM5.41 20L4 18.59l7.72-7.72 1.47 1.35L5.41 20z\"/>\n",
              "  </svg>\n",
              "      </button>\n",
              "      \n",
              "  <style>\n",
              "    .colab-df-container {\n",
              "      display:flex;\n",
              "      flex-wrap:wrap;\n",
              "      gap: 12px;\n",
              "    }\n",
              "\n",
              "    .colab-df-convert {\n",
              "      background-color: #E8F0FE;\n",
              "      border: none;\n",
              "      border-radius: 50%;\n",
              "      cursor: pointer;\n",
              "      display: none;\n",
              "      fill: #1967D2;\n",
              "      height: 32px;\n",
              "      padding: 0 0 0 0;\n",
              "      width: 32px;\n",
              "    }\n",
              "\n",
              "    .colab-df-convert:hover {\n",
              "      background-color: #E2EBFA;\n",
              "      box-shadow: 0px 1px 2px rgba(60, 64, 67, 0.3), 0px 1px 3px 1px rgba(60, 64, 67, 0.15);\n",
              "      fill: #174EA6;\n",
              "    }\n",
              "\n",
              "    [theme=dark] .colab-df-convert {\n",
              "      background-color: #3B4455;\n",
              "      fill: #D2E3FC;\n",
              "    }\n",
              "\n",
              "    [theme=dark] .colab-df-convert:hover {\n",
              "      background-color: #434B5C;\n",
              "      box-shadow: 0px 1px 3px 1px rgba(0, 0, 0, 0.15);\n",
              "      filter: drop-shadow(0px 1px 2px rgba(0, 0, 0, 0.3));\n",
              "      fill: #FFFFFF;\n",
              "    }\n",
              "  </style>\n",
              "\n",
              "      <script>\n",
              "        const buttonEl =\n",
              "          document.querySelector('#df-342ffb95-9a29-4231-94ef-f89287340998 button.colab-df-convert');\n",
              "        buttonEl.style.display =\n",
              "          google.colab.kernel.accessAllowed ? 'block' : 'none';\n",
              "\n",
              "        async function convertToInteractive(key) {\n",
              "          const element = document.querySelector('#df-342ffb95-9a29-4231-94ef-f89287340998');\n",
              "          const dataTable =\n",
              "            await google.colab.kernel.invokeFunction('convertToInteractive',\n",
              "                                                     [key], {});\n",
              "          if (!dataTable) return;\n",
              "\n",
              "          const docLinkHtml = 'Like what you see? Visit the ' +\n",
              "            '<a target=\"_blank\" href=https://colab.research.google.com/notebooks/data_table.ipynb>data table notebook</a>'\n",
              "            + ' to learn more about interactive tables.';\n",
              "          element.innerHTML = '';\n",
              "          dataTable['output_type'] = 'display_data';\n",
              "          await google.colab.output.renderOutput(dataTable, element);\n",
              "          const docLink = document.createElement('div');\n",
              "          docLink.innerHTML = docLinkHtml;\n",
              "          element.appendChild(docLink);\n",
              "        }\n",
              "      </script>\n",
              "    </div>\n",
              "  </div>\n",
              "  "
            ]
          },
          "metadata": {},
          "execution_count": 17
        }
      ]
    },
    {
      "cell_type": "code",
      "metadata": {
        "id": "B73n69P0GlfO"
      },
      "source": [
        "# Add look up columns for easier comparison\n",
        "df_ACM['ACM_lookup'] = df_ACM[['title',\n",
        "                               'authors',\n",
        "                               'venue',\n",
        "                               'year']].apply(lambda x: '_'.join(x.astype(str)), axis=1)\n",
        "\n",
        "df_DBLP['DBLP_lookup'] = df_DBLP[['title',\n",
        "                                  'authors',\n",
        "                                  'venue',\n",
        "                                  'year']].apply(lambda x: '_'.join(x.astype(str)), axis=1)"
      ],
      "execution_count": null,
      "outputs": []
    },
    {
      "cell_type": "code",
      "metadata": {
        "id": "_rhCbFhLGmXl"
      },
      "source": [
        "ACM_lookup = df_ACM['ACM_lookup'].reset_index()\n",
        "ACM_lookup = ACM_lookup.rename({'id':'id_1'}, axis=1)\n",
        "\n",
        "DBLP_lookup = df_DBLP['DBLP_lookup'].reset_index()\n",
        "DBLP_lookup = DBLP_lookup.rename({'id':'id_2'}, axis=1)"
      ],
      "execution_count": null,
      "outputs": []
    },
    {
      "cell_type": "code",
      "metadata": {
        "colab": {
          "base_uri": "https://localhost:8080/",
          "height": 468
        },
        "id": "yCAbvWdWG0Bp",
        "outputId": "987289a1-e550-4d7e-e783-f1d8292e4989"
      },
      "source": [
        "ACM_merge = potential_matches.merge(ACM_lookup, how='left')\n",
        "final_merge = ACM_merge.merge(DBLP_lookup, how='left')\n",
        "\n",
        "cols = ['id_1', 'id_2', 'Score', 'ACM_lookup', 'DBLP_lookup']\n",
        "final_merge[cols].sort_values(by=['id_1', 'Score'], ascending=False)"
      ],
      "execution_count": null,
      "outputs": [
        {
          "output_type": "execute_result",
          "data": {
            "text/plain": [
              "          id_1                         id_2     Score  \\\n",
              "568046  959087    journals/sigmod/Hainaut03  3.777778   \n",
              "568249  959087      journals/sigmod/FifeG03  2.777778   \n",
              "568156  959087     journals/sigmod/Hammer03  1.954248   \n",
              "568134  959087  journals/sigmod/Winslett03b  1.944444   \n",
              "568218  959087  journals/sigmod/Winslett03a  1.944444   \n",
              "...        ...                          ...       ...   \n",
              "479185  174639          journals/sigmod/X94  1.045455   \n",
              "479303  174639         journals/sigmod/X94a  1.045455   \n",
              "479119  174639        conf/vldb/Bernstein94  1.032258   \n",
              "479197  174639             conf/vldb/Lesk94  1.032258   \n",
              "479304  174639              conf/vldb/FuC94  1.032258   \n",
              "\n",
              "                                               ACM_lookup  \\\n",
              "568046  Research in database engineering at the Univer...   \n",
              "568249  Research in database engineering at the Univer...   \n",
              "568156  Research in database engineering at the Univer...   \n",
              "568134  Research in database engineering at the Univer...   \n",
              "568218  Research in database engineering at the Univer...   \n",
              "...                                                   ...   \n",
              "479185  Altruistic locking_Kenneth Salem, H&#233;ctor ...   \n",
              "479303  Altruistic locking_Kenneth Salem, H&#233;ctor ...   \n",
              "479119  Altruistic locking_Kenneth Salem, H&#233;ctor ...   \n",
              "479197  Altruistic locking_Kenneth Salem, H&#233;ctor ...   \n",
              "479304  Altruistic locking_Kenneth Salem, H&#233;ctor ...   \n",
              "\n",
              "                                              DBLP_lookup  \n",
              "568046  Research in database engineering at the Univer...  \n",
              "568249  Research issues for data communication in mobi...  \n",
              "568156  Treasurer's Message_Joachim Hammer_SIGMOD Reco...  \n",
              "568134  Interview with Rakesh Agrawal_Marianne Winslet...  \n",
              "568218  Interview with Michael Stonebraker_Marianne Wi...  \n",
              "...                                                   ...  \n",
              "479185  The TSQL2 Final Language Definition Announceme...  \n",
              "479303  Calls for Papers / Announcements_?_SIGMOD Reco...  \n",
              "479119  PC Database Systems - Present and Future_Phili...  \n",
              "479197  Experiments on Access to Digital Libraries: Ho...  \n",
              "479304  A Transaction Replication Scheme for a Replica...  \n",
              "\n",
              "[590880 rows x 5 columns]"
            ],
            "text/html": [
              "\n",
              "  <div id=\"df-56e2c992-4024-48e1-9661-b3ca8dfbb771\">\n",
              "    <div class=\"colab-df-container\">\n",
              "      <div>\n",
              "<style scoped>\n",
              "    .dataframe tbody tr th:only-of-type {\n",
              "        vertical-align: middle;\n",
              "    }\n",
              "\n",
              "    .dataframe tbody tr th {\n",
              "        vertical-align: top;\n",
              "    }\n",
              "\n",
              "    .dataframe thead th {\n",
              "        text-align: right;\n",
              "    }\n",
              "</style>\n",
              "<table border=\"1\" class=\"dataframe\">\n",
              "  <thead>\n",
              "    <tr style=\"text-align: right;\">\n",
              "      <th></th>\n",
              "      <th>id_1</th>\n",
              "      <th>id_2</th>\n",
              "      <th>Score</th>\n",
              "      <th>ACM_lookup</th>\n",
              "      <th>DBLP_lookup</th>\n",
              "    </tr>\n",
              "  </thead>\n",
              "  <tbody>\n",
              "    <tr>\n",
              "      <th>568046</th>\n",
              "      <td>959087</td>\n",
              "      <td>journals/sigmod/Hainaut03</td>\n",
              "      <td>3.777778</td>\n",
              "      <td>Research in database engineering at the Univer...</td>\n",
              "      <td>Research in database engineering at the Univer...</td>\n",
              "    </tr>\n",
              "    <tr>\n",
              "      <th>568249</th>\n",
              "      <td>959087</td>\n",
              "      <td>journals/sigmod/FifeG03</td>\n",
              "      <td>2.777778</td>\n",
              "      <td>Research in database engineering at the Univer...</td>\n",
              "      <td>Research issues for data communication in mobi...</td>\n",
              "    </tr>\n",
              "    <tr>\n",
              "      <th>568156</th>\n",
              "      <td>959087</td>\n",
              "      <td>journals/sigmod/Hammer03</td>\n",
              "      <td>1.954248</td>\n",
              "      <td>Research in database engineering at the Univer...</td>\n",
              "      <td>Treasurer's Message_Joachim Hammer_SIGMOD Reco...</td>\n",
              "    </tr>\n",
              "    <tr>\n",
              "      <th>568134</th>\n",
              "      <td>959087</td>\n",
              "      <td>journals/sigmod/Winslett03b</td>\n",
              "      <td>1.944444</td>\n",
              "      <td>Research in database engineering at the Univer...</td>\n",
              "      <td>Interview with Rakesh Agrawal_Marianne Winslet...</td>\n",
              "    </tr>\n",
              "    <tr>\n",
              "      <th>568218</th>\n",
              "      <td>959087</td>\n",
              "      <td>journals/sigmod/Winslett03a</td>\n",
              "      <td>1.944444</td>\n",
              "      <td>Research in database engineering at the Univer...</td>\n",
              "      <td>Interview with Michael Stonebraker_Marianne Wi...</td>\n",
              "    </tr>\n",
              "    <tr>\n",
              "      <th>...</th>\n",
              "      <td>...</td>\n",
              "      <td>...</td>\n",
              "      <td>...</td>\n",
              "      <td>...</td>\n",
              "      <td>...</td>\n",
              "    </tr>\n",
              "    <tr>\n",
              "      <th>479185</th>\n",
              "      <td>174639</td>\n",
              "      <td>journals/sigmod/X94</td>\n",
              "      <td>1.045455</td>\n",
              "      <td>Altruistic locking_Kenneth Salem, H&amp;#233;ctor ...</td>\n",
              "      <td>The TSQL2 Final Language Definition Announceme...</td>\n",
              "    </tr>\n",
              "    <tr>\n",
              "      <th>479303</th>\n",
              "      <td>174639</td>\n",
              "      <td>journals/sigmod/X94a</td>\n",
              "      <td>1.045455</td>\n",
              "      <td>Altruistic locking_Kenneth Salem, H&amp;#233;ctor ...</td>\n",
              "      <td>Calls for Papers / Announcements_?_SIGMOD Reco...</td>\n",
              "    </tr>\n",
              "    <tr>\n",
              "      <th>479119</th>\n",
              "      <td>174639</td>\n",
              "      <td>conf/vldb/Bernstein94</td>\n",
              "      <td>1.032258</td>\n",
              "      <td>Altruistic locking_Kenneth Salem, H&amp;#233;ctor ...</td>\n",
              "      <td>PC Database Systems - Present and Future_Phili...</td>\n",
              "    </tr>\n",
              "    <tr>\n",
              "      <th>479197</th>\n",
              "      <td>174639</td>\n",
              "      <td>conf/vldb/Lesk94</td>\n",
              "      <td>1.032258</td>\n",
              "      <td>Altruistic locking_Kenneth Salem, H&amp;#233;ctor ...</td>\n",
              "      <td>Experiments on Access to Digital Libraries: Ho...</td>\n",
              "    </tr>\n",
              "    <tr>\n",
              "      <th>479304</th>\n",
              "      <td>174639</td>\n",
              "      <td>conf/vldb/FuC94</td>\n",
              "      <td>1.032258</td>\n",
              "      <td>Altruistic locking_Kenneth Salem, H&amp;#233;ctor ...</td>\n",
              "      <td>A Transaction Replication Scheme for a Replica...</td>\n",
              "    </tr>\n",
              "  </tbody>\n",
              "</table>\n",
              "<p>590880 rows × 5 columns</p>\n",
              "</div>\n",
              "      <button class=\"colab-df-convert\" onclick=\"convertToInteractive('df-56e2c992-4024-48e1-9661-b3ca8dfbb771')\"\n",
              "              title=\"Convert this dataframe to an interactive table.\"\n",
              "              style=\"display:none;\">\n",
              "        \n",
              "  <svg xmlns=\"http://www.w3.org/2000/svg\" height=\"24px\"viewBox=\"0 0 24 24\"\n",
              "       width=\"24px\">\n",
              "    <path d=\"M0 0h24v24H0V0z\" fill=\"none\"/>\n",
              "    <path d=\"M18.56 5.44l.94 2.06.94-2.06 2.06-.94-2.06-.94-.94-2.06-.94 2.06-2.06.94zm-11 1L8.5 8.5l.94-2.06 2.06-.94-2.06-.94L8.5 2.5l-.94 2.06-2.06.94zm10 10l.94 2.06.94-2.06 2.06-.94-2.06-.94-.94-2.06-.94 2.06-2.06.94z\"/><path d=\"M17.41 7.96l-1.37-1.37c-.4-.4-.92-.59-1.43-.59-.52 0-1.04.2-1.43.59L10.3 9.45l-7.72 7.72c-.78.78-.78 2.05 0 2.83L4 21.41c.39.39.9.59 1.41.59.51 0 1.02-.2 1.41-.59l7.78-7.78 2.81-2.81c.8-.78.8-2.07 0-2.86zM5.41 20L4 18.59l7.72-7.72 1.47 1.35L5.41 20z\"/>\n",
              "  </svg>\n",
              "      </button>\n",
              "      \n",
              "  <style>\n",
              "    .colab-df-container {\n",
              "      display:flex;\n",
              "      flex-wrap:wrap;\n",
              "      gap: 12px;\n",
              "    }\n",
              "\n",
              "    .colab-df-convert {\n",
              "      background-color: #E8F0FE;\n",
              "      border: none;\n",
              "      border-radius: 50%;\n",
              "      cursor: pointer;\n",
              "      display: none;\n",
              "      fill: #1967D2;\n",
              "      height: 32px;\n",
              "      padding: 0 0 0 0;\n",
              "      width: 32px;\n",
              "    }\n",
              "\n",
              "    .colab-df-convert:hover {\n",
              "      background-color: #E2EBFA;\n",
              "      box-shadow: 0px 1px 2px rgba(60, 64, 67, 0.3), 0px 1px 3px 1px rgba(60, 64, 67, 0.15);\n",
              "      fill: #174EA6;\n",
              "    }\n",
              "\n",
              "    [theme=dark] .colab-df-convert {\n",
              "      background-color: #3B4455;\n",
              "      fill: #D2E3FC;\n",
              "    }\n",
              "\n",
              "    [theme=dark] .colab-df-convert:hover {\n",
              "      background-color: #434B5C;\n",
              "      box-shadow: 0px 1px 3px 1px rgba(0, 0, 0, 0.15);\n",
              "      filter: drop-shadow(0px 1px 2px rgba(0, 0, 0, 0.3));\n",
              "      fill: #FFFFFF;\n",
              "    }\n",
              "  </style>\n",
              "\n",
              "      <script>\n",
              "        const buttonEl =\n",
              "          document.querySelector('#df-56e2c992-4024-48e1-9661-b3ca8dfbb771 button.colab-df-convert');\n",
              "        buttonEl.style.display =\n",
              "          google.colab.kernel.accessAllowed ? 'block' : 'none';\n",
              "\n",
              "        async function convertToInteractive(key) {\n",
              "          const element = document.querySelector('#df-56e2c992-4024-48e1-9661-b3ca8dfbb771');\n",
              "          const dataTable =\n",
              "            await google.colab.kernel.invokeFunction('convertToInteractive',\n",
              "                                                     [key], {});\n",
              "          if (!dataTable) return;\n",
              "\n",
              "          const docLinkHtml = 'Like what you see? Visit the ' +\n",
              "            '<a target=\"_blank\" href=https://colab.research.google.com/notebooks/data_table.ipynb>data table notebook</a>'\n",
              "            + ' to learn more about interactive tables.';\n",
              "          element.innerHTML = '';\n",
              "          dataTable['output_type'] = 'display_data';\n",
              "          await google.colab.output.renderOutput(dataTable, element);\n",
              "          const docLink = document.createElement('div');\n",
              "          docLink.innerHTML = docLinkHtml;\n",
              "          element.appendChild(docLink);\n",
              "        }\n",
              "      </script>\n",
              "    </div>\n",
              "  </div>\n",
              "  "
            ]
          },
          "metadata": {},
          "execution_count": 20
        }
      ]
    },
    {
      "cell_type": "markdown",
      "metadata": {
        "id": "PT_ctw1MHLPt"
      },
      "source": [
        "We still have the similar amount of matches, so we will do the same as before - leave only matches with highest score:"
      ]
    },
    {
      "cell_type": "code",
      "metadata": {
        "colab": {
          "base_uri": "https://localhost:8080/",
          "height": 468
        },
        "id": "OIQ2BJGYHTlE",
        "outputId": "33c4ddac-9f3d-43c5-ab0d-2fe041cddb10"
      },
      "source": [
        "final_merge = final_merge[cols]\n",
        "indices = final_merge.groupby('id_1')['Score'].transform(max) == final_merge['Score']\n",
        "final_merge[indices]"
      ],
      "execution_count": null,
      "outputs": [
        {
          "output_type": "execute_result",
          "data": {
            "text/plain": [
              "          id_1                          id_2     Score  \\\n",
              "183     304586         conf/sigmod/VossenW99  3.171543   \n",
              "360     304587           conf/sigmod/CruzJ99  3.175219   \n",
              "504     304589   conf/sigmod/BouguettayaBH99  3.191489   \n",
              "740     304590      conf/sigmod/BaruGLMPVC99  3.154043   \n",
              "1017    304582      conf/sigmod/BrodskySCE99  3.175219   \n",
              "...        ...                           ...       ...   \n",
              "589429  945735      journals/sigmod/Ouksel03  3.777778   \n",
              "589831  950484        journals/vldb/ChanGR03  2.984608   \n",
              "590157  950483  journals/vldb/RamamurthyDS03  3.078947   \n",
              "590282  950482   journals/vldb/BernsteinIR03  3.029767   \n",
              "590623  945741    journals/sigmod/Anisimov03  3.777778   \n",
              "\n",
              "                                               ACM_lookup  \\\n",
              "183     The WASA2 object-oriented workflow management ...   \n",
              "360     A user-centered interface for querying distrib...   \n",
              "504     World Wide Database-integrating the Web, CORBA...   \n",
              "740     XML-based information mediation with MIX_Chait...   \n",
              "1017    The CCUBE constraint object-oriented database ...   \n",
              "...                                                   ...   \n",
              "589429  In-context peer-to-peer information filtering ...   \n",
              "589831  RE-tree: an efficient index structure for regu...   \n",
              "590157  A case for fractured mirrors_Ravishankar Ramam...   \n",
              "590282  Guest editorial_Philip A. Bernstein, Yannis Io...   \n",
              "590623  Review of The data warehouse toolkit: the comp...   \n",
              "\n",
              "                                              DBLP_lookup  \n",
              "183     The WASA2 Object-Oriented Workflow Management ...  \n",
              "360     A User-Centered Interface for Querying Distrib...  \n",
              "504     World Wide Database - Integrating the Web, COR...  \n",
              "740     XML-Based Information Mediation with MIX_Yanni...  \n",
              "1017    The CCUBE Constraint Object-Oriented Database ...  \n",
              "...                                                   ...  \n",
              "589429  In-context peer-to-peer information filtering ...  \n",
              "589831  RE-tree: an efficient index structure for regu...  \n",
              "590157  A case for fractured mirrors_David J. DeWitt, ...  \n",
              "590282  Guest editorial_Yannis E. Ioannidis, Raghu Ram...  \n",
              "590623  Review of The data warehouse toolkit: the comp...  \n",
              "\n",
              "[2710 rows x 5 columns]"
            ],
            "text/html": [
              "\n",
              "  <div id=\"df-3fb23ccb-eb5f-4e71-9cfc-64895377306e\">\n",
              "    <div class=\"colab-df-container\">\n",
              "      <div>\n",
              "<style scoped>\n",
              "    .dataframe tbody tr th:only-of-type {\n",
              "        vertical-align: middle;\n",
              "    }\n",
              "\n",
              "    .dataframe tbody tr th {\n",
              "        vertical-align: top;\n",
              "    }\n",
              "\n",
              "    .dataframe thead th {\n",
              "        text-align: right;\n",
              "    }\n",
              "</style>\n",
              "<table border=\"1\" class=\"dataframe\">\n",
              "  <thead>\n",
              "    <tr style=\"text-align: right;\">\n",
              "      <th></th>\n",
              "      <th>id_1</th>\n",
              "      <th>id_2</th>\n",
              "      <th>Score</th>\n",
              "      <th>ACM_lookup</th>\n",
              "      <th>DBLP_lookup</th>\n",
              "    </tr>\n",
              "  </thead>\n",
              "  <tbody>\n",
              "    <tr>\n",
              "      <th>183</th>\n",
              "      <td>304586</td>\n",
              "      <td>conf/sigmod/VossenW99</td>\n",
              "      <td>3.171543</td>\n",
              "      <td>The WASA2 object-oriented workflow management ...</td>\n",
              "      <td>The WASA2 Object-Oriented Workflow Management ...</td>\n",
              "    </tr>\n",
              "    <tr>\n",
              "      <th>360</th>\n",
              "      <td>304587</td>\n",
              "      <td>conf/sigmod/CruzJ99</td>\n",
              "      <td>3.175219</td>\n",
              "      <td>A user-centered interface for querying distrib...</td>\n",
              "      <td>A User-Centered Interface for Querying Distrib...</td>\n",
              "    </tr>\n",
              "    <tr>\n",
              "      <th>504</th>\n",
              "      <td>304589</td>\n",
              "      <td>conf/sigmod/BouguettayaBH99</td>\n",
              "      <td>3.191489</td>\n",
              "      <td>World Wide Database-integrating the Web, CORBA...</td>\n",
              "      <td>World Wide Database - Integrating the Web, COR...</td>\n",
              "    </tr>\n",
              "    <tr>\n",
              "      <th>740</th>\n",
              "      <td>304590</td>\n",
              "      <td>conf/sigmod/BaruGLMPVC99</td>\n",
              "      <td>3.154043</td>\n",
              "      <td>XML-based information mediation with MIX_Chait...</td>\n",
              "      <td>XML-Based Information Mediation with MIX_Yanni...</td>\n",
              "    </tr>\n",
              "    <tr>\n",
              "      <th>1017</th>\n",
              "      <td>304582</td>\n",
              "      <td>conf/sigmod/BrodskySCE99</td>\n",
              "      <td>3.175219</td>\n",
              "      <td>The CCUBE constraint object-oriented database ...</td>\n",
              "      <td>The CCUBE Constraint Object-Oriented Database ...</td>\n",
              "    </tr>\n",
              "    <tr>\n",
              "      <th>...</th>\n",
              "      <td>...</td>\n",
              "      <td>...</td>\n",
              "      <td>...</td>\n",
              "      <td>...</td>\n",
              "      <td>...</td>\n",
              "    </tr>\n",
              "    <tr>\n",
              "      <th>589429</th>\n",
              "      <td>945735</td>\n",
              "      <td>journals/sigmod/Ouksel03</td>\n",
              "      <td>3.777778</td>\n",
              "      <td>In-context peer-to-peer information filtering ...</td>\n",
              "      <td>In-context peer-to-peer information filtering ...</td>\n",
              "    </tr>\n",
              "    <tr>\n",
              "      <th>589831</th>\n",
              "      <td>950484</td>\n",
              "      <td>journals/vldb/ChanGR03</td>\n",
              "      <td>2.984608</td>\n",
              "      <td>RE-tree: an efficient index structure for regu...</td>\n",
              "      <td>RE-tree: an efficient index structure for regu...</td>\n",
              "    </tr>\n",
              "    <tr>\n",
              "      <th>590157</th>\n",
              "      <td>950483</td>\n",
              "      <td>journals/vldb/RamamurthyDS03</td>\n",
              "      <td>3.078947</td>\n",
              "      <td>A case for fractured mirrors_Ravishankar Ramam...</td>\n",
              "      <td>A case for fractured mirrors_David J. DeWitt, ...</td>\n",
              "    </tr>\n",
              "    <tr>\n",
              "      <th>590282</th>\n",
              "      <td>950482</td>\n",
              "      <td>journals/vldb/BernsteinIR03</td>\n",
              "      <td>3.029767</td>\n",
              "      <td>Guest editorial_Philip A. Bernstein, Yannis Io...</td>\n",
              "      <td>Guest editorial_Yannis E. Ioannidis, Raghu Ram...</td>\n",
              "    </tr>\n",
              "    <tr>\n",
              "      <th>590623</th>\n",
              "      <td>945741</td>\n",
              "      <td>journals/sigmod/Anisimov03</td>\n",
              "      <td>3.777778</td>\n",
              "      <td>Review of The data warehouse toolkit: the comp...</td>\n",
              "      <td>Review of The data warehouse toolkit: the comp...</td>\n",
              "    </tr>\n",
              "  </tbody>\n",
              "</table>\n",
              "<p>2710 rows × 5 columns</p>\n",
              "</div>\n",
              "      <button class=\"colab-df-convert\" onclick=\"convertToInteractive('df-3fb23ccb-eb5f-4e71-9cfc-64895377306e')\"\n",
              "              title=\"Convert this dataframe to an interactive table.\"\n",
              "              style=\"display:none;\">\n",
              "        \n",
              "  <svg xmlns=\"http://www.w3.org/2000/svg\" height=\"24px\"viewBox=\"0 0 24 24\"\n",
              "       width=\"24px\">\n",
              "    <path d=\"M0 0h24v24H0V0z\" fill=\"none\"/>\n",
              "    <path d=\"M18.56 5.44l.94 2.06.94-2.06 2.06-.94-2.06-.94-.94-2.06-.94 2.06-2.06.94zm-11 1L8.5 8.5l.94-2.06 2.06-.94-2.06-.94L8.5 2.5l-.94 2.06-2.06.94zm10 10l.94 2.06.94-2.06 2.06-.94-2.06-.94-.94-2.06-.94 2.06-2.06.94z\"/><path d=\"M17.41 7.96l-1.37-1.37c-.4-.4-.92-.59-1.43-.59-.52 0-1.04.2-1.43.59L10.3 9.45l-7.72 7.72c-.78.78-.78 2.05 0 2.83L4 21.41c.39.39.9.59 1.41.59.51 0 1.02-.2 1.41-.59l7.78-7.78 2.81-2.81c.8-.78.8-2.07 0-2.86zM5.41 20L4 18.59l7.72-7.72 1.47 1.35L5.41 20z\"/>\n",
              "  </svg>\n",
              "      </button>\n",
              "      \n",
              "  <style>\n",
              "    .colab-df-container {\n",
              "      display:flex;\n",
              "      flex-wrap:wrap;\n",
              "      gap: 12px;\n",
              "    }\n",
              "\n",
              "    .colab-df-convert {\n",
              "      background-color: #E8F0FE;\n",
              "      border: none;\n",
              "      border-radius: 50%;\n",
              "      cursor: pointer;\n",
              "      display: none;\n",
              "      fill: #1967D2;\n",
              "      height: 32px;\n",
              "      padding: 0 0 0 0;\n",
              "      width: 32px;\n",
              "    }\n",
              "\n",
              "    .colab-df-convert:hover {\n",
              "      background-color: #E2EBFA;\n",
              "      box-shadow: 0px 1px 2px rgba(60, 64, 67, 0.3), 0px 1px 3px 1px rgba(60, 64, 67, 0.15);\n",
              "      fill: #174EA6;\n",
              "    }\n",
              "\n",
              "    [theme=dark] .colab-df-convert {\n",
              "      background-color: #3B4455;\n",
              "      fill: #D2E3FC;\n",
              "    }\n",
              "\n",
              "    [theme=dark] .colab-df-convert:hover {\n",
              "      background-color: #434B5C;\n",
              "      box-shadow: 0px 1px 3px 1px rgba(0, 0, 0, 0.15);\n",
              "      filter: drop-shadow(0px 1px 2px rgba(0, 0, 0, 0.3));\n",
              "      fill: #FFFFFF;\n",
              "    }\n",
              "  </style>\n",
              "\n",
              "      <script>\n",
              "        const buttonEl =\n",
              "          document.querySelector('#df-3fb23ccb-eb5f-4e71-9cfc-64895377306e button.colab-df-convert');\n",
              "        buttonEl.style.display =\n",
              "          google.colab.kernel.accessAllowed ? 'block' : 'none';\n",
              "\n",
              "        async function convertToInteractive(key) {\n",
              "          const element = document.querySelector('#df-3fb23ccb-eb5f-4e71-9cfc-64895377306e');\n",
              "          const dataTable =\n",
              "            await google.colab.kernel.invokeFunction('convertToInteractive',\n",
              "                                                     [key], {});\n",
              "          if (!dataTable) return;\n",
              "\n",
              "          const docLinkHtml = 'Like what you see? Visit the ' +\n",
              "            '<a target=\"_blank\" href=https://colab.research.google.com/notebooks/data_table.ipynb>data table notebook</a>'\n",
              "            + ' to learn more about interactive tables.';\n",
              "          element.innerHTML = '';\n",
              "          dataTable['output_type'] = 'display_data';\n",
              "          await google.colab.output.renderOutput(dataTable, element);\n",
              "          const docLink = document.createElement('div');\n",
              "          docLink.innerHTML = docLinkHtml;\n",
              "          element.appendChild(docLink);\n",
              "        }\n",
              "      </script>\n",
              "    </div>\n",
              "  </div>\n",
              "  "
            ]
          },
          "metadata": {},
          "execution_count": 21
        }
      ]
    },
    {
      "cell_type": "code",
      "metadata": {
        "id": "s6LOGrtuHi9L"
      },
      "source": [
        "final_merge[indices][['id_1', 'id_2']].to_csv('recordlinkageBLOCKmatchesUPDATED2.csv', \n",
        "                                              index=False, header=['idACM', 'idDBLP'])"
      ],
      "execution_count": null,
      "outputs": []
    },
    {
      "cell_type": "markdown",
      "metadata": {
        "id": "1GZ_5EaJKngP"
      },
      "source": [
        "### Sorted Neighbourhood indexing"
      ]
    },
    {
      "cell_type": "markdown",
      "metadata": {
        "id": "vtHxdHEgIQQA"
      },
      "source": [
        "And finally, let's try sorted neighbourhood indexing:"
      ]
    },
    {
      "cell_type": "code",
      "metadata": {
        "id": "-0eDeHY4IVAJ"
      },
      "source": [
        "# Re-read datasets using id columns as indices\n",
        "df_ACM = pd.read_csv('https://raw.githubusercontent.com/PaoloMissier/CSC3831-2021-22/main/LINKAGE/DATASETS/ACM.csv', \n",
        "                     usecols=['id', 'title', 'authors', 'venue', 'year'], index_col='id')\n",
        "df_DBLP = pd.read_csv('https://raw.githubusercontent.com/PaoloMissier/CSC3831-2021-22/main/LINKAGE/DATASETS/dblp.csv', \n",
        "                     usecols=['id', 'title', 'authors', 'venue', 'year'], index_col='id')"
      ],
      "execution_count": null,
      "outputs": []
    },
    {
      "cell_type": "code",
      "metadata": {
        "id": "NEoql7bFIbwX"
      },
      "source": [
        "# Build the indexer\n",
        "indexer = recordlinkage.Index()\n",
        "\n",
        "# Try using sorted neighbourhood indexing\n",
        "indexer.sortedneighbourhood(left_on='year', right_on='year')\n",
        "\n",
        "candidates = indexer.index(df_ACM, df_DBLP)"
      ],
      "execution_count": null,
      "outputs": []
    },
    {
      "cell_type": "code",
      "metadata": {
        "colab": {
          "base_uri": "https://localhost:8080/"
        },
        "id": "1YHXFVIuIhzc",
        "outputId": "5a54ef87-508e-4059-81da-bc62fe02d1df"
      },
      "source": [
        "# Check the number of candidates\n",
        "len(candidates)"
      ],
      "execution_count": null,
      "outputs": [
        {
          "output_type": "execute_result",
          "data": {
            "text/plain": [
              "1680430"
            ]
          },
          "metadata": {},
          "execution_count": 106
        }
      ]
    },
    {
      "cell_type": "code",
      "metadata": {
        "id": "Fauy57TCIrUT"
      },
      "source": [
        "compare = recordlinkage.Compare()\n",
        "\n",
        "compare.exact('year', 'year', label='year')\n",
        "compare.string('authors', 'authors', label='authors',\n",
        "               threshold=0.8, method='jarowinkler')\n",
        "compare.string('title', 'title', label='title',\n",
        "               threshold=0.8, method='jarowinkler')\n",
        "compare.string('venue', 'venue', label='venue',\n",
        "               threshold=0.8, method='jarowinkler')\n",
        "\n",
        "start = time.time()\n",
        "compare_vectors = compare.compute(candidates, df_ACM, df_DBLP)\n",
        "end = time.time()\n",
        "\n",
        "time_elapsed_full = end - start"
      ],
      "execution_count": null,
      "outputs": []
    },
    {
      "cell_type": "code",
      "metadata": {
        "colab": {
          "base_uri": "https://localhost:8080/"
        },
        "id": "9a8m_AHuIwXo",
        "outputId": "1e7ab062-7a1f-4a87-a0b9-eb827df72dd9"
      },
      "source": [
        "# Time spent\n",
        "time_elapsed_full"
      ],
      "execution_count": null,
      "outputs": [
        {
          "output_type": "execute_result",
          "data": {
            "text/plain": [
              "36.27716588973999"
            ]
          },
          "metadata": {},
          "execution_count": 108
        }
      ]
    },
    {
      "cell_type": "code",
      "metadata": {
        "colab": {
          "base_uri": "https://localhost:8080/"
        },
        "id": "0AP3mttNIxR-",
        "outputId": "e59870c6-d400-4c24-b5fc-8b40ac91dfbd"
      },
      "source": [
        "# Score totals\n",
        "compare_vectors.sum(axis=1).value_counts().sort_index()"
      ],
      "execution_count": null,
      "outputs": [
        {
          "output_type": "execute_result",
          "data": {
            "text/plain": [
              "0.0    1017287\n",
              "1.0     624129\n",
              "2.0      37161\n",
              "3.0       1451\n",
              "4.0        402\n",
              "dtype: int64"
            ]
          },
          "metadata": {},
          "execution_count": 109
        }
      ]
    },
    {
      "cell_type": "code",
      "metadata": {
        "colab": {
          "base_uri": "https://localhost:8080/",
          "height": 206
        },
        "id": "XPPTN39eI27v",
        "outputId": "33dbe626-1554-4df2-a401-92d16c514f2e"
      },
      "source": [
        "# Potential matches\n",
        "potential_matches = compare_vectors[compare_vectors.sum(axis=1) > 1].reset_index()\n",
        "\n",
        "potential_matches['Score'] = potential_matches.loc[:, 'year':'venue'].sum(axis=1)\n",
        "potential_matches.head()"
      ],
      "execution_count": null,
      "outputs": [
        {
          "output_type": "execute_result",
          "data": {
            "text/html": [
              "<div>\n",
              "<style scoped>\n",
              "    .dataframe tbody tr th:only-of-type {\n",
              "        vertical-align: middle;\n",
              "    }\n",
              "\n",
              "    .dataframe tbody tr th {\n",
              "        vertical-align: top;\n",
              "    }\n",
              "\n",
              "    .dataframe thead th {\n",
              "        text-align: right;\n",
              "    }\n",
              "</style>\n",
              "<table border=\"1\" class=\"dataframe\">\n",
              "  <thead>\n",
              "    <tr style=\"text-align: right;\">\n",
              "      <th></th>\n",
              "      <th>id_1</th>\n",
              "      <th>id_2</th>\n",
              "      <th>year</th>\n",
              "      <th>authors</th>\n",
              "      <th>title</th>\n",
              "      <th>venue</th>\n",
              "      <th>Score</th>\n",
              "    </tr>\n",
              "  </thead>\n",
              "  <tbody>\n",
              "    <tr>\n",
              "      <th>0</th>\n",
              "      <td>310075</td>\n",
              "      <td>journals/sigmod/EisenbergM00</td>\n",
              "      <td>0</td>\n",
              "      <td>1.0</td>\n",
              "      <td>0.0</td>\n",
              "      <td>1.0</td>\n",
              "      <td>2.0</td>\n",
              "    </tr>\n",
              "    <tr>\n",
              "      <th>1</th>\n",
              "      <td>320249</td>\n",
              "      <td>journals/tods/FegarasM00</td>\n",
              "      <td>0</td>\n",
              "      <td>0.0</td>\n",
              "      <td>1.0</td>\n",
              "      <td>1.0</td>\n",
              "      <td>2.0</td>\n",
              "    </tr>\n",
              "    <tr>\n",
              "      <th>2</th>\n",
              "      <td>310062</td>\n",
              "      <td>journals/sigmod/TheodoridisN00</td>\n",
              "      <td>0</td>\n",
              "      <td>1.0</td>\n",
              "      <td>0.0</td>\n",
              "      <td>1.0</td>\n",
              "      <td>2.0</td>\n",
              "    </tr>\n",
              "    <tr>\n",
              "      <th>3</th>\n",
              "      <td>344864</td>\n",
              "      <td>journals/sigmod/EisenbergM00</td>\n",
              "      <td>0</td>\n",
              "      <td>1.0</td>\n",
              "      <td>0.0</td>\n",
              "      <td>1.0</td>\n",
              "      <td>2.0</td>\n",
              "    </tr>\n",
              "    <tr>\n",
              "      <th>4</th>\n",
              "      <td>306119</td>\n",
              "      <td>journals/sigmod/GatziuJSV99</td>\n",
              "      <td>0</td>\n",
              "      <td>0.0</td>\n",
              "      <td>1.0</td>\n",
              "      <td>1.0</td>\n",
              "      <td>2.0</td>\n",
              "    </tr>\n",
              "  </tbody>\n",
              "</table>\n",
              "</div>"
            ],
            "text/plain": [
              "     id_1                            id_2  year  authors  title  venue  Score\n",
              "0  310075    journals/sigmod/EisenbergM00     0      1.0    0.0    1.0    2.0\n",
              "1  320249        journals/tods/FegarasM00     0      0.0    1.0    1.0    2.0\n",
              "2  310062  journals/sigmod/TheodoridisN00     0      1.0    0.0    1.0    2.0\n",
              "3  344864    journals/sigmod/EisenbergM00     0      1.0    0.0    1.0    2.0\n",
              "4  306119     journals/sigmod/GatziuJSV99     0      0.0    1.0    1.0    2.0"
            ]
          },
          "metadata": {},
          "execution_count": 110
        }
      ]
    },
    {
      "cell_type": "code",
      "metadata": {
        "id": "Jg0Q6jCYI7xE"
      },
      "source": [
        "# Add look up columns for easier comparison\n",
        "df_ACM['ACM_lookup'] = df_ACM[['title',\n",
        "                               'authors',\n",
        "                               'venue',\n",
        "                               'year']].apply(lambda x: '_'.join(x.astype(str)), axis=1)\n",
        "\n",
        "df_DBLP['DBLP_lookup'] = df_DBLP[['title',\n",
        "                                  'authors',\n",
        "                                  'venue',\n",
        "                                  'year']].apply(lambda x: '_'.join(x.astype(str)), axis=1)"
      ],
      "execution_count": null,
      "outputs": []
    },
    {
      "cell_type": "code",
      "metadata": {
        "id": "LaqzQQcwI_gp"
      },
      "source": [
        "ACM_lookup = df_ACM['ACM_lookup'].reset_index()\n",
        "ACM_lookup = ACM_lookup.rename({'id':'id_1'}, axis=1)\n",
        "\n",
        "DBLP_lookup = df_DBLP['DBLP_lookup'].reset_index()\n",
        "DBLP_lookup = DBLP_lookup.rename({'id':'id_2'}, axis=1)"
      ],
      "execution_count": null,
      "outputs": []
    },
    {
      "cell_type": "code",
      "metadata": {
        "colab": {
          "base_uri": "https://localhost:8080/",
          "height": 423
        },
        "id": "lWCixyVkJDC-",
        "outputId": "1ef2ef0f-7078-446a-d270-03a044cf83c4"
      },
      "source": [
        "ACM_merge = potential_matches.merge(ACM_lookup, how='left')\n",
        "final_merge = ACM_merge.merge(DBLP_lookup, how='left')\n",
        "\n",
        "cols = ['id_1', 'id_2', 'Score', 'ACM_lookup', 'DBLP_lookup']\n",
        "final_merge[cols].sort_values(by=['id_1', 'Score'], ascending=False)"
      ],
      "execution_count": null,
      "outputs": [
        {
          "output_type": "execute_result",
          "data": {
            "text/html": [
              "<div>\n",
              "<style scoped>\n",
              "    .dataframe tbody tr th:only-of-type {\n",
              "        vertical-align: middle;\n",
              "    }\n",
              "\n",
              "    .dataframe tbody tr th {\n",
              "        vertical-align: top;\n",
              "    }\n",
              "\n",
              "    .dataframe thead th {\n",
              "        text-align: right;\n",
              "    }\n",
              "</style>\n",
              "<table border=\"1\" class=\"dataframe\">\n",
              "  <thead>\n",
              "    <tr style=\"text-align: right;\">\n",
              "      <th></th>\n",
              "      <th>id_1</th>\n",
              "      <th>id_2</th>\n",
              "      <th>Score</th>\n",
              "      <th>ACM_lookup</th>\n",
              "      <th>DBLP_lookup</th>\n",
              "    </tr>\n",
              "  </thead>\n",
              "  <tbody>\n",
              "    <tr>\n",
              "      <th>35185</th>\n",
              "      <td>959087</td>\n",
              "      <td>journals/sigmod/Hainaut03</td>\n",
              "      <td>4.0</td>\n",
              "      <td>Research in database engineering at the Univer...</td>\n",
              "      <td>Research in database engineering at the Univer...</td>\n",
              "    </tr>\n",
              "    <tr>\n",
              "      <th>35241</th>\n",
              "      <td>959087</td>\n",
              "      <td>journals/sigmod/FifeG03</td>\n",
              "      <td>3.0</td>\n",
              "      <td>Research in database engineering at the Univer...</td>\n",
              "      <td>Research issues for data communication in mobi...</td>\n",
              "    </tr>\n",
              "    <tr>\n",
              "      <th>35165</th>\n",
              "      <td>959087</td>\n",
              "      <td>journals/sigmod/PitouraAPSV03</td>\n",
              "      <td>2.0</td>\n",
              "      <td>Research in database engineering at the Univer...</td>\n",
              "      <td>DBGlobe: a service-oriented P2P system for glo...</td>\n",
              "    </tr>\n",
              "    <tr>\n",
              "      <th>35166</th>\n",
              "      <td>959087</td>\n",
              "      <td>journals/sigmod/ChakravarthyAEFO03</td>\n",
              "      <td>2.0</td>\n",
              "      <td>Research in database engineering at the Univer...</td>\n",
              "      <td>Database Research at UT Arlington_Sharma Chakr...</td>\n",
              "    </tr>\n",
              "    <tr>\n",
              "      <th>35167</th>\n",
              "      <td>959087</td>\n",
              "      <td>journals/sigmod/GerlaX03</td>\n",
              "      <td>2.0</td>\n",
              "      <td>Research in database engineering at the Univer...</td>\n",
              "      <td>Multimedia streaming in large-scale sensor net...</td>\n",
              "    </tr>\n",
              "    <tr>\n",
              "      <th>...</th>\n",
              "      <td>...</td>\n",
              "      <td>...</td>\n",
              "      <td>...</td>\n",
              "      <td>...</td>\n",
              "      <td>...</td>\n",
              "    </tr>\n",
              "    <tr>\n",
              "      <th>28932</th>\n",
              "      <td>174639</td>\n",
              "      <td>journals/tods/WinslettSQ94</td>\n",
              "      <td>2.0</td>\n",
              "      <td>Altruistic locking_Kenneth Salem, H&amp;#233;ctor ...</td>\n",
              "      <td>Formal Query Languages for Secure Relational D...</td>\n",
              "    </tr>\n",
              "    <tr>\n",
              "      <th>28933</th>\n",
              "      <td>174639</td>\n",
              "      <td>journals/tods/YanG94</td>\n",
              "      <td>2.0</td>\n",
              "      <td>Altruistic locking_Kenneth Salem, H&amp;#233;ctor ...</td>\n",
              "      <td>Index Structures for Selective Dissemination o...</td>\n",
              "    </tr>\n",
              "    <tr>\n",
              "      <th>28934</th>\n",
              "      <td>174639</td>\n",
              "      <td>journals/tods/KorthS94</td>\n",
              "      <td>2.0</td>\n",
              "      <td>Altruistic locking_Kenneth Salem, H&amp;#233;ctor ...</td>\n",
              "      <td>Formal Aspects of Concurrency Control in Long-...</td>\n",
              "    </tr>\n",
              "    <tr>\n",
              "      <th>28935</th>\n",
              "      <td>174639</td>\n",
              "      <td>journals/tods/RosenthalR94</td>\n",
              "      <td>2.0</td>\n",
              "      <td>Altruistic locking_Kenneth Salem, H&amp;#233;ctor ...</td>\n",
              "      <td>Tools and Transformations - Rigorous and Other...</td>\n",
              "    </tr>\n",
              "    <tr>\n",
              "      <th>28936</th>\n",
              "      <td>174639</td>\n",
              "      <td>journals/tods/Subrahmanian94</td>\n",
              "      <td>2.0</td>\n",
              "      <td>Altruistic locking_Kenneth Salem, H&amp;#233;ctor ...</td>\n",
              "      <td>Amalgamating Knowledge Bases_V. S. Subrahmania...</td>\n",
              "    </tr>\n",
              "  </tbody>\n",
              "</table>\n",
              "<p>39014 rows × 5 columns</p>\n",
              "</div>"
            ],
            "text/plain": [
              "         id_1  ...                                        DBLP_lookup\n",
              "35185  959087  ...  Research in database engineering at the Univer...\n",
              "35241  959087  ...  Research issues for data communication in mobi...\n",
              "35165  959087  ...  DBGlobe: a service-oriented P2P system for glo...\n",
              "35166  959087  ...  Database Research at UT Arlington_Sharma Chakr...\n",
              "35167  959087  ...  Multimedia streaming in large-scale sensor net...\n",
              "...       ...  ...                                                ...\n",
              "28932  174639  ...  Formal Query Languages for Secure Relational D...\n",
              "28933  174639  ...  Index Structures for Selective Dissemination o...\n",
              "28934  174639  ...  Formal Aspects of Concurrency Control in Long-...\n",
              "28935  174639  ...  Tools and Transformations - Rigorous and Other...\n",
              "28936  174639  ...  Amalgamating Knowledge Bases_V. S. Subrahmania...\n",
              "\n",
              "[39014 rows x 5 columns]"
            ]
          },
          "metadata": {},
          "execution_count": 113
        }
      ]
    },
    {
      "cell_type": "markdown",
      "metadata": {
        "id": "MbNsRBJPJMfd"
      },
      "source": [
        "Once again, we'll leave matches with highest score:"
      ]
    },
    {
      "cell_type": "code",
      "metadata": {
        "colab": {
          "base_uri": "https://localhost:8080/",
          "height": 423
        },
        "id": "2Bj17AVrJQyX",
        "outputId": "205a6958-1cb0-4ffa-e016-79cdfffd4418"
      },
      "source": [
        "final_merge = final_merge[cols]\n",
        "indices = final_merge.groupby('id_1')['Score'].transform(max) == final_merge['Score']\n",
        "final_merge[indices]"
      ],
      "execution_count": null,
      "outputs": [
        {
          "output_type": "execute_result",
          "data": {
            "text/html": [
              "<div>\n",
              "<style scoped>\n",
              "    .dataframe tbody tr th:only-of-type {\n",
              "        vertical-align: middle;\n",
              "    }\n",
              "\n",
              "    .dataframe tbody tr th {\n",
              "        vertical-align: top;\n",
              "    }\n",
              "\n",
              "    .dataframe thead th {\n",
              "        text-align: right;\n",
              "    }\n",
              "</style>\n",
              "<table border=\"1\" class=\"dataframe\">\n",
              "  <thead>\n",
              "    <tr style=\"text-align: right;\">\n",
              "      <th></th>\n",
              "      <th>id_1</th>\n",
              "      <th>id_2</th>\n",
              "      <th>Score</th>\n",
              "      <th>ACM_lookup</th>\n",
              "      <th>DBLP_lookup</th>\n",
              "    </tr>\n",
              "  </thead>\n",
              "  <tbody>\n",
              "    <tr>\n",
              "      <th>23</th>\n",
              "      <td>671327</td>\n",
              "      <td>conf/vldb/Johnson99</td>\n",
              "      <td>2.0</td>\n",
              "      <td>Performance Measurements of Tertiary Storage D...</td>\n",
              "      <td>Performance Measurements of Compressed Bitmap ...</td>\n",
              "    </tr>\n",
              "    <tr>\n",
              "      <th>55</th>\n",
              "      <td>375680</td>\n",
              "      <td>journals/tods/ChakrabartiKMP02</td>\n",
              "      <td>2.0</td>\n",
              "      <td>Locally adaptive dimensionality reduction for ...</td>\n",
              "      <td>Locally adaptive dimensionality reduction for ...</td>\n",
              "    </tr>\n",
              "    <tr>\n",
              "      <th>61</th>\n",
              "      <td>603881</td>\n",
              "      <td>journals/sigmod/RossFS02</td>\n",
              "      <td>2.0</td>\n",
              "      <td>Influential papers_Ken Ross_ACM SIGMOD Record ...</td>\n",
              "      <td>Reminiscences on Influential Papers_Kenneth A....</td>\n",
              "    </tr>\n",
              "    <tr>\n",
              "      <th>62</th>\n",
              "      <td>603881</td>\n",
              "      <td>journals/sigmod/RossAA02</td>\n",
              "      <td>2.0</td>\n",
              "      <td>Influential papers_Ken Ross_ACM SIGMOD Record ...</td>\n",
              "      <td>Reminiscences on Influential Papers_Kenneth A....</td>\n",
              "    </tr>\n",
              "    <tr>\n",
              "      <th>63</th>\n",
              "      <td>603882</td>\n",
              "      <td>journals/sigmod/RossFS02</td>\n",
              "      <td>3.0</td>\n",
              "      <td>Reminiscences on influential papers_Kenneth A....</td>\n",
              "      <td>Reminiscences on Influential Papers_Kenneth A....</td>\n",
              "    </tr>\n",
              "    <tr>\n",
              "      <th>...</th>\n",
              "      <td>...</td>\n",
              "      <td>...</td>\n",
              "      <td>...</td>\n",
              "      <td>...</td>\n",
              "      <td>...</td>\n",
              "    </tr>\n",
              "    <tr>\n",
              "      <th>38913</th>\n",
              "      <td>507368</td>\n",
              "      <td>journals/sigmod/LabrinidisM01</td>\n",
              "      <td>2.0</td>\n",
              "      <td>Career forum_Alexandros Labrinidis_ACM SIGMOD ...</td>\n",
              "      <td>Career-Enhancing Services at SIGMOD Online_Ale...</td>\n",
              "    </tr>\n",
              "    <tr>\n",
              "      <th>38914</th>\n",
              "      <td>507368</td>\n",
              "      <td>journals/sigmod/Labrinidis01</td>\n",
              "      <td>2.0</td>\n",
              "      <td>Career forum_Alexandros Labrinidis_ACM SIGMOD ...</td>\n",
              "      <td>Introduction to the Career Forum Column_Alexan...</td>\n",
              "    </tr>\n",
              "    <tr>\n",
              "      <th>38938</th>\n",
              "      <td>637432</td>\n",
              "      <td>journals/sigmod/MeltonE01</td>\n",
              "      <td>2.0</td>\n",
              "      <td>Standards_Jim Melton_ACM SIGMOD Record _2002</td>\n",
              "      <td>SQL Multimedia and Application Packages (SQL/M...</td>\n",
              "    </tr>\n",
              "    <tr>\n",
              "      <th>38939</th>\n",
              "      <td>637432</td>\n",
              "      <td>journals/sigmod/EisenbergM01</td>\n",
              "      <td>2.0</td>\n",
              "      <td>Standards_Jim Melton_ACM SIGMOD Record _2002</td>\n",
              "      <td>SQL/XML and the SQLX Informal Group of Compani...</td>\n",
              "    </tr>\n",
              "    <tr>\n",
              "      <th>39013</th>\n",
              "      <td>950483</td>\n",
              "      <td>conf/vldb/RamamurthyDS02</td>\n",
              "      <td>2.0</td>\n",
              "      <td>A case for fractured mirrors_Ravishankar Ramam...</td>\n",
              "      <td>A Case for Fractured Mirrors_Ravishankar Ramam...</td>\n",
              "    </tr>\n",
              "  </tbody>\n",
              "</table>\n",
              "<p>5212 rows × 5 columns</p>\n",
              "</div>"
            ],
            "text/plain": [
              "         id_1  ...                                        DBLP_lookup\n",
              "23     671327  ...  Performance Measurements of Compressed Bitmap ...\n",
              "55     375680  ...  Locally adaptive dimensionality reduction for ...\n",
              "61     603881  ...  Reminiscences on Influential Papers_Kenneth A....\n",
              "62     603881  ...  Reminiscences on Influential Papers_Kenneth A....\n",
              "63     603882  ...  Reminiscences on Influential Papers_Kenneth A....\n",
              "...       ...  ...                                                ...\n",
              "38913  507368  ...  Career-Enhancing Services at SIGMOD Online_Ale...\n",
              "38914  507368  ...  Introduction to the Career Forum Column_Alexan...\n",
              "38938  637432  ...  SQL Multimedia and Application Packages (SQL/M...\n",
              "38939  637432  ...  SQL/XML and the SQLX Informal Group of Compani...\n",
              "39013  950483  ...  A Case for Fractured Mirrors_Ravishankar Ramam...\n",
              "\n",
              "[5212 rows x 5 columns]"
            ]
          },
          "metadata": {},
          "execution_count": 114
        }
      ]
    },
    {
      "cell_type": "code",
      "metadata": {
        "id": "0Hyf3zARJRDI"
      },
      "source": [
        "final_merge[indices][['id_1', 'id_2']].to_csv('recordlinkageSRTNGHBRmatches.csv', \n",
        "                                              index=False, header=['idACM', 'idDBLP'])"
      ],
      "execution_count": null,
      "outputs": []
    },
    {
      "cell_type": "markdown",
      "metadata": {
        "id": "WnS7QLXCKdGb"
      },
      "source": [
        "## Performance of different approaches"
      ]
    },
    {
      "cell_type": "markdown",
      "metadata": {
        "id": "ztnWgpW3Jvne"
      },
      "source": [
        "Let's compare performances of fuzzymatcher and recordlinkage with perfect matches."
      ]
    },
    {
      "cell_type": "code",
      "metadata": {
        "id": "JDRkAzJoKHVV"
      },
      "source": [
        "# perfect matches\n",
        "perfect_mapping = pd.read_csv('perfectMapping.csv')\n",
        "\n",
        "# fuzzymatcher\n",
        "#fuzzy_matches = pd.read_csv('fuzzymatches.csv')\n",
        "\n",
        "# recordlinkage\n",
        "#rl_full_matches = pd.read_csv('recordlinkageFULLmatches.csv')\n",
        "#rl_block_matches = pd.read_csv('recordlinkageBLOCKmatches.csv')\n",
        "#rl_srtnghbr_matches = pd.read_csv('recordlinkageSRTNGHBRmatches.csv')"
      ],
      "execution_count": null,
      "outputs": []
    },
    {
      "cell_type": "markdown",
      "metadata": {
        "id": "hgAh3_DyNQVP"
      },
      "source": [
        "First, we'll check if matches contain duplicated ids."
      ]
    },
    {
      "cell_type": "code",
      "metadata": {
        "colab": {
          "base_uri": "https://localhost:8080/"
        },
        "id": "t7_0AwMLMwv7",
        "outputId": "e704f900-e683-4b97-cd4b-44009156129d"
      },
      "source": [
        "fuzzy_dps = len(fuzzy_matches) - len(fuzzy_matches['idDBLP'].unique())\n",
        "rl_full_dps = len(rl_full_matches) - len(rl_full_matches['idDBLP'].unique())\n",
        "rl_block_dps = len(rl_block_matches) - len(rl_block_matches['idDBLP'].unique())\n",
        "rl_srtnghbr_dps = len(rl_srtnghbr_matches) - len(rl_srtnghbr_matches['idDBLP'].unique())\n",
        "\n",
        "print('ID duplicates')\n",
        "print(f'fuzzy: {fuzzy_dps}')\n",
        "print(f'record linkage full: {rl_full_dps}')\n",
        "print(f'record linkage block: {rl_block_dps}')\n",
        "print(f'record linkage sorted neighbourhood: {rl_srtnghbr_dps}')"
      ],
      "execution_count": null,
      "outputs": [
        {
          "output_type": "stream",
          "name": "stdout",
          "text": [
            "ID duplicates\n",
            "fuzzy: 31\n",
            "record linkage full: 2074\n",
            "record linkage block: 2851\n",
            "record linkage sorted neighbourhood: 2886\n"
          ]
        }
      ]
    },
    {
      "cell_type": "markdown",
      "source": [
        "We can see that some ids in the DBLP dataset were matched with multiple ids in the ACM dataset. Matches that were made using record linkage have a lot id duplicates, which would distort our performance metrics, so we will remove the duplicates to have ids matched only once. Matched records achieved the highest matching scores, so we will not pay attention to which of the duplicates we will remove."
      ],
      "metadata": {
        "id": "QV9blBPu7rVY"
      }
    },
    {
      "cell_type": "code",
      "source": [
        "fuzzy_matches = fuzzy_matches.drop_duplicates('idDBLP')\n",
        "rl_full_matches = rl_full_matches.drop_duplicates('idDBLP')\n",
        "rl_block_matches = rl_block_matches.drop_duplicates('idDBLP')\n",
        "rl_srtnghbr_matches = rl_srtnghbr_matches.drop_duplicates('idDBLP')"
      ],
      "metadata": {
        "id": "cMzCR_mPyUXR"
      },
      "execution_count": null,
      "outputs": []
    },
    {
      "cell_type": "code",
      "source": [
        "fuzzy_correct_matches = fuzzy_matches.merge(perfect_mapping, on=['idDBLP', 'idACM'], how='inner')\n",
        "rl_full_correct_matches = rl_full_matches.merge(perfect_mapping, on=['idDBLP', 'idACM'], how='inner')\n",
        "rl_block_correct_matches = rl_block_matches.merge(perfect_mapping, on=['idDBLP', 'idACM'], how='inner')\n",
        "rl_srtnghbr_correct_matches = rl_srtnghbr_matches.merge(perfect_mapping, on=['idDBLP', 'idACM'], how='inner')"
      ],
      "metadata": {
        "id": "fTpQ7NF7-8lj"
      },
      "execution_count": null,
      "outputs": []
    },
    {
      "cell_type": "code",
      "source": [
        "precision = len(fuzzy_correct_matches) / len(fuzzy_matches)\n",
        "recall = len(fuzzy_correct_matches) / len(perfect_mapping)\n",
        "f1 = 2 * (precision * recall) / (precision + recall)\n",
        "\n",
        "print(\"Fuzzy Matcher performance:\")\n",
        "print(f'precision: {precision}')\n",
        "print(f'recall: {recall}')\n",
        "print(f'f1: {f1}')"
      ],
      "metadata": {
        "colab": {
          "base_uri": "https://localhost:8080/"
        },
        "id": "XkUqpbP6W90L",
        "outputId": "cedf31eb-3248-4d3d-a316-912ea324a59a"
      },
      "execution_count": null,
      "outputs": [
        {
          "output_type": "stream",
          "name": "stdout",
          "text": [
            "Fuzzy Matcher performance:\n",
            "precision: 0.9927239654388358\n",
            "recall: 0.9815647482014388\n",
            "f1: 0.9871128193533801\n"
          ]
        }
      ]
    },
    {
      "cell_type": "code",
      "metadata": {
        "colab": {
          "base_uri": "https://localhost:8080/"
        },
        "id": "x_92xcoLO5oH",
        "outputId": "998a2247-dcdf-40fc-ae56-df94a0c247b6"
      },
      "source": [
        "precision = len(rl_full_correct_matches) / len(rl_full_matches)\n",
        "recall = len(rl_full_correct_matches) / len(perfect_mapping)\n",
        "f1 = 2 * (precision * recall) / (precision + recall)\n",
        "\n",
        "print(\"Record Linkage full indexing performance:\")\n",
        "print(f'precision: {precision}')\n",
        "print(f'recall: {recall}')\n",
        "print(f'f1: {f1}')"
      ],
      "execution_count": null,
      "outputs": [
        {
          "output_type": "stream",
          "name": "stdout",
          "text": [
            "Record Linkage full indexing performance:\n",
            "precision: 0.8101374570446735\n",
            "recall: 0.8480215827338129\n",
            "f1: 0.828646748681898\n"
          ]
        }
      ]
    },
    {
      "cell_type": "code",
      "metadata": {
        "id": "o4JW10roPbhL",
        "colab": {
          "base_uri": "https://localhost:8080/"
        },
        "outputId": "410b2f37-02a0-4f56-d162-54c256464182"
      },
      "source": [
        "precision = len(rl_block_correct_matches) / len(rl_block_matches)\n",
        "recall = len(rl_block_correct_matches) / len(perfect_mapping)\n",
        "f1 = 2 * (precision * recall) / (precision + recall)\n",
        "\n",
        "print(\"Record Linkage block indexing performance:\")\n",
        "print(f'precision: {precision}')\n",
        "print(f'recall: {recall}')\n",
        "print(f'f1: {f1}')"
      ],
      "execution_count": null,
      "outputs": [
        {
          "output_type": "stream",
          "name": "stdout",
          "text": [
            "Record Linkage block indexing performance:\n",
            "precision: 0.8114507102884202\n",
            "recall: 0.8475719424460432\n",
            "f1: 0.8291180998460523\n"
          ]
        }
      ]
    },
    {
      "cell_type": "code",
      "source": [
        "precision = len(rl_srtnghbr_correct_matches) / len(rl_srtnghbr_matches)\n",
        "recall = len(rl_srtnghbr_correct_matches) / len(perfect_mapping)\n",
        "f1 = 2 * (precision * recall) / (precision + recall)\n",
        "\n",
        "print(\"Record Linkage sorted neighbourhood indexing performance:\")\n",
        "print(f'precision: {precision}')\n",
        "print(f'recall: {recall}')\n",
        "print(f'f1: {f1}')"
      ],
      "metadata": {
        "colab": {
          "base_uri": "https://localhost:8080/"
        },
        "id": "fahNF-vpjEtU",
        "outputId": "eb5cf074-9bb5-444f-8337-3a7c29cfd179"
      },
      "execution_count": null,
      "outputs": [
        {
          "output_type": "stream",
          "name": "stdout",
          "text": [
            "Record Linkage sorted neighbourhood indexing performance:\n",
            "precision: 0.8082545141874462\n",
            "recall: 0.8453237410071942\n",
            "f1: 0.8263736263736263\n"
          ]
        }
      ]
    },
    {
      "cell_type": "markdown",
      "source": [
        "We can see that we have achieved very good scores using both Record Linkage and Fuzzy Matcher packages. However, there is still a noticeable difference - Fuzzy Matcher achieved an outstanding precision of around 0.99, 0.98 recall and 0.99 f1 score, which is around 0.18, 0.14 and 0.16 higher, respectively, than records matched using Record Linkage methods. <br><br> Between three indexing methods of Record Linkage matching, block indexing achieved the highest precision (i.e. 0.811) and f1 score (i.e. 0.829) while full indexing achieved the highest recall (i.e. 0.848), although the differences are comparatively small. Even though the performance differences between indexing methods are insignificant, time consumption varies substantially - full indexing took 130 seconds to complete, block indexing took 13 seconds and sorted neighbourhood took 36 seconds. Taken into account time consumption and performance, we can conclude that for this specific data linkage problem block indexing is the best option out of three indexing methods. <br><br> Let's go back and try changing the parameters of block indexing method and check the results."
      ],
      "metadata": {
        "id": "0J_6jt5FoL4h"
      }
    },
    {
      "cell_type": "markdown",
      "source": [
        "With parameters: <br>\n",
        "authors: jaro, title: levensthein, venue: jaro-wrinkler"
      ],
      "metadata": {
        "id": "vgbJWi8M_rKq"
      }
    },
    {
      "cell_type": "code",
      "source": [
        "rl_block_updated_matches = pd.read_csv('recordlinkageBLOCKmatchesUPDATED.csv')"
      ],
      "metadata": {
        "id": "sERp4TAKi6Og"
      },
      "execution_count": null,
      "outputs": []
    },
    {
      "cell_type": "code",
      "source": [
        "rl_block_updated_matches = rl_block_updated_matches.drop_duplicates('idDBLP')\n",
        "rl_block_updated_correct_matches = rl_block_updated_matches.merge(perfect_mapping, on=['idDBLP', 'idACM'], how='inner')"
      ],
      "metadata": {
        "id": "E4Z36LSsjIxP"
      },
      "execution_count": null,
      "outputs": []
    },
    {
      "cell_type": "code",
      "source": [
        "precision = len(rl_block_updated_correct_matches) / len(rl_block_updated_matches)\n",
        "recall = len(rl_block_updated_correct_matches) / len(perfect_mapping)\n",
        "f1 = 2 * (precision * recall) / (precision + recall)\n",
        "\n",
        "print(\"Record Linkage block indexing with different parameters performance:\")\n",
        "print(f'precision: {precision}')\n",
        "print(f'recall: {recall}')\n",
        "print(f'f1: {f1}')"
      ],
      "metadata": {
        "colab": {
          "base_uri": "https://localhost:8080/"
        },
        "id": "9vTJoUj9jUfA",
        "outputId": "2fbfef6c-e47e-4ea7-9926-7b343c15d559"
      },
      "execution_count": null,
      "outputs": [
        {
          "output_type": "stream",
          "name": "stdout",
          "text": [
            "Record Linkage block indexing with different parameters performance:\n",
            "precision: 0.8206778206778207\n",
            "recall: 0.8601618705035972\n",
            "f1: 0.8399560922063667\n"
          ]
        }
      ]
    },
    {
      "cell_type": "markdown",
      "source": [
        "Let's check the results with different parameters again. (authors: q-gram, title: jarowrinkler, venue: q-gram)"
      ],
      "metadata": {
        "id": "HOHnkmBF_Ngf"
      }
    },
    {
      "cell_type": "code",
      "source": [
        "rl_block_new = pd.read_csv('recordlinkageBLOCKmatchesUPDATED2.csv')"
      ],
      "metadata": {
        "id": "fkCYqSjY90XS"
      },
      "execution_count": null,
      "outputs": []
    },
    {
      "cell_type": "code",
      "source": [
        "rl_block_new = rl_block_new.drop_duplicates('idDBLP')\n",
        "rl_block_new_correct = rl_block_new.merge(perfect_mapping, on=['idDBLP', 'idACM'], how='inner')"
      ],
      "metadata": {
        "id": "0o4n2PO59_sD"
      },
      "execution_count": null,
      "outputs": []
    },
    {
      "cell_type": "code",
      "source": [
        "precision = len(rl_block_new_correct) / len(rl_block_new)\n",
        "recall = len(rl_block_new_correct) / len(perfect_mapping)\n",
        "f1 = 2 * (precision * recall) / (precision + recall)\n",
        "\n",
        "print(\"Record Linkage block indexing with different parameters performance:\")\n",
        "print(f'precision: {precision}')\n",
        "print(f'recall: {recall}')\n",
        "print(f'f1: {f1}')"
      ],
      "metadata": {
        "colab": {
          "base_uri": "https://localhost:8080/"
        },
        "id": "dgGONOqV-S9V",
        "outputId": "f9406bd2-163c-497b-ea94-8ba4b75812aa"
      },
      "execution_count": null,
      "outputs": [
        {
          "output_type": "stream",
          "name": "stdout",
          "text": [
            "Record Linkage block indexing with different parameters performance:\n",
            "precision: 0.9390728476821192\n",
            "recall: 0.9563848920863309\n",
            "f1: 0.9476498106482514\n"
          ]
        }
      ]
    },
    {
      "cell_type": "markdown",
      "source": [
        "Nice! With couple settings changed we managed to achieve even better performance. However, it took 82 seconds to complete the matching, which is 69 seconds longer than with previous parameters, but considering an increase in all three performance metrics, we can say that this one is the most suitable option. <br> <br> We could probably make further improvements by exploring similarity or distance measures and thresholds and we might even reach or at least close the gap to the performance of Fuzzy Matcher, but for now our rankings are:\n",
        "\n",
        "\n",
        "1.   Fuzzy Matcher\n",
        "2.   Record Linkage with block indexing\n",
        "3.   Record Linkage with full / sorted neighbourhood indexing\n",
        "\n",
        "Keep in mind that block indexing worked well for this specific problem, because publication year had to match exactly for the records to be matched, thus reducing search space to the same publication year automatically did the first important step towards correct matches.\n",
        "\n"
      ],
      "metadata": {
        "id": "deMEqsSOj2Bh"
      }
    }
  ]
}